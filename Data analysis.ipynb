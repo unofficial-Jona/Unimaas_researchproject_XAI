{
 "cells": [
  {
   "cell_type": "code",
   "execution_count": 272,
   "outputs": [
    {
     "name": "stdout",
     "output_type": "stream",
     "text": [
      "Requirement already satisfied: tabulate in /Users/jonathanaechtner/anaconda3/lib/python3.8/site-packages (0.8.9)\r\n"
     ]
    }
   ],
   "source": [
    "!pip install tabulate\n"
   ],
   "metadata": {
    "collapsed": false,
    "pycharm": {
     "name": "#%%\n"
    }
   }
  },
  {
   "cell_type": "code",
   "execution_count": 273,
   "metadata": {
    "collapsed": true,
    "jupyter": {
     "outputs_hidden": true
    }
   },
   "outputs": [],
   "source": [
    "import numpy as np\n",
    "import pandas as pd\n",
    "import matplotlib.pyplot as plt\n",
    "import scipy.stats as sc\n",
    "\n",
    "from sklearn.linear_model import LinearRegression\n",
    "\n",
    "np.random.seed(42)"
   ]
  },
  {
   "cell_type": "code",
   "execution_count": 274,
   "metadata": {
    "collapsed": false,
    "jupyter": {
     "outputs_hidden": false
    },
    "pycharm": {
     "name": "#%%\n"
    }
   },
   "outputs": [],
   "source": [
    "df = pd.read_csv('data/Questionnaire to Benchmark Explainable AI Methods.csv')"
   ]
  },
  {
   "cell_type": "code",
   "execution_count": 275,
   "metadata": {
    "collapsed": false,
    "jupyter": {
     "outputs_hidden": false
    },
    "pycharm": {
     "name": "#%%\n"
    }
   },
   "outputs": [],
   "source": [
    "df = df.drop('Timestamp', axis=1)\n",
    "df = df.drop(1, axis=0)"
   ]
  },
  {
   "cell_type": "code",
   "source": [
    "# resolve NAs\n",
    "\n",
    "# resolve numerical NAs first\n",
    "df = df.fillna(df.median())\n",
    "\n",
    "# resolve remaining NAs. Using next valid value to fill gaps\n",
    "df = df.fillna(method='backfill')\n",
    "\n",
    "# check if there are NAs remaining\n",
    "df.dropna().shape == df.shape"
   ],
   "metadata": {
    "collapsed": false,
    "pycharm": {
     "name": "#%%\n"
    }
   },
   "execution_count": 276,
   "outputs": [
    {
     "data": {
      "text/plain": "True"
     },
     "execution_count": 276,
     "metadata": {},
     "output_type": "execute_result"
    }
   ]
  },
  {
   "cell_type": "code",
   "execution_count": 277,
   "metadata": {
    "collapsed": false,
    "jupyter": {
     "outputs_hidden": false
    },
    "pycharm": {
     "name": "#%%\n"
    }
   },
   "outputs": [
    {
     "data": {
      "text/plain": "   Is English your native language?  \\\n0                                No   \n2                                No   \n3                                No   \n4                                No   \n5                                No   \n6                                No   \n7                                No   \n8                                No   \n9                                No   \n10                               No   \n11                               No   \n12                               No   \n13                               No   \n14                               No   \n15                               No   \n16                               No   \n17                               No   \n18                               No   \n19                               No   \n20                               No   \n21                               No   \n22                               No   \n23                               No   \n24                               No   \n25                              Yes   \n26                               No   \n27                               No   \n28                               No   \n29                               No   \n30                               No   \n31                               No   \n32                               No   \n33                               No   \n34                               No   \n35                              Yes   \n36                               No   \n37                              Yes   \n38                               No   \n39                              Yes   \n40                              Yes   \n41                               No   \n42                               No   \n43                               No   \n44                               No   \n45                               No   \n46                               No   \n47                               No   \n48                               No   \n49                               No   \n50                               No   \n51                               No   \n52                               No   \n53                              Yes   \n54                               No   \n\n   In which type of program are you currently enrolled?  \\\n0                                            Bachelor     \n2                                            Bachelor     \n3                                            Bachelor     \n4                                              Master     \n5                                            Graduate     \n6                                            Graduate     \n7                                               Other     \n8                                               Other     \n9                                              Master     \n10                                           Bachelor     \n11                                             Master     \n12                                             Master     \n13                                             Master     \n14                                              Other     \n15                                           Graduate     \n16                                           Graduate     \n17                                           Graduate     \n18                                             Master     \n19                                           Bachelor     \n20                                           Bachelor     \n21                                           Bachelor     \n22                                              Other     \n23                                             Master     \n24                                           Bachelor     \n25                                           Graduate     \n26                                             Master     \n27                                             Master     \n28                                             Master     \n29                                             Master     \n30                                             Master     \n31                                           Bachelor     \n32                                              Other     \n33                                              Other     \n34                                           Bachelor     \n35                                             Master     \n36                                             Master     \n37                                             Master     \n38                                             Master     \n39                                             Master     \n40                                             Master     \n41                                             Master     \n42                                             Master     \n43                                             Master     \n44                                             Master     \n45                                             Master     \n46                                             Master     \n47                                           Bachelor     \n48                                           Bachelor     \n49                                             Master     \n50                                           Bachelor     \n51                                             Master     \n52                                             Master     \n53                                             Master     \n54                                             Master     \n\n   What is your field of study related to?  \\\n0                                    Other   \n2                               Psychology   \n3                               Psychology   \n4                       Economics/Business   \n5                              Engineering   \n6                               Humanities   \n7                         Natural Sciences   \n8                         Natural Sciences   \n9                                      Law   \n10                             Engineering   \n11                      Economics/Business   \n12                             Engineering   \n13                                      AI   \n14                             Engineering   \n15                      Economics/Business   \n16                                Medicine   \n17                                   Other   \n18                        Natural Sciences   \n19                      Economics/Business   \n20                              Humanities   \n21                                   Other   \n22                             Engineering   \n23                            Data Science   \n24                      Economics/Business   \n25                      Economics/Business   \n26                            Data Science   \n27                             Engineering   \n28                                   Other   \n29                              Humanities   \n30                            Data Science   \n31                              Humanities   \n32                              Psychology   \n33                                Medicine   \n34                        Natural Sciences   \n35                                      AI   \n36                                      AI   \n37                                      AI   \n38                            Data Science   \n39                            Data Science   \n40                            Data Science   \n41                                      AI   \n42                                      AI   \n43                            Data Science   \n44                                      AI   \n45                            Data Science   \n46                            Data Science   \n47                             Engineering   \n48                             Engineering   \n49                            Data Science   \n50                      Economics/Business   \n51                                      AI   \n52                            Data Science   \n53                            Data Science   \n54                      Economics/Business   \n\n   In how many courses related to Artificial Intelligence did you participate?  \\\n0                                                   0                            \n2                                                   1                            \n3                                                   0                            \n4                                                   0                            \n5                                                   0                            \n6                                                   0                            \n7                                                   0                            \n8                                                   0                            \n9                                                   0                            \n10                                                  0                            \n11                                                  3                            \n12                                                  0                            \n13                                               Many                            \n14                                                  2                            \n15                                                  0                            \n16                                                  0                            \n17                                                  0                            \n18                                                  0                            \n19                                                  0                            \n20                                                  2                            \n21                                                  0                            \n22                                                  2                            \n23                                               Many                            \n24                                                  0                            \n25                                                  1                            \n26                                                  4                            \n27                                                  0                            \n28                                                  0                            \n29                                                  0                            \n30                                                  3                            \n31                                                  0                            \n32                                                  0                            \n33                                                  0                            \n34                                                  0                            \n35                                               Many                            \n36                                               Many                            \n37                                               Many                            \n38                                               Many                            \n39                                                  4                            \n40                                                  4                            \n41                                               Many                            \n42                                               Many                            \n43                                                  4                            \n44                                               Many                            \n45                                                  4                            \n46                                                  3                            \n47                                                  0                            \n48                                                  0                            \n49                                                  3                            \n50                                                  1                            \n51                                               Many                            \n52                                                  2                            \n53                                               Many                            \n54                                                  0                            \n\n   Have you ever heard of 'Explainable AI' methods?  \\\n0                                                No   \n2                                                No   \n3                                                No   \n4                                               Yes   \n5                                                No   \n6                                                No   \n7                                                No   \n8                                                No   \n9                                                No   \n10                                               No   \n11                                              Yes   \n12                                               No   \n13                                              Yes   \n14                                               No   \n15                                               No   \n16                                               No   \n17                                              Yes   \n18                                               No   \n19                                               No   \n20                                               No   \n21                                               No   \n22                                               No   \n23                                              Yes   \n24                                               No   \n25                                               No   \n26                                               No   \n27                                               No   \n28                                               No   \n29                                               No   \n30                                              Yes   \n31                                               No   \n32                                               No   \n33                                               No   \n34                                               No   \n35                                              Yes   \n36                                              Yes   \n37                                              Yes   \n38                                              Yes   \n39                                              Yes   \n40                                              Yes   \n41                                              Yes   \n42                                              Yes   \n43                                              Yes   \n44                                              Yes   \n45                                              Yes   \n46                                              Yes   \n47                                               No   \n48                                               No   \n49                                              Yes   \n50                                               No   \n51                                              Yes   \n52                                              Yes   \n53                                              Yes   \n54                                              Yes   \n\n    From the explanation I understand how the system makes a decision.  \\\n0                                                 2.0                    \n2                                                 6.0                    \n3                                                 5.0                    \n4                                                 2.0                    \n5                                                 6.0                    \n6                                                 6.0                    \n7                                                 5.0                    \n8                                                 4.0                    \n9                                                 6.0                    \n10                                                4.0                    \n11                                                5.0                    \n12                                                4.0                    \n13                                                6.0                    \n14                                                4.0                    \n15                                                5.0                    \n16                                                7.0                    \n17                                                5.0                    \n18                                                1.0                    \n19                                                5.0                    \n20                                                4.0                    \n21                                                5.0                    \n22                                                4.0                    \n23                                                7.0                    \n24                                                7.0                    \n25                                                6.0                    \n26                                                2.0                    \n27                                                6.0                    \n28                                                5.0                    \n29                                                7.0                    \n30                                                5.0                    \n31                                                6.0                    \n32                                                3.0                    \n33                                                1.0                    \n34                                                4.0                    \n35                                                6.0                    \n36                                                2.0                    \n37                                                6.0                    \n38                                                6.0                    \n39                                                4.0                    \n40                                                3.0                    \n41                                                5.0                    \n42                                                7.0                    \n43                                                2.0                    \n44                                                5.0                    \n45                                                6.0                    \n46                                                5.0                    \n47                                                5.0                    \n48                                                6.0                    \n49                                                5.0                    \n50                                                5.0                    \n51                                                5.0                    \n52                                                6.0                    \n53                                                3.0                    \n54                                                5.0                    \n\n    The explanation is useful to me, for making better decisions or to perform an action.  \\\n0                                                 5.0                                       \n2                                                 5.0                                       \n3                                                 5.0                                       \n4                                                 3.0                                       \n5                                                 5.0                                       \n6                                                 6.0                                       \n7                                                 6.0                                       \n8                                                 5.0                                       \n9                                                 6.0                                       \n10                                                3.0                                       \n11                                                4.0                                       \n12                                                3.0                                       \n13                                                6.0                                       \n14                                                3.0                                       \n15                                                6.0                                       \n16                                                7.0                                       \n17                                                5.0                                       \n18                                                2.0                                       \n19                                                5.0                                       \n20                                                3.0                                       \n21                                                5.0                                       \n22                                                3.0                                       \n23                                                5.0                                       \n24                                                7.0                                       \n25                                                6.0                                       \n26                                                2.0                                       \n27                                                4.0                                       \n28                                                5.0                                       \n29                                                7.0                                       \n30                                                5.0                                       \n31                                                5.0                                       \n32                                                3.0                                       \n33                                                1.0                                       \n34                                                3.0                                       \n35                                                6.0                                       \n36                                                6.0                                       \n37                                                4.0                                       \n38                                                6.0                                       \n39                                                5.0                                       \n40                                                2.0                                       \n41                                                5.0                                       \n42                                                7.0                                       \n43                                                6.0                                       \n44                                                6.0                                       \n45                                                5.0                                       \n46                                                6.0                                       \n47                                                5.0                                       \n48                                                5.0                                       \n49                                                6.0                                       \n50                                                6.0                                       \n51                                                5.0                                       \n52                                                5.0                                       \n53                                                6.0                                       \n54                                                5.0                                       \n\n    The explanation increases my trust in the system.  \\\n0                                                 2.0   \n2                                                 4.0   \n3                                                 7.0   \n4                                                 3.0   \n5                                                 7.0   \n6                                                 6.0   \n7                                                 4.0   \n8                                                 5.0   \n9                                                 4.0   \n10                                                4.0   \n11                                                6.0   \n12                                                4.0   \n13                                                4.0   \n14                                                5.0   \n15                                                5.0   \n16                                                7.0   \n17                                                5.0   \n18                                                2.0   \n19                                                6.0   \n20                                                3.0   \n21                                                5.0   \n22                                                5.0   \n23                                                6.0   \n24                                                6.0   \n25                                                6.0   \n26                                                4.0   \n27                                                5.0   \n28                                                5.0   \n29                                                7.0   \n30                                                6.0   \n31                                                6.0   \n32                                                3.0   \n33                                                1.0   \n34                                                2.0   \n35                                                6.0   \n36                                                1.0   \n37                                                1.0   \n38                                                6.0   \n39                                                3.0   \n40                                                2.0   \n41                                                5.0   \n42                                                7.0   \n43                                                5.0   \n44                                                5.0   \n45                                                6.0   \n46                                                6.0   \n47                                                5.0   \n48                                                6.0   \n49                                                6.0   \n50                                                6.0   \n51                                                6.0   \n52                                                4.0   \n53                                                4.0   \n54                                                5.0   \n\n    The explanation provides sufficient information to explain how the system makes decisions.  \\\n0                                                 4.0                                            \n2                                                 5.0                                            \n3                                                 5.0                                            \n4                                                 3.0                                            \n5                                                 7.0                                            \n6                                                 6.0                                            \n7                                                 5.0                                            \n8                                                 3.0                                            \n9                                                 6.0                                            \n10                                                2.0                                            \n11                                                5.0                                            \n12                                                5.0                                            \n13                                                6.0                                            \n14                                                3.0                                            \n15                                                6.0                                            \n16                                                7.0                                            \n17                                                4.0                                            \n18                                                2.0                                            \n19                                                3.0                                            \n20                                                4.0                                            \n21                                                4.0                                            \n22                                                3.0                                            \n23                                                4.0                                            \n24                                                6.0                                            \n25                                                7.0                                            \n26                                                2.0                                            \n27                                                1.0                                            \n28                                                6.0                                            \n29                                                7.0                                            \n30                                                6.0                                            \n31                                                5.0                                            \n32                                                3.0                                            \n33                                                4.0                                            \n34                                                2.0                                            \n35                                                7.0                                            \n36                                                4.0                                            \n37                                                7.0                                            \n38                                                6.0                                            \n39                                                1.0                                            \n40                                                2.0                                            \n41                                                3.0                                            \n42                                                5.0                                            \n43                                                2.0                                            \n44                                                4.0                                            \n45                                                6.0                                            \n46                                                4.0                                            \n47                                                4.0                                            \n48                                                4.0                                            \n49                                                4.0                                            \n50                                                6.0                                            \n51                                                2.0                                            \n52                                                4.0                                            \n53                                                1.0                                            \n54                                                3.0                                            \n\n    I have a satisfied attitude towards the explanation of the system.  ...  \\\n0                                                 1.0                   ...   \n2                                                 5.0                   ...   \n3                                                 3.0                   ...   \n4                                                 3.0                   ...   \n5                                                 6.0                   ...   \n6                                                 6.0                   ...   \n7                                                 4.0                   ...   \n8                                                 5.0                   ...   \n9                                                 5.0                   ...   \n10                                                3.0                   ...   \n11                                                3.0                   ...   \n12                                                4.0                   ...   \n13                                                5.0                   ...   \n14                                                3.0                   ...   \n15                                                5.0                   ...   \n16                                                7.0                   ...   \n17                                                4.0                   ...   \n18                                                1.0                   ...   \n19                                                4.0                   ...   \n20                                                3.0                   ...   \n21                                                4.0                   ...   \n22                                                3.0                   ...   \n23                                                5.0                   ...   \n24                                                7.0                   ...   \n25                                                6.0                   ...   \n26                                                2.0                   ...   \n27                                                1.0                   ...   \n28                                                6.0                   ...   \n29                                                5.0                   ...   \n30                                                6.0                   ...   \n31                                                4.0                   ...   \n32                                                3.0                   ...   \n33                                                1.0                   ...   \n34                                                2.0                   ...   \n35                                                4.0                   ...   \n36                                                4.0                   ...   \n37                                                4.0                   ...   \n38                                                6.0                   ...   \n39                                                2.0                   ...   \n40                                                2.0                   ...   \n41                                                2.0                   ...   \n42                                                6.0                   ...   \n43                                                2.0                   ...   \n44                                                4.0                   ...   \n45                                                6.0                   ...   \n46                                                5.0                   ...   \n47                                                4.0                   ...   \n48                                                5.0                   ...   \n49                                                5.0                   ...   \n50                                                5.0                   ...   \n51                                                2.0                   ...   \n52                                                5.0                   ...   \n53                                                5.0                   ...   \n54                                                4.0                   ...   \n\n    From the explanation I understand how the system makes a decision..2  \\\n0                                                 2.0                      \n2                                                 5.0                      \n3                                                 2.0                      \n4                                                 4.0                      \n5                                                 1.0                      \n6                                                 6.0                      \n7                                                 2.0                      \n8                                                 6.0                      \n9                                                 1.0                      \n10                                                7.0                      \n11                                                5.0                      \n12                                                4.0                      \n13                                                3.0                      \n14                                                4.0                      \n15                                                5.0                      \n16                                                7.0                      \n17                                                4.0                      \n18                                                1.0                      \n19                                                7.0                      \n20                                                3.0                      \n21                                                3.0                      \n22                                                4.0                      \n23                                                6.0                      \n24                                                3.0                      \n25                                                7.0                      \n26                                                2.0                      \n27                                                4.0                      \n28                                                5.0                      \n29                                                5.0                      \n30                                                6.0                      \n31                                                3.0                      \n32                                                2.0                      \n33                                                1.0                      \n34                                                4.0                      \n35                                                7.0                      \n36                                                5.0                      \n37                                                7.0                      \n38                                                5.0                      \n39                                                4.0                      \n40                                                6.0                      \n41                                                1.0                      \n42                                                5.0                      \n43                                                4.0                      \n44                                                2.0                      \n45                                                4.0                      \n46                                                5.0                      \n47                                                6.0                      \n48                                                1.0                      \n49                                                5.0                      \n50                                                4.0                      \n51                                                6.0                      \n52                                                4.0                      \n53                                                4.0                      \n54                                                2.0                      \n\n    The explanation is useful to me, for making better decisions or to perform an action..2  \\\n0                                                 3.0                                         \n2                                                 5.0                                         \n3                                                 1.0                                         \n4                                                 5.0                                         \n5                                                 1.0                                         \n6                                                 2.0                                         \n7                                                 1.0                                         \n8                                                 5.0                                         \n9                                                 1.0                                         \n10                                                6.0                                         \n11                                                4.0                                         \n12                                                4.0                                         \n13                                                3.0                                         \n14                                                3.0                                         \n15                                                5.0                                         \n16                                                7.0                                         \n17                                                4.0                                         \n18                                                2.0                                         \n19                                                6.0                                         \n20                                                3.0                                         \n21                                                3.0                                         \n22                                                3.0                                         \n23                                                6.0                                         \n24                                                2.0                                         \n25                                                7.0                                         \n26                                                2.0                                         \n27                                                4.0                                         \n28                                                7.0                                         \n29                                                4.0                                         \n30                                                7.0                                         \n31                                                2.0                                         \n32                                                2.0                                         \n33                                                1.0                                         \n34                                                3.0                                         \n35                                                7.0                                         \n36                                                2.0                                         \n37                                                7.0                                         \n38                                                5.0                                         \n39                                                4.0                                         \n40                                                6.0                                         \n41                                                1.0                                         \n42                                                5.0                                         \n43                                                5.0                                         \n44                                                2.0                                         \n45                                                5.0                                         \n46                                                5.0                                         \n47                                                6.0                                         \n48                                                2.0                                         \n49                                                5.0                                         \n50                                                4.0                                         \n51                                                1.0                                         \n52                                                5.0                                         \n53                                                6.0                                         \n54                                                2.0                                         \n\n    The explanation increases my trust in the system..2  \\\n0                                                 1.0     \n2                                                 4.0     \n3                                                 1.0     \n4                                                 4.0     \n5                                                 1.0     \n6                                                 5.0     \n7                                                 2.0     \n8                                                 6.0     \n9                                                 3.0     \n10                                                7.0     \n11                                                5.0     \n12                                                6.0     \n13                                                3.0     \n14                                                3.0     \n15                                                6.0     \n16                                                7.0     \n17                                                4.0     \n18                                                2.0     \n19                                                6.0     \n20                                                2.0     \n21                                                3.0     \n22                                                3.0     \n23                                                6.0     \n24                                                2.0     \n25                                                7.0     \n26                                                2.0     \n27                                                4.0     \n28                                                7.0     \n29                                                3.0     \n30                                                7.0     \n31                                                3.0     \n32                                                2.0     \n33                                                1.0     \n34                                                2.0     \n35                                                7.0     \n36                                                2.0     \n37                                                2.0     \n38                                                5.0     \n39                                                3.0     \n40                                                5.0     \n41                                                1.0     \n42                                                6.0     \n43                                                6.0     \n44                                                2.0     \n45                                                6.0     \n46                                                5.0     \n47                                                6.0     \n48                                                1.0     \n49                                                5.0     \n50                                                5.0     \n51                                                1.0     \n52                                                6.0     \n53                                                1.0     \n54                                                5.0     \n\n    The explanation provides sufficient information to explain how the system makes decisions..2  \\\n0                                                 1.0                                              \n2                                                 5.0                                              \n3                                                 4.0                                              \n4                                                 6.0                                              \n5                                                 1.0                                              \n6                                                 3.0                                              \n7                                                 1.0                                              \n8                                                 5.0                                              \n9                                                 1.0                                              \n10                                                6.0                                              \n11                                                5.0                                              \n12                                                4.0                                              \n13                                                3.0                                              \n14                                                4.0                                              \n15                                                5.0                                              \n16                                                7.0                                              \n17                                                3.0                                              \n18                                                2.0                                              \n19                                                5.0                                              \n20                                                3.0                                              \n21                                                3.0                                              \n22                                                4.0                                              \n23                                                6.0                                              \n24                                                2.0                                              \n25                                                7.0                                              \n26                                                4.0                                              \n27                                                2.0                                              \n28                                                6.0                                              \n29                                                2.0                                              \n30                                                5.0                                              \n31                                                2.0                                              \n32                                                2.0                                              \n33                                                2.0                                              \n34                                                4.0                                              \n35                                                7.0                                              \n36                                                2.0                                              \n37                                                6.0                                              \n38                                                5.0                                              \n39                                                2.0                                              \n40                                                5.0                                              \n41                                                1.0                                              \n42                                                4.0                                              \n43                                                3.0                                              \n44                                                2.0                                              \n45                                                3.0                                              \n46                                                3.0                                              \n47                                                6.0                                              \n48                                                1.0                                              \n49                                                3.0                                              \n50                                                4.0                                              \n51                                                1.0                                              \n52                                                6.0                                              \n53                                                2.0                                              \n54                                                2.0                                              \n\n    I have a satisfied attitude towards the explanation of the system..2  \\\n0                                                 1.0                      \n2                                                 4.0                      \n3                                                 1.0                      \n4                                                 4.0                      \n5                                                 1.0                      \n6                                                 2.0                      \n7                                                 1.0                      \n8                                                 6.0                      \n9                                                 1.0                      \n10                                                7.0                      \n11                                                5.0                      \n12                                                4.0                      \n13                                                3.0                      \n14                                                4.0                      \n15                                                5.0                      \n16                                                7.0                      \n17                                                3.0                      \n18                                                1.0                      \n19                                                5.0                      \n20                                                2.0                      \n21                                                3.0                      \n22                                                4.0                      \n23                                                7.0                      \n24                                                3.0                      \n25                                                7.0                      \n26                                                3.0                      \n27                                                2.0                      \n28                                                6.0                      \n29                                                1.0                      \n30                                                6.0                      \n31                                                2.0                      \n32                                                2.0                      \n33                                                1.0                      \n34                                                3.0                      \n35                                                5.0                      \n36                                                2.0                      \n37                                                5.0                      \n38                                                5.0                      \n39                                                2.0                      \n40                                                6.0                      \n41                                                1.0                      \n42                                                6.0                      \n43                                                4.0                      \n44                                                2.0                      \n45                                                5.0                      \n46                                                3.0                      \n47                                                5.0                      \n48                                                1.0                      \n49                                                3.0                      \n50                                                4.0                      \n51                                                1.0                      \n52                                                4.0                      \n53                                                6.0                      \n54                                                3.0                      \n\n    From the explanation I understand how the system makes a decision..3  \\\n0                                                 1.0                      \n2                                                 6.0                      \n3                                                 6.0                      \n4                                                 4.0                      \n5                                                 7.0                      \n6                                                 6.0                      \n7                                                 6.0                      \n8                                                 4.0                      \n9                                                 6.0                      \n10                                                7.0                      \n11                                                5.0                      \n12                                                6.0                      \n13                                                6.0                      \n14                                                5.0                      \n15                                                6.0                      \n16                                                6.0                      \n17                                                6.0                      \n18                                                2.0                      \n19                                                7.0                      \n20                                                5.0                      \n21                                                6.0                      \n22                                                5.0                      \n23                                                6.0                      \n24                                                7.0                      \n25                                                7.0                      \n26                                                3.0                      \n27                                                6.0                      \n28                                                7.0                      \n29                                                3.0                      \n30                                                6.0                      \n31                                                4.0                      \n32                                                3.0                      \n33                                                3.0                      \n34                                                4.0                      \n35                                                4.0                      \n36                                                6.0                      \n37                                                6.0                      \n38                                                5.0                      \n39                                                2.0                      \n40                                                7.0                      \n41                                                5.0                      \n42                                                7.0                      \n43                                                6.0                      \n44                                                6.0                      \n45                                                7.0                      \n46                                                4.0                      \n47                                                7.0                      \n48                                                6.0                      \n49                                                4.0                      \n50                                                7.0                      \n51                                                1.0                      \n52                                                6.0                      \n53                                                5.0                      \n54                                                7.0                      \n\n    The explanation is useful to me, for making better decisions or to perform an action..3  \\\n0                                                 4.0                                         \n2                                                 6.0                                         \n3                                                 7.0                                         \n4                                                 7.0                                         \n5                                                 7.0                                         \n6                                                 7.0                                         \n7                                                 7.0                                         \n8                                                 4.0                                         \n9                                                 6.0                                         \n10                                                7.0                                         \n11                                                6.0                                         \n12                                                4.0                                         \n13                                                6.0                                         \n14                                                5.0                                         \n15                                                6.0                                         \n16                                                6.0                                         \n17                                                6.0                                         \n18                                                2.0                                         \n19                                                6.0                                         \n20                                                5.0                                         \n21                                                6.0                                         \n22                                                5.0                                         \n23                                                6.0                                         \n24                                                7.0                                         \n25                                                7.0                                         \n26                                                2.0                                         \n27                                                6.0                                         \n28                                                7.0                                         \n29                                                3.0                                         \n30                                                7.0                                         \n31                                                3.0                                         \n32                                                3.0                                         \n33                                                2.0                                         \n34                                                4.0                                         \n35                                                4.0                                         \n36                                                5.0                                         \n37                                                5.0                                         \n38                                                5.0                                         \n39                                                4.0                                         \n40                                                7.0                                         \n41                                                6.0                                         \n42                                                6.0                                         \n43                                                7.0                                         \n44                                                7.0                                         \n45                                                5.0                                         \n46                                                4.0                                         \n47                                                4.0                                         \n48                                                5.0                                         \n49                                                4.0                                         \n50                                                7.0                                         \n51                                                1.0                                         \n52                                                4.0                                         \n53                                                7.0                                         \n54                                                5.0                                         \n\n    The explanation increases my trust in the system..3  \\\n0                                                 2.0     \n2                                                 5.0     \n3                                                 7.0     \n4                                                 6.0     \n5                                                 7.0     \n6                                                 7.0     \n7                                                 6.0     \n8                                                 3.0     \n9                                                 5.0     \n10                                                7.0     \n11                                                4.0     \n12                                                6.0     \n13                                                6.0     \n14                                                5.0     \n15                                                6.0     \n16                                                6.0     \n17                                                5.0     \n18                                                1.0     \n19                                                4.0     \n20                                                4.0     \n21                                                6.0     \n22                                                5.0     \n23                                                5.0     \n24                                                6.0     \n25                                                7.0     \n26                                                1.0     \n27                                                6.0     \n28                                                6.0     \n29                                                3.0     \n30                                                7.0     \n31                                                5.0     \n32                                                3.0     \n33                                                1.0     \n34                                                3.0     \n35                                                4.0     \n36                                                4.0     \n37                                                2.0     \n38                                                5.0     \n39                                                3.0     \n40                                                6.0     \n41                                                4.0     \n42                                                6.0     \n43                                                7.0     \n44                                                6.0     \n45                                                6.0     \n46                                                3.0     \n47                                                6.0     \n48                                                6.0     \n49                                                3.0     \n50                                                6.0     \n51                                                1.0     \n52                                                5.0     \n53                                                6.0     \n54                                                4.0     \n\n    The explanation provides sufficient information to explain how the system makes decisions..3  \\\n0                                                 4.0                                              \n2                                                 6.0                                              \n3                                                 3.0                                              \n4                                                 5.0                                              \n5                                                 7.0                                              \n6                                                 5.0                                              \n7                                                 7.0                                              \n8                                                 3.0                                              \n9                                                 6.0                                              \n10                                                7.0                                              \n11                                                5.0                                              \n12                                                5.0                                              \n13                                                6.0                                              \n14                                                6.0                                              \n15                                                6.0                                              \n16                                                6.0                                              \n17                                                5.0                                              \n18                                                2.0                                              \n19                                                7.0                                              \n20                                                5.0                                              \n21                                                6.0                                              \n22                                                6.0                                              \n23                                                6.0                                              \n24                                                6.0                                              \n25                                                7.0                                              \n26                                                3.0                                              \n27                                                6.0                                              \n28                                                7.0                                              \n29                                                3.0                                              \n30                                                5.0                                              \n31                                                3.0                                              \n32                                                3.0                                              \n33                                                3.0                                              \n34                                                5.0                                              \n35                                                4.0                                              \n36                                                5.0                                              \n37                                                5.0                                              \n38                                                5.0                                              \n39                                                2.0                                              \n40                                                7.0                                              \n41                                                4.0                                              \n42                                                7.0                                              \n43                                                7.0                                              \n44                                                6.0                                              \n45                                                6.0                                              \n46                                                4.0                                              \n47                                                4.0                                              \n48                                                7.0                                              \n49                                                4.0                                              \n50                                                7.0                                              \n51                                                1.0                                              \n52                                                5.0                                              \n53                                                7.0                                              \n54                                                4.0                                              \n\n    I have a satisfied attitude towards the explanation of the system..3  \n0                                                 5.0                     \n2                                                 6.0                     \n3                                                 5.0                     \n4                                                 6.0                     \n5                                                 7.0                     \n6                                                 7.0                     \n7                                                 6.0                     \n8                                                 4.0                     \n9                                                 6.0                     \n10                                                7.0                     \n11                                                5.0                     \n12                                                5.0                     \n13                                                6.0                     \n14                                                5.0                     \n15                                                6.0                     \n16                                                6.0                     \n17                                                6.0                     \n18                                                2.0                     \n19                                                6.0                     \n20                                                4.0                     \n21                                                6.0                     \n22                                                5.0                     \n23                                                7.0                     \n24                                                6.0                     \n25                                                7.0                     \n26                                                3.0                     \n27                                                6.0                     \n28                                                6.0                     \n29                                                3.0                     \n30                                                6.0                     \n31                                                3.0                     \n32                                                3.0                     \n33                                                2.0                     \n34                                                3.0                     \n35                                                4.0                     \n36                                                5.0                     \n37                                                6.0                     \n38                                                5.0                     \n39                                                2.0                     \n40                                                7.0                     \n41                                                4.0                     \n42                                                6.0                     \n43                                                7.0                     \n44                                                7.0                     \n45                                                6.0                     \n46                                                3.0                     \n47                                                4.0                     \n48                                                6.0                     \n49                                                3.0                     \n50                                                7.0                     \n51                                                1.0                     \n52                                                4.0                     \n53                                                7.0                     \n54                                                4.0                     \n\n[54 rows x 25 columns]",
      "text/html": "<div>\n<style scoped>\n    .dataframe tbody tr th:only-of-type {\n        vertical-align: middle;\n    }\n\n    .dataframe tbody tr th {\n        vertical-align: top;\n    }\n\n    .dataframe thead th {\n        text-align: right;\n    }\n</style>\n<table border=\"1\" class=\"dataframe\">\n  <thead>\n    <tr style=\"text-align: right;\">\n      <th></th>\n      <th>Is English your native language?</th>\n      <th>In which type of program are you currently enrolled?</th>\n      <th>What is your field of study related to?</th>\n      <th>In how many courses related to Artificial Intelligence did you participate?</th>\n      <th>Have you ever heard of 'Explainable AI' methods?</th>\n      <th>From the explanation I understand how the system makes a decision.</th>\n      <th>The explanation is useful to me, for making better decisions or to perform an action.</th>\n      <th>The explanation increases my trust in the system.</th>\n      <th>The explanation provides sufficient information to explain how the system makes decisions.</th>\n      <th>I have a satisfied attitude towards the explanation of the system.</th>\n      <th>...</th>\n      <th>From the explanation I understand how the system makes a decision..2</th>\n      <th>The explanation is useful to me, for making better decisions or to perform an action..2</th>\n      <th>The explanation increases my trust in the system..2</th>\n      <th>The explanation provides sufficient information to explain how the system makes decisions..2</th>\n      <th>I have a satisfied attitude towards the explanation of the system..2</th>\n      <th>From the explanation I understand how the system makes a decision..3</th>\n      <th>The explanation is useful to me, for making better decisions or to perform an action..3</th>\n      <th>The explanation increases my trust in the system..3</th>\n      <th>The explanation provides sufficient information to explain how the system makes decisions..3</th>\n      <th>I have a satisfied attitude towards the explanation of the system..3</th>\n    </tr>\n  </thead>\n  <tbody>\n    <tr>\n      <th>0</th>\n      <td>No</td>\n      <td>Bachelor</td>\n      <td>Other</td>\n      <td>0</td>\n      <td>No</td>\n      <td>2.0</td>\n      <td>5.0</td>\n      <td>2.0</td>\n      <td>4.0</td>\n      <td>1.0</td>\n      <td>...</td>\n      <td>2.0</td>\n      <td>3.0</td>\n      <td>1.0</td>\n      <td>1.0</td>\n      <td>1.0</td>\n      <td>1.0</td>\n      <td>4.0</td>\n      <td>2.0</td>\n      <td>4.0</td>\n      <td>5.0</td>\n    </tr>\n    <tr>\n      <th>2</th>\n      <td>No</td>\n      <td>Bachelor</td>\n      <td>Psychology</td>\n      <td>1</td>\n      <td>No</td>\n      <td>6.0</td>\n      <td>5.0</td>\n      <td>4.0</td>\n      <td>5.0</td>\n      <td>5.0</td>\n      <td>...</td>\n      <td>5.0</td>\n      <td>5.0</td>\n      <td>4.0</td>\n      <td>5.0</td>\n      <td>4.0</td>\n      <td>6.0</td>\n      <td>6.0</td>\n      <td>5.0</td>\n      <td>6.0</td>\n      <td>6.0</td>\n    </tr>\n    <tr>\n      <th>3</th>\n      <td>No</td>\n      <td>Bachelor</td>\n      <td>Psychology</td>\n      <td>0</td>\n      <td>No</td>\n      <td>5.0</td>\n      <td>5.0</td>\n      <td>7.0</td>\n      <td>5.0</td>\n      <td>3.0</td>\n      <td>...</td>\n      <td>2.0</td>\n      <td>1.0</td>\n      <td>1.0</td>\n      <td>4.0</td>\n      <td>1.0</td>\n      <td>6.0</td>\n      <td>7.0</td>\n      <td>7.0</td>\n      <td>3.0</td>\n      <td>5.0</td>\n    </tr>\n    <tr>\n      <th>4</th>\n      <td>No</td>\n      <td>Master</td>\n      <td>Economics/Business</td>\n      <td>0</td>\n      <td>Yes</td>\n      <td>2.0</td>\n      <td>3.0</td>\n      <td>3.0</td>\n      <td>3.0</td>\n      <td>3.0</td>\n      <td>...</td>\n      <td>4.0</td>\n      <td>5.0</td>\n      <td>4.0</td>\n      <td>6.0</td>\n      <td>4.0</td>\n      <td>4.0</td>\n      <td>7.0</td>\n      <td>6.0</td>\n      <td>5.0</td>\n      <td>6.0</td>\n    </tr>\n    <tr>\n      <th>5</th>\n      <td>No</td>\n      <td>Graduate</td>\n      <td>Engineering</td>\n      <td>0</td>\n      <td>No</td>\n      <td>6.0</td>\n      <td>5.0</td>\n      <td>7.0</td>\n      <td>7.0</td>\n      <td>6.0</td>\n      <td>...</td>\n      <td>1.0</td>\n      <td>1.0</td>\n      <td>1.0</td>\n      <td>1.0</td>\n      <td>1.0</td>\n      <td>7.0</td>\n      <td>7.0</td>\n      <td>7.0</td>\n      <td>7.0</td>\n      <td>7.0</td>\n    </tr>\n    <tr>\n      <th>6</th>\n      <td>No</td>\n      <td>Graduate</td>\n      <td>Humanities</td>\n      <td>0</td>\n      <td>No</td>\n      <td>6.0</td>\n      <td>6.0</td>\n      <td>6.0</td>\n      <td>6.0</td>\n      <td>6.0</td>\n      <td>...</td>\n      <td>6.0</td>\n      <td>2.0</td>\n      <td>5.0</td>\n      <td>3.0</td>\n      <td>2.0</td>\n      <td>6.0</td>\n      <td>7.0</td>\n      <td>7.0</td>\n      <td>5.0</td>\n      <td>7.0</td>\n    </tr>\n    <tr>\n      <th>7</th>\n      <td>No</td>\n      <td>Other</td>\n      <td>Natural Sciences</td>\n      <td>0</td>\n      <td>No</td>\n      <td>5.0</td>\n      <td>6.0</td>\n      <td>4.0</td>\n      <td>5.0</td>\n      <td>4.0</td>\n      <td>...</td>\n      <td>2.0</td>\n      <td>1.0</td>\n      <td>2.0</td>\n      <td>1.0</td>\n      <td>1.0</td>\n      <td>6.0</td>\n      <td>7.0</td>\n      <td>6.0</td>\n      <td>7.0</td>\n      <td>6.0</td>\n    </tr>\n    <tr>\n      <th>8</th>\n      <td>No</td>\n      <td>Other</td>\n      <td>Natural Sciences</td>\n      <td>0</td>\n      <td>No</td>\n      <td>4.0</td>\n      <td>5.0</td>\n      <td>5.0</td>\n      <td>3.0</td>\n      <td>5.0</td>\n      <td>...</td>\n      <td>6.0</td>\n      <td>5.0</td>\n      <td>6.0</td>\n      <td>5.0</td>\n      <td>6.0</td>\n      <td>4.0</td>\n      <td>4.0</td>\n      <td>3.0</td>\n      <td>3.0</td>\n      <td>4.0</td>\n    </tr>\n    <tr>\n      <th>9</th>\n      <td>No</td>\n      <td>Master</td>\n      <td>Law</td>\n      <td>0</td>\n      <td>No</td>\n      <td>6.0</td>\n      <td>6.0</td>\n      <td>4.0</td>\n      <td>6.0</td>\n      <td>5.0</td>\n      <td>...</td>\n      <td>1.0</td>\n      <td>1.0</td>\n      <td>3.0</td>\n      <td>1.0</td>\n      <td>1.0</td>\n      <td>6.0</td>\n      <td>6.0</td>\n      <td>5.0</td>\n      <td>6.0</td>\n      <td>6.0</td>\n    </tr>\n    <tr>\n      <th>10</th>\n      <td>No</td>\n      <td>Bachelor</td>\n      <td>Engineering</td>\n      <td>0</td>\n      <td>No</td>\n      <td>4.0</td>\n      <td>3.0</td>\n      <td>4.0</td>\n      <td>2.0</td>\n      <td>3.0</td>\n      <td>...</td>\n      <td>7.0</td>\n      <td>6.0</td>\n      <td>7.0</td>\n      <td>6.0</td>\n      <td>7.0</td>\n      <td>7.0</td>\n      <td>7.0</td>\n      <td>7.0</td>\n      <td>7.0</td>\n      <td>7.0</td>\n    </tr>\n    <tr>\n      <th>11</th>\n      <td>No</td>\n      <td>Master</td>\n      <td>Economics/Business</td>\n      <td>3</td>\n      <td>Yes</td>\n      <td>5.0</td>\n      <td>4.0</td>\n      <td>6.0</td>\n      <td>5.0</td>\n      <td>3.0</td>\n      <td>...</td>\n      <td>5.0</td>\n      <td>4.0</td>\n      <td>5.0</td>\n      <td>5.0</td>\n      <td>5.0</td>\n      <td>5.0</td>\n      <td>6.0</td>\n      <td>4.0</td>\n      <td>5.0</td>\n      <td>5.0</td>\n    </tr>\n    <tr>\n      <th>12</th>\n      <td>No</td>\n      <td>Master</td>\n      <td>Engineering</td>\n      <td>0</td>\n      <td>No</td>\n      <td>4.0</td>\n      <td>3.0</td>\n      <td>4.0</td>\n      <td>5.0</td>\n      <td>4.0</td>\n      <td>...</td>\n      <td>4.0</td>\n      <td>4.0</td>\n      <td>6.0</td>\n      <td>4.0</td>\n      <td>4.0</td>\n      <td>6.0</td>\n      <td>4.0</td>\n      <td>6.0</td>\n      <td>5.0</td>\n      <td>5.0</td>\n    </tr>\n    <tr>\n      <th>13</th>\n      <td>No</td>\n      <td>Master</td>\n      <td>AI</td>\n      <td>Many</td>\n      <td>Yes</td>\n      <td>6.0</td>\n      <td>6.0</td>\n      <td>4.0</td>\n      <td>6.0</td>\n      <td>5.0</td>\n      <td>...</td>\n      <td>3.0</td>\n      <td>3.0</td>\n      <td>3.0</td>\n      <td>3.0</td>\n      <td>3.0</td>\n      <td>6.0</td>\n      <td>6.0</td>\n      <td>6.0</td>\n      <td>6.0</td>\n      <td>6.0</td>\n    </tr>\n    <tr>\n      <th>14</th>\n      <td>No</td>\n      <td>Other</td>\n      <td>Engineering</td>\n      <td>2</td>\n      <td>No</td>\n      <td>4.0</td>\n      <td>3.0</td>\n      <td>5.0</td>\n      <td>3.0</td>\n      <td>3.0</td>\n      <td>...</td>\n      <td>4.0</td>\n      <td>3.0</td>\n      <td>3.0</td>\n      <td>4.0</td>\n      <td>4.0</td>\n      <td>5.0</td>\n      <td>5.0</td>\n      <td>5.0</td>\n      <td>6.0</td>\n      <td>5.0</td>\n    </tr>\n    <tr>\n      <th>15</th>\n      <td>No</td>\n      <td>Graduate</td>\n      <td>Economics/Business</td>\n      <td>0</td>\n      <td>No</td>\n      <td>5.0</td>\n      <td>6.0</td>\n      <td>5.0</td>\n      <td>6.0</td>\n      <td>5.0</td>\n      <td>...</td>\n      <td>5.0</td>\n      <td>5.0</td>\n      <td>6.0</td>\n      <td>5.0</td>\n      <td>5.0</td>\n      <td>6.0</td>\n      <td>6.0</td>\n      <td>6.0</td>\n      <td>6.0</td>\n      <td>6.0</td>\n    </tr>\n    <tr>\n      <th>16</th>\n      <td>No</td>\n      <td>Graduate</td>\n      <td>Medicine</td>\n      <td>0</td>\n      <td>No</td>\n      <td>7.0</td>\n      <td>7.0</td>\n      <td>7.0</td>\n      <td>7.0</td>\n      <td>7.0</td>\n      <td>...</td>\n      <td>7.0</td>\n      <td>7.0</td>\n      <td>7.0</td>\n      <td>7.0</td>\n      <td>7.0</td>\n      <td>6.0</td>\n      <td>6.0</td>\n      <td>6.0</td>\n      <td>6.0</td>\n      <td>6.0</td>\n    </tr>\n    <tr>\n      <th>17</th>\n      <td>No</td>\n      <td>Graduate</td>\n      <td>Other</td>\n      <td>0</td>\n      <td>Yes</td>\n      <td>5.0</td>\n      <td>5.0</td>\n      <td>5.0</td>\n      <td>4.0</td>\n      <td>4.0</td>\n      <td>...</td>\n      <td>4.0</td>\n      <td>4.0</td>\n      <td>4.0</td>\n      <td>3.0</td>\n      <td>3.0</td>\n      <td>6.0</td>\n      <td>6.0</td>\n      <td>5.0</td>\n      <td>5.0</td>\n      <td>6.0</td>\n    </tr>\n    <tr>\n      <th>18</th>\n      <td>No</td>\n      <td>Master</td>\n      <td>Natural Sciences</td>\n      <td>0</td>\n      <td>No</td>\n      <td>1.0</td>\n      <td>2.0</td>\n      <td>2.0</td>\n      <td>2.0</td>\n      <td>1.0</td>\n      <td>...</td>\n      <td>1.0</td>\n      <td>2.0</td>\n      <td>2.0</td>\n      <td>2.0</td>\n      <td>1.0</td>\n      <td>2.0</td>\n      <td>2.0</td>\n      <td>1.0</td>\n      <td>2.0</td>\n      <td>2.0</td>\n    </tr>\n    <tr>\n      <th>19</th>\n      <td>No</td>\n      <td>Bachelor</td>\n      <td>Economics/Business</td>\n      <td>0</td>\n      <td>No</td>\n      <td>5.0</td>\n      <td>5.0</td>\n      <td>6.0</td>\n      <td>3.0</td>\n      <td>4.0</td>\n      <td>...</td>\n      <td>7.0</td>\n      <td>6.0</td>\n      <td>6.0</td>\n      <td>5.0</td>\n      <td>5.0</td>\n      <td>7.0</td>\n      <td>6.0</td>\n      <td>4.0</td>\n      <td>7.0</td>\n      <td>6.0</td>\n    </tr>\n    <tr>\n      <th>20</th>\n      <td>No</td>\n      <td>Bachelor</td>\n      <td>Humanities</td>\n      <td>2</td>\n      <td>No</td>\n      <td>4.0</td>\n      <td>3.0</td>\n      <td>3.0</td>\n      <td>4.0</td>\n      <td>3.0</td>\n      <td>...</td>\n      <td>3.0</td>\n      <td>3.0</td>\n      <td>2.0</td>\n      <td>3.0</td>\n      <td>2.0</td>\n      <td>5.0</td>\n      <td>5.0</td>\n      <td>4.0</td>\n      <td>5.0</td>\n      <td>4.0</td>\n    </tr>\n    <tr>\n      <th>21</th>\n      <td>No</td>\n      <td>Bachelor</td>\n      <td>Other</td>\n      <td>0</td>\n      <td>No</td>\n      <td>5.0</td>\n      <td>5.0</td>\n      <td>5.0</td>\n      <td>4.0</td>\n      <td>4.0</td>\n      <td>...</td>\n      <td>3.0</td>\n      <td>3.0</td>\n      <td>3.0</td>\n      <td>3.0</td>\n      <td>3.0</td>\n      <td>6.0</td>\n      <td>6.0</td>\n      <td>6.0</td>\n      <td>6.0</td>\n      <td>6.0</td>\n    </tr>\n    <tr>\n      <th>22</th>\n      <td>No</td>\n      <td>Other</td>\n      <td>Engineering</td>\n      <td>2</td>\n      <td>No</td>\n      <td>4.0</td>\n      <td>3.0</td>\n      <td>5.0</td>\n      <td>3.0</td>\n      <td>3.0</td>\n      <td>...</td>\n      <td>4.0</td>\n      <td>3.0</td>\n      <td>3.0</td>\n      <td>4.0</td>\n      <td>4.0</td>\n      <td>5.0</td>\n      <td>5.0</td>\n      <td>5.0</td>\n      <td>6.0</td>\n      <td>5.0</td>\n    </tr>\n    <tr>\n      <th>23</th>\n      <td>No</td>\n      <td>Master</td>\n      <td>Data Science</td>\n      <td>Many</td>\n      <td>Yes</td>\n      <td>7.0</td>\n      <td>5.0</td>\n      <td>6.0</td>\n      <td>4.0</td>\n      <td>5.0</td>\n      <td>...</td>\n      <td>6.0</td>\n      <td>6.0</td>\n      <td>6.0</td>\n      <td>6.0</td>\n      <td>7.0</td>\n      <td>6.0</td>\n      <td>6.0</td>\n      <td>5.0</td>\n      <td>6.0</td>\n      <td>7.0</td>\n    </tr>\n    <tr>\n      <th>24</th>\n      <td>No</td>\n      <td>Bachelor</td>\n      <td>Economics/Business</td>\n      <td>0</td>\n      <td>No</td>\n      <td>7.0</td>\n      <td>7.0</td>\n      <td>6.0</td>\n      <td>6.0</td>\n      <td>7.0</td>\n      <td>...</td>\n      <td>3.0</td>\n      <td>2.0</td>\n      <td>2.0</td>\n      <td>2.0</td>\n      <td>3.0</td>\n      <td>7.0</td>\n      <td>7.0</td>\n      <td>6.0</td>\n      <td>6.0</td>\n      <td>6.0</td>\n    </tr>\n    <tr>\n      <th>25</th>\n      <td>Yes</td>\n      <td>Graduate</td>\n      <td>Economics/Business</td>\n      <td>1</td>\n      <td>No</td>\n      <td>6.0</td>\n      <td>6.0</td>\n      <td>6.0</td>\n      <td>7.0</td>\n      <td>6.0</td>\n      <td>...</td>\n      <td>7.0</td>\n      <td>7.0</td>\n      <td>7.0</td>\n      <td>7.0</td>\n      <td>7.0</td>\n      <td>7.0</td>\n      <td>7.0</td>\n      <td>7.0</td>\n      <td>7.0</td>\n      <td>7.0</td>\n    </tr>\n    <tr>\n      <th>26</th>\n      <td>No</td>\n      <td>Master</td>\n      <td>Data Science</td>\n      <td>4</td>\n      <td>No</td>\n      <td>2.0</td>\n      <td>2.0</td>\n      <td>4.0</td>\n      <td>2.0</td>\n      <td>2.0</td>\n      <td>...</td>\n      <td>2.0</td>\n      <td>2.0</td>\n      <td>2.0</td>\n      <td>4.0</td>\n      <td>3.0</td>\n      <td>3.0</td>\n      <td>2.0</td>\n      <td>1.0</td>\n      <td>3.0</td>\n      <td>3.0</td>\n    </tr>\n    <tr>\n      <th>27</th>\n      <td>No</td>\n      <td>Master</td>\n      <td>Engineering</td>\n      <td>0</td>\n      <td>No</td>\n      <td>6.0</td>\n      <td>4.0</td>\n      <td>5.0</td>\n      <td>1.0</td>\n      <td>1.0</td>\n      <td>...</td>\n      <td>4.0</td>\n      <td>4.0</td>\n      <td>4.0</td>\n      <td>2.0</td>\n      <td>2.0</td>\n      <td>6.0</td>\n      <td>6.0</td>\n      <td>6.0</td>\n      <td>6.0</td>\n      <td>6.0</td>\n    </tr>\n    <tr>\n      <th>28</th>\n      <td>No</td>\n      <td>Master</td>\n      <td>Other</td>\n      <td>0</td>\n      <td>No</td>\n      <td>5.0</td>\n      <td>5.0</td>\n      <td>5.0</td>\n      <td>6.0</td>\n      <td>6.0</td>\n      <td>...</td>\n      <td>5.0</td>\n      <td>7.0</td>\n      <td>7.0</td>\n      <td>6.0</td>\n      <td>6.0</td>\n      <td>7.0</td>\n      <td>7.0</td>\n      <td>6.0</td>\n      <td>7.0</td>\n      <td>6.0</td>\n    </tr>\n    <tr>\n      <th>29</th>\n      <td>No</td>\n      <td>Master</td>\n      <td>Humanities</td>\n      <td>0</td>\n      <td>No</td>\n      <td>7.0</td>\n      <td>7.0</td>\n      <td>7.0</td>\n      <td>7.0</td>\n      <td>5.0</td>\n      <td>...</td>\n      <td>5.0</td>\n      <td>4.0</td>\n      <td>3.0</td>\n      <td>2.0</td>\n      <td>1.0</td>\n      <td>3.0</td>\n      <td>3.0</td>\n      <td>3.0</td>\n      <td>3.0</td>\n      <td>3.0</td>\n    </tr>\n    <tr>\n      <th>30</th>\n      <td>No</td>\n      <td>Master</td>\n      <td>Data Science</td>\n      <td>3</td>\n      <td>Yes</td>\n      <td>5.0</td>\n      <td>5.0</td>\n      <td>6.0</td>\n      <td>6.0</td>\n      <td>6.0</td>\n      <td>...</td>\n      <td>6.0</td>\n      <td>7.0</td>\n      <td>7.0</td>\n      <td>5.0</td>\n      <td>6.0</td>\n      <td>6.0</td>\n      <td>7.0</td>\n      <td>7.0</td>\n      <td>5.0</td>\n      <td>6.0</td>\n    </tr>\n    <tr>\n      <th>31</th>\n      <td>No</td>\n      <td>Bachelor</td>\n      <td>Humanities</td>\n      <td>0</td>\n      <td>No</td>\n      <td>6.0</td>\n      <td>5.0</td>\n      <td>6.0</td>\n      <td>5.0</td>\n      <td>4.0</td>\n      <td>...</td>\n      <td>3.0</td>\n      <td>2.0</td>\n      <td>3.0</td>\n      <td>2.0</td>\n      <td>2.0</td>\n      <td>4.0</td>\n      <td>3.0</td>\n      <td>5.0</td>\n      <td>3.0</td>\n      <td>3.0</td>\n    </tr>\n    <tr>\n      <th>32</th>\n      <td>No</td>\n      <td>Other</td>\n      <td>Psychology</td>\n      <td>0</td>\n      <td>No</td>\n      <td>3.0</td>\n      <td>3.0</td>\n      <td>3.0</td>\n      <td>3.0</td>\n      <td>3.0</td>\n      <td>...</td>\n      <td>2.0</td>\n      <td>2.0</td>\n      <td>2.0</td>\n      <td>2.0</td>\n      <td>2.0</td>\n      <td>3.0</td>\n      <td>3.0</td>\n      <td>3.0</td>\n      <td>3.0</td>\n      <td>3.0</td>\n    </tr>\n    <tr>\n      <th>33</th>\n      <td>No</td>\n      <td>Other</td>\n      <td>Medicine</td>\n      <td>0</td>\n      <td>No</td>\n      <td>1.0</td>\n      <td>1.0</td>\n      <td>1.0</td>\n      <td>4.0</td>\n      <td>1.0</td>\n      <td>...</td>\n      <td>1.0</td>\n      <td>1.0</td>\n      <td>1.0</td>\n      <td>2.0</td>\n      <td>1.0</td>\n      <td>3.0</td>\n      <td>2.0</td>\n      <td>1.0</td>\n      <td>3.0</td>\n      <td>2.0</td>\n    </tr>\n    <tr>\n      <th>34</th>\n      <td>No</td>\n      <td>Bachelor</td>\n      <td>Natural Sciences</td>\n      <td>0</td>\n      <td>No</td>\n      <td>4.0</td>\n      <td>3.0</td>\n      <td>2.0</td>\n      <td>2.0</td>\n      <td>2.0</td>\n      <td>...</td>\n      <td>4.0</td>\n      <td>3.0</td>\n      <td>2.0</td>\n      <td>4.0</td>\n      <td>3.0</td>\n      <td>4.0</td>\n      <td>4.0</td>\n      <td>3.0</td>\n      <td>5.0</td>\n      <td>3.0</td>\n    </tr>\n    <tr>\n      <th>35</th>\n      <td>Yes</td>\n      <td>Master</td>\n      <td>AI</td>\n      <td>Many</td>\n      <td>Yes</td>\n      <td>6.0</td>\n      <td>6.0</td>\n      <td>6.0</td>\n      <td>7.0</td>\n      <td>4.0</td>\n      <td>...</td>\n      <td>7.0</td>\n      <td>7.0</td>\n      <td>7.0</td>\n      <td>7.0</td>\n      <td>5.0</td>\n      <td>4.0</td>\n      <td>4.0</td>\n      <td>4.0</td>\n      <td>4.0</td>\n      <td>4.0</td>\n    </tr>\n    <tr>\n      <th>36</th>\n      <td>No</td>\n      <td>Master</td>\n      <td>AI</td>\n      <td>Many</td>\n      <td>Yes</td>\n      <td>2.0</td>\n      <td>6.0</td>\n      <td>1.0</td>\n      <td>4.0</td>\n      <td>4.0</td>\n      <td>...</td>\n      <td>5.0</td>\n      <td>2.0</td>\n      <td>2.0</td>\n      <td>2.0</td>\n      <td>2.0</td>\n      <td>6.0</td>\n      <td>5.0</td>\n      <td>4.0</td>\n      <td>5.0</td>\n      <td>5.0</td>\n    </tr>\n    <tr>\n      <th>37</th>\n      <td>Yes</td>\n      <td>Master</td>\n      <td>AI</td>\n      <td>Many</td>\n      <td>Yes</td>\n      <td>6.0</td>\n      <td>4.0</td>\n      <td>1.0</td>\n      <td>7.0</td>\n      <td>4.0</td>\n      <td>...</td>\n      <td>7.0</td>\n      <td>7.0</td>\n      <td>2.0</td>\n      <td>6.0</td>\n      <td>5.0</td>\n      <td>6.0</td>\n      <td>5.0</td>\n      <td>2.0</td>\n      <td>5.0</td>\n      <td>6.0</td>\n    </tr>\n    <tr>\n      <th>38</th>\n      <td>No</td>\n      <td>Master</td>\n      <td>Data Science</td>\n      <td>Many</td>\n      <td>Yes</td>\n      <td>6.0</td>\n      <td>6.0</td>\n      <td>6.0</td>\n      <td>6.0</td>\n      <td>6.0</td>\n      <td>...</td>\n      <td>5.0</td>\n      <td>5.0</td>\n      <td>5.0</td>\n      <td>5.0</td>\n      <td>5.0</td>\n      <td>5.0</td>\n      <td>5.0</td>\n      <td>5.0</td>\n      <td>5.0</td>\n      <td>5.0</td>\n    </tr>\n    <tr>\n      <th>39</th>\n      <td>Yes</td>\n      <td>Master</td>\n      <td>Data Science</td>\n      <td>4</td>\n      <td>Yes</td>\n      <td>4.0</td>\n      <td>5.0</td>\n      <td>3.0</td>\n      <td>1.0</td>\n      <td>2.0</td>\n      <td>...</td>\n      <td>4.0</td>\n      <td>4.0</td>\n      <td>3.0</td>\n      <td>2.0</td>\n      <td>2.0</td>\n      <td>2.0</td>\n      <td>4.0</td>\n      <td>3.0</td>\n      <td>2.0</td>\n      <td>2.0</td>\n    </tr>\n    <tr>\n      <th>40</th>\n      <td>Yes</td>\n      <td>Master</td>\n      <td>Data Science</td>\n      <td>4</td>\n      <td>Yes</td>\n      <td>3.0</td>\n      <td>2.0</td>\n      <td>2.0</td>\n      <td>2.0</td>\n      <td>2.0</td>\n      <td>...</td>\n      <td>6.0</td>\n      <td>6.0</td>\n      <td>5.0</td>\n      <td>5.0</td>\n      <td>6.0</td>\n      <td>7.0</td>\n      <td>7.0</td>\n      <td>6.0</td>\n      <td>7.0</td>\n      <td>7.0</td>\n    </tr>\n    <tr>\n      <th>41</th>\n      <td>No</td>\n      <td>Master</td>\n      <td>AI</td>\n      <td>Many</td>\n      <td>Yes</td>\n      <td>5.0</td>\n      <td>5.0</td>\n      <td>5.0</td>\n      <td>3.0</td>\n      <td>2.0</td>\n      <td>...</td>\n      <td>1.0</td>\n      <td>1.0</td>\n      <td>1.0</td>\n      <td>1.0</td>\n      <td>1.0</td>\n      <td>5.0</td>\n      <td>6.0</td>\n      <td>4.0</td>\n      <td>4.0</td>\n      <td>4.0</td>\n    </tr>\n    <tr>\n      <th>42</th>\n      <td>No</td>\n      <td>Master</td>\n      <td>AI</td>\n      <td>Many</td>\n      <td>Yes</td>\n      <td>7.0</td>\n      <td>7.0</td>\n      <td>7.0</td>\n      <td>5.0</td>\n      <td>6.0</td>\n      <td>...</td>\n      <td>5.0</td>\n      <td>5.0</td>\n      <td>6.0</td>\n      <td>4.0</td>\n      <td>6.0</td>\n      <td>7.0</td>\n      <td>6.0</td>\n      <td>6.0</td>\n      <td>7.0</td>\n      <td>6.0</td>\n    </tr>\n    <tr>\n      <th>43</th>\n      <td>No</td>\n      <td>Master</td>\n      <td>Data Science</td>\n      <td>4</td>\n      <td>Yes</td>\n      <td>2.0</td>\n      <td>6.0</td>\n      <td>5.0</td>\n      <td>2.0</td>\n      <td>2.0</td>\n      <td>...</td>\n      <td>4.0</td>\n      <td>5.0</td>\n      <td>6.0</td>\n      <td>3.0</td>\n      <td>4.0</td>\n      <td>6.0</td>\n      <td>7.0</td>\n      <td>7.0</td>\n      <td>7.0</td>\n      <td>7.0</td>\n    </tr>\n    <tr>\n      <th>44</th>\n      <td>No</td>\n      <td>Master</td>\n      <td>AI</td>\n      <td>Many</td>\n      <td>Yes</td>\n      <td>5.0</td>\n      <td>6.0</td>\n      <td>5.0</td>\n      <td>4.0</td>\n      <td>4.0</td>\n      <td>...</td>\n      <td>2.0</td>\n      <td>2.0</td>\n      <td>2.0</td>\n      <td>2.0</td>\n      <td>2.0</td>\n      <td>6.0</td>\n      <td>7.0</td>\n      <td>6.0</td>\n      <td>6.0</td>\n      <td>7.0</td>\n    </tr>\n    <tr>\n      <th>45</th>\n      <td>No</td>\n      <td>Master</td>\n      <td>Data Science</td>\n      <td>4</td>\n      <td>Yes</td>\n      <td>6.0</td>\n      <td>5.0</td>\n      <td>6.0</td>\n      <td>6.0</td>\n      <td>6.0</td>\n      <td>...</td>\n      <td>4.0</td>\n      <td>5.0</td>\n      <td>6.0</td>\n      <td>3.0</td>\n      <td>5.0</td>\n      <td>7.0</td>\n      <td>5.0</td>\n      <td>6.0</td>\n      <td>6.0</td>\n      <td>6.0</td>\n    </tr>\n    <tr>\n      <th>46</th>\n      <td>No</td>\n      <td>Master</td>\n      <td>Data Science</td>\n      <td>3</td>\n      <td>Yes</td>\n      <td>5.0</td>\n      <td>6.0</td>\n      <td>6.0</td>\n      <td>4.0</td>\n      <td>5.0</td>\n      <td>...</td>\n      <td>5.0</td>\n      <td>5.0</td>\n      <td>5.0</td>\n      <td>3.0</td>\n      <td>3.0</td>\n      <td>4.0</td>\n      <td>4.0</td>\n      <td>3.0</td>\n      <td>4.0</td>\n      <td>3.0</td>\n    </tr>\n    <tr>\n      <th>47</th>\n      <td>No</td>\n      <td>Bachelor</td>\n      <td>Engineering</td>\n      <td>0</td>\n      <td>No</td>\n      <td>5.0</td>\n      <td>5.0</td>\n      <td>5.0</td>\n      <td>4.0</td>\n      <td>4.0</td>\n      <td>...</td>\n      <td>6.0</td>\n      <td>6.0</td>\n      <td>6.0</td>\n      <td>6.0</td>\n      <td>5.0</td>\n      <td>7.0</td>\n      <td>4.0</td>\n      <td>6.0</td>\n      <td>4.0</td>\n      <td>4.0</td>\n    </tr>\n    <tr>\n      <th>48</th>\n      <td>No</td>\n      <td>Bachelor</td>\n      <td>Engineering</td>\n      <td>0</td>\n      <td>No</td>\n      <td>6.0</td>\n      <td>5.0</td>\n      <td>6.0</td>\n      <td>4.0</td>\n      <td>5.0</td>\n      <td>...</td>\n      <td>1.0</td>\n      <td>2.0</td>\n      <td>1.0</td>\n      <td>1.0</td>\n      <td>1.0</td>\n      <td>6.0</td>\n      <td>5.0</td>\n      <td>6.0</td>\n      <td>7.0</td>\n      <td>6.0</td>\n    </tr>\n    <tr>\n      <th>49</th>\n      <td>No</td>\n      <td>Master</td>\n      <td>Data Science</td>\n      <td>3</td>\n      <td>Yes</td>\n      <td>5.0</td>\n      <td>6.0</td>\n      <td>6.0</td>\n      <td>4.0</td>\n      <td>5.0</td>\n      <td>...</td>\n      <td>5.0</td>\n      <td>5.0</td>\n      <td>5.0</td>\n      <td>3.0</td>\n      <td>3.0</td>\n      <td>4.0</td>\n      <td>4.0</td>\n      <td>3.0</td>\n      <td>4.0</td>\n      <td>3.0</td>\n    </tr>\n    <tr>\n      <th>50</th>\n      <td>No</td>\n      <td>Bachelor</td>\n      <td>Economics/Business</td>\n      <td>1</td>\n      <td>No</td>\n      <td>5.0</td>\n      <td>6.0</td>\n      <td>6.0</td>\n      <td>6.0</td>\n      <td>5.0</td>\n      <td>...</td>\n      <td>4.0</td>\n      <td>4.0</td>\n      <td>5.0</td>\n      <td>4.0</td>\n      <td>4.0</td>\n      <td>7.0</td>\n      <td>7.0</td>\n      <td>6.0</td>\n      <td>7.0</td>\n      <td>7.0</td>\n    </tr>\n    <tr>\n      <th>51</th>\n      <td>No</td>\n      <td>Master</td>\n      <td>AI</td>\n      <td>Many</td>\n      <td>Yes</td>\n      <td>5.0</td>\n      <td>5.0</td>\n      <td>6.0</td>\n      <td>2.0</td>\n      <td>2.0</td>\n      <td>...</td>\n      <td>6.0</td>\n      <td>1.0</td>\n      <td>1.0</td>\n      <td>1.0</td>\n      <td>1.0</td>\n      <td>1.0</td>\n      <td>1.0</td>\n      <td>1.0</td>\n      <td>1.0</td>\n      <td>1.0</td>\n    </tr>\n    <tr>\n      <th>52</th>\n      <td>No</td>\n      <td>Master</td>\n      <td>Data Science</td>\n      <td>2</td>\n      <td>Yes</td>\n      <td>6.0</td>\n      <td>5.0</td>\n      <td>4.0</td>\n      <td>4.0</td>\n      <td>5.0</td>\n      <td>...</td>\n      <td>4.0</td>\n      <td>5.0</td>\n      <td>6.0</td>\n      <td>6.0</td>\n      <td>4.0</td>\n      <td>6.0</td>\n      <td>4.0</td>\n      <td>5.0</td>\n      <td>5.0</td>\n      <td>4.0</td>\n    </tr>\n    <tr>\n      <th>53</th>\n      <td>Yes</td>\n      <td>Master</td>\n      <td>Data Science</td>\n      <td>Many</td>\n      <td>Yes</td>\n      <td>3.0</td>\n      <td>6.0</td>\n      <td>4.0</td>\n      <td>1.0</td>\n      <td>5.0</td>\n      <td>...</td>\n      <td>4.0</td>\n      <td>6.0</td>\n      <td>1.0</td>\n      <td>2.0</td>\n      <td>6.0</td>\n      <td>5.0</td>\n      <td>7.0</td>\n      <td>6.0</td>\n      <td>7.0</td>\n      <td>7.0</td>\n    </tr>\n    <tr>\n      <th>54</th>\n      <td>No</td>\n      <td>Master</td>\n      <td>Economics/Business</td>\n      <td>0</td>\n      <td>Yes</td>\n      <td>5.0</td>\n      <td>5.0</td>\n      <td>5.0</td>\n      <td>3.0</td>\n      <td>4.0</td>\n      <td>...</td>\n      <td>2.0</td>\n      <td>2.0</td>\n      <td>5.0</td>\n      <td>2.0</td>\n      <td>3.0</td>\n      <td>7.0</td>\n      <td>5.0</td>\n      <td>4.0</td>\n      <td>4.0</td>\n      <td>4.0</td>\n    </tr>\n  </tbody>\n</table>\n<p>54 rows × 25 columns</p>\n</div>"
     },
     "execution_count": 277,
     "metadata": {},
     "output_type": "execute_result"
    }
   ],
   "source": [
    "df"
   ]
  },
  {
   "cell_type": "code",
   "execution_count": 278,
   "metadata": {
    "collapsed": false,
    "jupyter": {
     "outputs_hidden": false
    },
    "pycharm": {
     "name": "#%%\n"
    }
   },
   "outputs": [],
   "source": [
    "original_column_names = df.columns\n"
   ]
  },
  {
   "cell_type": "code",
   "execution_count": 279,
   "metadata": {
    "collapsed": false,
    "jupyter": {
     "outputs_hidden": false
    },
    "pycharm": {
     "name": "#%%\n"
    }
   },
   "outputs": [
    {
     "ename": "KeyError",
     "evalue": "'[1] not found in axis'",
     "output_type": "error",
     "traceback": [
      "\u001B[0;31m---------------------------------------------------------------------------\u001B[0m",
      "\u001B[0;31mKeyError\u001B[0m                                  Traceback (most recent call last)",
      "\u001B[0;32m<ipython-input-279-50d1ad2e18b6>\u001B[0m in \u001B[0;36m<module>\u001B[0;34m\u001B[0m\n\u001B[1;32m      2\u001B[0m \u001B[0mdf\u001B[0m\u001B[0;34m.\u001B[0m\u001B[0mcolumns\u001B[0m \u001B[0;34m=\u001B[0m \u001B[0mnew_columns\u001B[0m\u001B[0;34m\u001B[0m\u001B[0;34m\u001B[0m\u001B[0m\n\u001B[1;32m      3\u001B[0m \u001B[0mdf\u001B[0m\u001B[0;34m.\u001B[0m\u001B[0mhead\u001B[0m\u001B[0;34m(\u001B[0m\u001B[0;36m15\u001B[0m\u001B[0;34m)\u001B[0m\u001B[0;34m\u001B[0m\u001B[0;34m\u001B[0m\u001B[0m\n\u001B[0;32m----> 4\u001B[0;31m \u001B[0mdf\u001B[0m\u001B[0;34m.\u001B[0m\u001B[0mdrop\u001B[0m\u001B[0;34m(\u001B[0m\u001B[0;36m1\u001B[0m\u001B[0;34m,\u001B[0m \u001B[0maxis\u001B[0m\u001B[0;34m=\u001B[0m\u001B[0;36m0\u001B[0m\u001B[0;34m,\u001B[0m \u001B[0minplace\u001B[0m\u001B[0;34m=\u001B[0m\u001B[0;32mTrue\u001B[0m\u001B[0;34m)\u001B[0m\u001B[0;34m\u001B[0m\u001B[0;34m\u001B[0m\u001B[0m\n\u001B[0m\u001B[1;32m      5\u001B[0m \u001B[0;34m\u001B[0m\u001B[0m\n",
      "\u001B[0;32m~/anaconda3/lib/python3.8/site-packages/pandas/core/frame.py\u001B[0m in \u001B[0;36mdrop\u001B[0;34m(self, labels, axis, index, columns, level, inplace, errors)\u001B[0m\n\u001B[1;32m   3988\u001B[0m                 \u001B[0mweight\u001B[0m  \u001B[0;36m1.0\u001B[0m     \u001B[0;36m0.8\u001B[0m\u001B[0;34m\u001B[0m\u001B[0;34m\u001B[0m\u001B[0m\n\u001B[1;32m   3989\u001B[0m         \"\"\"\n\u001B[0;32m-> 3990\u001B[0;31m         return super().drop(\n\u001B[0m\u001B[1;32m   3991\u001B[0m             \u001B[0mlabels\u001B[0m\u001B[0;34m=\u001B[0m\u001B[0mlabels\u001B[0m\u001B[0;34m,\u001B[0m\u001B[0;34m\u001B[0m\u001B[0;34m\u001B[0m\u001B[0m\n\u001B[1;32m   3992\u001B[0m             \u001B[0maxis\u001B[0m\u001B[0;34m=\u001B[0m\u001B[0maxis\u001B[0m\u001B[0;34m,\u001B[0m\u001B[0;34m\u001B[0m\u001B[0;34m\u001B[0m\u001B[0m\n",
      "\u001B[0;32m~/anaconda3/lib/python3.8/site-packages/pandas/core/generic.py\u001B[0m in \u001B[0;36mdrop\u001B[0;34m(self, labels, axis, index, columns, level, inplace, errors)\u001B[0m\n\u001B[1;32m   3934\u001B[0m         \u001B[0;32mfor\u001B[0m \u001B[0maxis\u001B[0m\u001B[0;34m,\u001B[0m \u001B[0mlabels\u001B[0m \u001B[0;32min\u001B[0m \u001B[0maxes\u001B[0m\u001B[0;34m.\u001B[0m\u001B[0mitems\u001B[0m\u001B[0;34m(\u001B[0m\u001B[0;34m)\u001B[0m\u001B[0;34m:\u001B[0m\u001B[0;34m\u001B[0m\u001B[0;34m\u001B[0m\u001B[0m\n\u001B[1;32m   3935\u001B[0m             \u001B[0;32mif\u001B[0m \u001B[0mlabels\u001B[0m \u001B[0;32mis\u001B[0m \u001B[0;32mnot\u001B[0m \u001B[0;32mNone\u001B[0m\u001B[0;34m:\u001B[0m\u001B[0;34m\u001B[0m\u001B[0;34m\u001B[0m\u001B[0m\n\u001B[0;32m-> 3936\u001B[0;31m                 \u001B[0mobj\u001B[0m \u001B[0;34m=\u001B[0m \u001B[0mobj\u001B[0m\u001B[0;34m.\u001B[0m\u001B[0m_drop_axis\u001B[0m\u001B[0;34m(\u001B[0m\u001B[0mlabels\u001B[0m\u001B[0;34m,\u001B[0m \u001B[0maxis\u001B[0m\u001B[0;34m,\u001B[0m \u001B[0mlevel\u001B[0m\u001B[0;34m=\u001B[0m\u001B[0mlevel\u001B[0m\u001B[0;34m,\u001B[0m \u001B[0merrors\u001B[0m\u001B[0;34m=\u001B[0m\u001B[0merrors\u001B[0m\u001B[0;34m)\u001B[0m\u001B[0;34m\u001B[0m\u001B[0;34m\u001B[0m\u001B[0m\n\u001B[0m\u001B[1;32m   3937\u001B[0m \u001B[0;34m\u001B[0m\u001B[0m\n\u001B[1;32m   3938\u001B[0m         \u001B[0;32mif\u001B[0m \u001B[0minplace\u001B[0m\u001B[0;34m:\u001B[0m\u001B[0;34m\u001B[0m\u001B[0;34m\u001B[0m\u001B[0m\n",
      "\u001B[0;32m~/anaconda3/lib/python3.8/site-packages/pandas/core/generic.py\u001B[0m in \u001B[0;36m_drop_axis\u001B[0;34m(self, labels, axis, level, errors)\u001B[0m\n\u001B[1;32m   3968\u001B[0m                 \u001B[0mnew_axis\u001B[0m \u001B[0;34m=\u001B[0m \u001B[0maxis\u001B[0m\u001B[0;34m.\u001B[0m\u001B[0mdrop\u001B[0m\u001B[0;34m(\u001B[0m\u001B[0mlabels\u001B[0m\u001B[0;34m,\u001B[0m \u001B[0mlevel\u001B[0m\u001B[0;34m=\u001B[0m\u001B[0mlevel\u001B[0m\u001B[0;34m,\u001B[0m \u001B[0merrors\u001B[0m\u001B[0;34m=\u001B[0m\u001B[0merrors\u001B[0m\u001B[0;34m)\u001B[0m\u001B[0;34m\u001B[0m\u001B[0;34m\u001B[0m\u001B[0m\n\u001B[1;32m   3969\u001B[0m             \u001B[0;32melse\u001B[0m\u001B[0;34m:\u001B[0m\u001B[0;34m\u001B[0m\u001B[0;34m\u001B[0m\u001B[0m\n\u001B[0;32m-> 3970\u001B[0;31m                 \u001B[0mnew_axis\u001B[0m \u001B[0;34m=\u001B[0m \u001B[0maxis\u001B[0m\u001B[0;34m.\u001B[0m\u001B[0mdrop\u001B[0m\u001B[0;34m(\u001B[0m\u001B[0mlabels\u001B[0m\u001B[0;34m,\u001B[0m \u001B[0merrors\u001B[0m\u001B[0;34m=\u001B[0m\u001B[0merrors\u001B[0m\u001B[0;34m)\u001B[0m\u001B[0;34m\u001B[0m\u001B[0;34m\u001B[0m\u001B[0m\n\u001B[0m\u001B[1;32m   3971\u001B[0m             \u001B[0mresult\u001B[0m \u001B[0;34m=\u001B[0m \u001B[0mself\u001B[0m\u001B[0;34m.\u001B[0m\u001B[0mreindex\u001B[0m\u001B[0;34m(\u001B[0m\u001B[0;34m**\u001B[0m\u001B[0;34m{\u001B[0m\u001B[0maxis_name\u001B[0m\u001B[0;34m:\u001B[0m \u001B[0mnew_axis\u001B[0m\u001B[0;34m}\u001B[0m\u001B[0;34m)\u001B[0m\u001B[0;34m\u001B[0m\u001B[0;34m\u001B[0m\u001B[0m\n\u001B[1;32m   3972\u001B[0m \u001B[0;34m\u001B[0m\u001B[0m\n",
      "\u001B[0;32m~/anaconda3/lib/python3.8/site-packages/pandas/core/indexes/base.py\u001B[0m in \u001B[0;36mdrop\u001B[0;34m(self, labels, errors)\u001B[0m\n\u001B[1;32m   5016\u001B[0m         \u001B[0;32mif\u001B[0m \u001B[0mmask\u001B[0m\u001B[0;34m.\u001B[0m\u001B[0many\u001B[0m\u001B[0;34m(\u001B[0m\u001B[0;34m)\u001B[0m\u001B[0;34m:\u001B[0m\u001B[0;34m\u001B[0m\u001B[0;34m\u001B[0m\u001B[0m\n\u001B[1;32m   5017\u001B[0m             \u001B[0;32mif\u001B[0m \u001B[0merrors\u001B[0m \u001B[0;34m!=\u001B[0m \u001B[0;34m\"ignore\"\u001B[0m\u001B[0;34m:\u001B[0m\u001B[0;34m\u001B[0m\u001B[0;34m\u001B[0m\u001B[0m\n\u001B[0;32m-> 5018\u001B[0;31m                 \u001B[0;32mraise\u001B[0m \u001B[0mKeyError\u001B[0m\u001B[0;34m(\u001B[0m\u001B[0;34mf\"{labels[mask]} not found in axis\"\u001B[0m\u001B[0;34m)\u001B[0m\u001B[0;34m\u001B[0m\u001B[0;34m\u001B[0m\u001B[0m\n\u001B[0m\u001B[1;32m   5019\u001B[0m             \u001B[0mindexer\u001B[0m \u001B[0;34m=\u001B[0m \u001B[0mindexer\u001B[0m\u001B[0;34m[\u001B[0m\u001B[0;34m~\u001B[0m\u001B[0mmask\u001B[0m\u001B[0;34m]\u001B[0m\u001B[0;34m\u001B[0m\u001B[0;34m\u001B[0m\u001B[0m\n\u001B[1;32m   5020\u001B[0m         \u001B[0;32mreturn\u001B[0m \u001B[0mself\u001B[0m\u001B[0;34m.\u001B[0m\u001B[0mdelete\u001B[0m\u001B[0;34m(\u001B[0m\u001B[0mindexer\u001B[0m\u001B[0;34m)\u001B[0m\u001B[0;34m\u001B[0m\u001B[0;34m\u001B[0m\u001B[0m\n",
      "\u001B[0;31mKeyError\u001B[0m: '[1] not found in axis'"
     ]
    }
   ],
   "source": [
    "new_columns = [f'question {i}' for i in range(1,26)]\n",
    "df.columns = new_columns\n",
    "df.head(15)\n",
    "df.drop(1, axis=0, inplace=True)"
   ]
  },
  {
   "cell_type": "code",
   "execution_count": null,
   "metadata": {
    "collapsed": false,
    "jupyter": {
     "outputs_hidden": false
    },
    "pycharm": {
     "name": "#%%\n"
    }
   },
   "outputs": [],
   "source": [
    "ml_background = df[df['question 4'] >= '2']\n",
    "non_ml_background = df.drop(index=ml_background.index)\n",
    "ml_background.shape, non_ml_background.shape"
   ]
  },
  {
   "cell_type": "markdown",
   "source": [
    "To split the groups according to question 3 use the following code\n",
    "Question 3 asks for the major of the participants.\n",
    "\n",
    "```\n",
    "ml_background = df[df['question 3'] I= 'AI']\n",
    "ml_background = ml_background.append(df[df['question 3'] == 'Data Science'])\n",
    "non_ml_background = df.drop(index=ml_background.index)\n",
    "ml_background.shape, non_ml_background.shape\n",
    "```"
   ],
   "metadata": {
    "collapsed": false,
    "pycharm": {
     "name": "#%% md\n"
    }
   }
  },
  {
   "cell_type": "code",
   "execution_count": null,
   "metadata": {
    "collapsed": false,
    "jupyter": {
     "outputs_hidden": false
    },
    "pycharm": {
     "name": "#%%\n"
    }
   },
   "outputs": [],
   "source": [
    "def get_histo_grid(safe_fig=False):\n",
    "    \"\"\"\n",
    "    This function creates a histogram for each question.\n",
    "    The data is segmented based on ML-Background\n",
    "    @param safe_fig: defines if the figure is saved as .png\n",
    "    @return: None\n",
    "    \"\"\"\n",
    "    fig, axs = plt.subplots(4,5)\n",
    "    fig.set_size_inches(37, 22)\n",
    "\n",
    "    for i in range(6,26):\n",
    "        data = [non_ml_background[f'question {i}'], ml_background[f'question {i}']]\n",
    "        row = (i-6)//5\n",
    "        col = (i-6)%5\n",
    "        # axs[row,col].set_size_inches(18.5, 10.5)\n",
    "        axs[row,col].hist(data, bins=7, histtype='bar',  label=['non_ml_background', 'ml_background'])\n",
    "        axs[row,col].set_title(original_column_names[i-1])\n",
    "        axs[row,col].legend()\n",
    "    # plt.legend()\n",
    "    plt.tight_layout()\n",
    "    if safe_fig:\n",
    "        plt.savefig('data/images/histo_grid')\n",
    "\n",
    "get_histo_grid(safe_fig=True)\n"
   ]
  },
  {
   "cell_type": "markdown",
   "metadata": {},
   "source": [
    "# some regressions\n",
    "\n"
   ]
  },
  {
   "cell_type": "code",
   "execution_count": null,
   "metadata": {
    "collapsed": false,
    "jupyter": {
     "outputs_hidden": false
    },
    "pycharm": {
     "name": "#%%\n"
    }
   },
   "outputs": [],
   "source": [
    "\n",
    "def get_regression_coeff(att_1=None, att_2=None):\n",
    "    \"\"\"\n",
    "    This function returns all linear regression coefficients.\n",
    "    if att_1 and att_2 are specified 1 regression coefficient is returned\n",
    "    @param att_1: column index you want to regress from\n",
    "    @param att_2: column index you want to regress to\n",
    "    @return: one or all regression coefficients\n",
    "    \"\"\"\n",
    "    if att_1 == None and att_2 == None:\n",
    "        coeffs = np.zeros((20,20))\n",
    "        for i in range(5,25):\n",
    "            for j in range(5,25):\n",
    "                X = df.iloc[:,i].values.reshape(-1,1)\n",
    "                Y = df.iloc[:,j].values.reshape(-1,1)\n",
    "\n",
    "                lin_reg = LinearRegression()\n",
    "                lin_reg.fit(X,Y)\n",
    "                coeffs[i-6,j-6] = lin_reg.coef_\n",
    "\n",
    "        return coeffs\n",
    "    else:\n",
    "        X = df.iloc[:,att_1].values.reshape(-1,1)\n",
    "        Y = df.iloc[:,att_2].values.reshape(-1,1)\n",
    "        lin_reg = LinearRegression()\n",
    "        lin_reg.fit(X,Y)\n",
    "\n",
    "        return lin_reg.coef_\n",
    "# get_regression_coeff()\n",
    "\n",
    "\n"
   ]
  },
  {
   "cell_type": "code",
   "execution_count": null,
   "metadata": {
    "collapsed": false,
    "jupyter": {
     "outputs_hidden": false
    },
    "pycharm": {
     "name": "#%%\n"
    }
   },
   "outputs": [],
   "source": [
    "def get_advanced_correlation_info():\n",
    "    \"\"\"\n",
    "    Calculates Perarson correlation and student-t-test for every pair of features.\n",
    "    the third axis is used to differenciate between test, stats-value and p-value\n",
    "    @return: array with shape(20,20,4)\n",
    "        shape(:,:,0) = pearsons correlation coefficient\n",
    "        shape(:,:,1) = two sided p-value\n",
    "        shape(:,:,2) = calculated t-test statistic\n",
    "        shape(:,:,3) = two sided p-value\n",
    "    \"\"\"\n",
    "    coeffs = np.zeros((20,20,4))\n",
    "\n",
    "\n",
    "    # calc Pearson correlation coefficients\n",
    "    for i in range(5,25):\n",
    "        for j in range(5,25):\n",
    "            x = ml_background.iloc[:,i].values\n",
    "            y = non_ml_background.iloc[:,j].values\n",
    "            y = np.random.choice(y, size=len(x))\n",
    "            stats, p = sc.spearmanr(x,y)\n",
    "            coeffs[i-6,j-6, 0] = stats\n",
    "            coeffs[i-6,j-6, 1] = p\n",
    "\n",
    "\n",
    "    # calc student t test coefficients\n",
    "    for i in range(5,25):\n",
    "            for j in range(5,25):\n",
    "                x = ml_background.iloc[:,i].values\n",
    "                y = non_ml_background.iloc[:,j].values\n",
    "                stats, p = sc.ttest_ind(x,y, equal_var=False)\n",
    "                coeffs[i-6,j-6, 2] = stats\n",
    "                coeffs[i-6,j-6, 3] = p\n",
    "\n",
    "\n",
    "    return coeffs\n",
    "\n",
    "# get_advanced_correlation_info()\n"
   ]
  },
  {
   "cell_type": "code",
   "execution_count": null,
   "metadata": {
    "collapsed": false,
    "jupyter": {
     "outputs_hidden": false
    },
    "pycharm": {
     "name": "#%%\n"
    }
   },
   "outputs": [],
   "source": [
    "def visualize_p_values(threshold = 0.05):\n",
    "    \"\"\"\n",
    "    This function turns visualizes the p-values. It transform all p-values above a threshold\n",
    "    every pixel represents a p-value. All colored in white are above the given threshold.\n",
    "    Every pixel that's above the threshold is colored white, all other pixels are black.\n",
    "    @return: figure with 2 images representing p-values.\n",
    "    \"\"\"\n",
    "    fig, ax = plt.subplots(1,2)\n",
    "    coeffs = get_advanced_correlation_info()\n",
    "\n",
    "    coeffs[:,:,1] = np.where(coeffs[:,:,1] > threshold, 0, 1)\n",
    "    ax[0].imshow(coeffs[:,:,1], cmap='binary')\n",
    "    ax[0].set_title('spearman p-value')\n",
    "\n",
    "\n",
    "    coeffs[:,:,3] = np.where(coeffs[:,:,3] > threshold, 0, 1)\n",
    "    ax[1].imshow(coeffs[:,:,3], cmap='binary')\n",
    "    ax[1].set_title('t-test p-value')\n",
    "\n",
    "\n",
    "    return plt.show()\n",
    "\n",
    "visualize_p_values()"
   ]
  },
  {
   "cell_type": "markdown",
   "metadata": {
    "pycharm": {
     "name": "#%% md\n"
    }
   },
   "source": [
    "# Research questions\n",
    "the rest of the document is dedicated to the answers of our research hypothesis\n",
    "\n",
    "## Question 1\n",
    "AI novice users prefer local to global explanations, where preference is defined as an overall higher score?\n",
    "\n"
   ]
  },
  {
   "cell_type": "code",
   "execution_count": null,
   "metadata": {
    "collapsed": false,
    "jupyter": {
     "outputs_hidden": false
    },
    "pycharm": {
     "name": "#%%\n"
    }
   },
   "outputs": [],
   "source": [
    "def get_local_vs_global_hist(drilldown=False, safe_fig=False):\n",
    "    '''\n",
    "    Creates histograms for local vs. global explanations.\n",
    "    @param safe_fig:\n",
    "    @param drilldown:\n",
    "    @return:\n",
    "    '''\n",
    "    if drilldown:\n",
    "        fig,axs = plt.subplots(2,5)\n",
    "        fig.set_size_inches(37, 22)\n",
    "\n",
    "        criteria = ['Understandability', 'Usefulness', 'Trustworthiness', 'Informativeness /sufficiency of detail', 'Satisfaction']\n",
    "        for i, cat in enumerate(['local', 'global']):\n",
    "            for idx, crit in enumerate(criteria):\n",
    "                col1 = i+1 * idx + 6\n",
    "                col2 = i+1 * idx + 11\n",
    "                ml = ml_background.iloc[:,[col1,col2]].values\n",
    "                non_ml = non_ml_background.iloc[:,[col1, col2]].values\n",
    "\n",
    "                ml.reshape(1,ml.shape[0] * ml.shape[1])\n",
    "                non_ml.reshape(1,non_ml.shape[0] * non_ml.shape[1])\n",
    "\n",
    "                data = [non_ml, ml]\n",
    "                axs[i,idx].set_title(cat + \" \" + crit)\n",
    "                axs[i,idx].hist(data, bins=7, histtype='bar',  label=['non_ml_background', 'ml_background'])\n",
    "                axs[i,idx].legend()\n",
    "        if safe_fig:\n",
    "            plt.savefig('data/images/drill_down_local_vs_global')\n",
    "\n",
    "\n",
    "    else:\n",
    "        fig, axs = plt.subplots(1,2)\n",
    "        axs[0].set_title('local explanations')\n",
    "        axs[1].set_title('global explanations')\n",
    "\n",
    "        ml = ml_background.iloc[:,5:15].values\n",
    "        ml.reshape(1,ml.shape[0] * ml.shape[1])\n",
    "        non_ml = non_ml_background.iloc[:,5:15].values\n",
    "        non_ml.reshape(1,non_ml.shape[0] * non_ml.shape[1])\n",
    "        data = [non_ml, ml]\n",
    "\n",
    "        axs[0].hist(data, bins=7, histtype='bar',  label=['non_ml_background', 'ml_background'])\n",
    "        axs[0].legend()\n",
    "\n",
    "        ml = ml_background.iloc[:,15:25].values\n",
    "        ml.reshape(1,ml.shape[0] * ml.shape[1])\n",
    "        non_ml = non_ml_background.iloc[:,15:25].values\n",
    "        non_ml.reshape(1,non_ml.shape[0] * non_ml.shape[1])\n",
    "        data = [non_ml, ml]\n",
    "\n",
    "        axs[1].hist(data, bins=7, histtype='bar',  label=['non_ml_background', 'ml_background'])\n",
    "        axs[1].legend()\n",
    "\n",
    "        plt.tight_layout()\n",
    "        if safe_fig:\n",
    "            plt.savefig('data/images/local_vs_global')\n",
    "        plt.show()\n",
    "\n",
    "get_local_vs_global_hist(drilldown=True, safe_fig=True)\n",
    "\n"
   ]
  },
  {
   "cell_type": "code",
   "execution_count": null,
   "metadata": {
    "collapsed": false,
    "jupyter": {
     "outputs_hidden": false
    },
    "pycharm": {
     "name": "#%%\n"
    }
   },
   "outputs": [],
   "source": [
    "def calculate_statistics(threshold=0.05, dataset=non_ml_background):\n",
    "    '''\n",
    "    This function calculates a statistic to assess if local or global explanations are better.\n",
    "    @param threshold: the threshold applied to the Welch t-test to see if something is counted as significant\n",
    "    @param dataset: the dataset to use.\n",
    "    @return: creates a pandas table with survey criteria as rows and evaluation criteria as columns\n",
    "    '''\n",
    "    vals = np.zeros((5,4))\n",
    "    for idx in range(5):\n",
    "\n",
    "\n",
    "        loc = dataset.iloc[:,idx+5].append(dataset.iloc[:,idx+10])\n",
    "        glo = dataset.iloc[:,idx+15].append(dataset.iloc[:,idx+20])\n",
    "        mean_l = np.mean(loc)\n",
    "        mean_g = np.mean(glo)\n",
    "        glo_greq_loc = mean_l >= mean_g\n",
    "        stat, p = sc.ttest_ind(loc, glo, equal_var=False)\n",
    "        significant = p > threshold\n",
    "\n",
    "        vals[idx,0] = mean_l\n",
    "        vals[idx,1] = mean_g\n",
    "        vals[idx,2] = glo_greq_loc\n",
    "        vals[idx,3] = significant\n",
    "    differences = pd.DataFrame(index=['Understandability', 'Usefulness', 'Trustworthiness', 'Informativeness /sufficiency of detail', 'Satisfaction'],\n",
    "                               columns=['mean_local', 'mean_global', 'local >= global', 'significant (Welch)'], data=vals\n",
    "                               )\n",
    "    return differences\n",
    "\n",
    "calculate_statistics()"
   ]
  },
  {
   "cell_type": "markdown",
   "metadata": {
    "pycharm": {
     "name": "#%% md\n"
    }
   },
   "source": [
    "as we can see from the table above, global explanations seem to perform better than local ones.\n",
    "This goes for all categories except of Trustworthiness.\n",
    "The difference is significant according to a Welch's t-test with threshold = 0.05\n",
    "\n",
    "## question 2\n",
    "Is there a preference towards local or global explanations for AI experts, where preference is defined as an overall higher score?"
   ]
  },
  {
   "cell_type": "code",
   "execution_count": null,
   "metadata": {
    "collapsed": false,
    "jupyter": {
     "outputs_hidden": false
    },
    "pycharm": {
     "name": "#%%\n"
    }
   },
   "outputs": [],
   "source": [
    "\n",
    "calculate_statistics(dataset=ml_background)"
   ]
  },
  {
   "cell_type": "markdown",
   "metadata": {
    "pycharm": {
     "name": "#%% md\n"
    }
   },
   "source": [
    " as we can see in the table, for AI experts the picture is quite similar to AI novice users.\n",
    "The only notable difference is, that AI users acchive better scores in all categories without exception.\n",
    "Again these differences are significant based on the Students t-test with threshold = 0.05\n",
    "\n",
    "## question 3\n",
    "Explanations (in general) increase users’ trust in a system. (trustworthiness)\n",
    "\n",
    "To answer this question it has to be assumed, that all participants interpreted the likert scale correctly.\n",
    "Thus, 4 is a neutral answer and any answer lower/higher than 4 is a decrease/increase.\n",
    "Hence, it has to be checked if the median, and the mean is above or below 4.\n",
    "Trustworthiness was assessed with the third question for each explanation"
   ]
  },
  {
   "cell_type": "code",
   "execution_count": null,
   "metadata": {
    "collapsed": false,
    "jupyter": {
     "outputs_hidden": false
    },
    "pycharm": {
     "name": "#%%\n"
    }
   },
   "outputs": [],
   "source": [
    "def assess_item(item_nr=0, dataset=df):\n",
    "    '''\n",
    "    This function calculates the mean and the median of a given item\n",
    "    This uses the fact that we have 5 similar items per question\n",
    "    @param item_nr: item number is 0 based, implying that the first item per question is item_nr=0\n",
    "    @param dataset: the dataset for which a item should be\n",
    "    @return: creates a table with different XAI-methods as rows and mean and median as colunns\n",
    "    '''\n",
    "    rows = ['lime', 'shap_local', 'shap_global', 'pdp']\n",
    "    values = np.zeros((4,3))\n",
    "    items = np.arange(start=item_nr+5, stop=25,step=5)\n",
    "    for idx, pos in enumerate(items):\n",
    "        data = dataset.iloc[:,pos]\n",
    "        mean = np.mean(data)\n",
    "        median = np.median(data)\n",
    "        std = np.std(data)\n",
    "        values[idx, 0] = mean\n",
    "        values[idx, 1] = median\n",
    "        values[idx, 2] = std\n",
    "    results = pd.DataFrame(\n",
    "        columns=['mean', 'median', 'std'],\n",
    "        index=rows,\n",
    "        data=values\n",
    "    )\n",
    "    return results\n",
    "\n",
    "assess_item(2)"
   ]
  },
  {
   "cell_type": "markdown",
   "metadata": {
    "pycharm": {
     "name": "#%% md\n"
    }
   },
   "source": [
    "As we can see in the table above explanations provided by lime and pdp seems to increase the trust in the AI system.\n",
    "However, shap_global performs acceptably, meaning that it does not influence the mean trustworthiness of our population.\n",
    "Shap_local on the other decreases the mean trust below 4.\n",
    "\n",
    "## question 4\n",
    "Explanations help AI novices to (better) understand a ML system.\n",
    "\n",
    "To answer this question the same assumptions as for question 3 apply.\n",
    "Understandability was assessed with the first question for each explanation.\n"
   ]
  },
  {
   "cell_type": "code",
   "execution_count": null,
   "metadata": {
    "collapsed": false,
    "jupyter": {
     "outputs_hidden": false
    },
    "pycharm": {
     "name": "#%%\n"
    }
   },
   "outputs": [],
   "source": [
    "assess_item(item_nr=1, dataset=non_ml_background)#\n"
   ]
  },
  {
   "cell_type": "markdown",
   "metadata": {
    "pycharm": {
     "name": "#%% md\n"
    }
   },
   "source": [
    "This table shows that the Understandability of only half the explanations is greater than 4.\n",
    "As with trustworthiness shap provides scores lower or equal to 4.\n",
    "However pdp seems to provide overwhelmingly positive results. Mean and Median arethe highest of all XAI methods compared.\n",
    "Furthermore, it's noticable, that the median of pdp is at 6 and therefore only 1 point below the maximum possible.\n",
    "\n"
   ]
  },
  {
   "cell_type": "markdown",
   "metadata": {
    "jupyter": {
     "outputs_hidden": false
    },
    "pycharm": {
     "name": "#%% md\n"
    }
   },
   "source": [
    "## Question 5\n",
    "\n",
    "Hypothesis: Between LIME and SHAP local explanations, AI novices prefer LIME. \n",
    "#(preference = overall higher scores for all evaluation criteria)\n",
    "\n",
    "First we need to define AI novices and AI expert instances. Then the visualization is based on a single chart per criteria. At the same time, each chart contains two histograms, one for each XAI method. (Double click on the visualization to zoom it).\n",
    "\n",
    "Morover, a table is added containing the mean of the votes and standard deviation per criteria and per method. "
   ]
  },
  {
   "cell_type": "code",
   "execution_count": null,
   "metadata": {},
   "outputs": [],
   "source": [
    "#Defining AI novices and AI expert instances\n",
    "\n",
    "ai_novice = df[df['question 4'] == '0']\n",
    "ai_novice = ai_novice.append(df[df['question 4'] == '1'])\n",
    "\n",
    "ai_expert = df.drop(index=ai_novice.index)\n",
    "\n",
    "#Question 5 analysis\n",
    "\n",
    "from scipy.stats import norm\n",
    "from tabulate import tabulate\n",
    "\n",
    "def get_histo_grid(safe_fig=False):\n",
    "    \n",
    "    fig, axs = plt.subplots(1,5)\n",
    "    fig.set_size_inches(35, 5)\n",
    "    # fig.subplots_adjust(hspace=1.0, wspace=1.0)\n",
    "    table = [] \n",
    "    mu1=[]\n",
    "    mu2=[]\n",
    "    std1=[]\n",
    "    std2=[]\n",
    "        \n",
    "    \n",
    "    for i in range(6,11):\n",
    "        data = [ai_novice[f'question {i}'], ai_novice[f'question {i+5}']]\n",
    "        row = 1\n",
    "        col = (i-6)%5\n",
    "        \n",
    "        axs[col].hist(data, bins=7, histtype='bar',  label=['LIME','SHAP'],rwidth=0.7)\n",
    "        axs[col].set_title(original_column_names[i-1])\n",
    "        axs[col].legend()\n",
    "        axs[col].set_ylabel('Number of votes')\n",
    "        \n",
    "        data1 = ai_novice[f'question {i}']\n",
    "        data2 = ai_novice[f'question {i+5}']\n",
    "        \n",
    "        mu, std = norm.fit(data1)\n",
    "        mu3, std3 = norm.fit(data2)\n",
    "        \n",
    "        mu1.append(mu)\n",
    "        mu2.append(mu3)\n",
    "        std1.append(std)\n",
    "        std2.append(std3)\n",
    "        \n",
    "        criteria = ['Understandability','Usefulness','Trustworthiness','Informativeness','Satisfaction']\n",
    "        column = criteria[i-6], mu1[i-6],mu2[i-6],std1[i-6],std2[i-6]\n",
    "        table.append(column)\n",
    "    \n",
    "    \n",
    "    \n",
    "    print(tabulate((table), headers=['Criteria', 'Mean LIME', 'Mean SHAP', 'Std LIME' ,'Std SHAP']))\n",
    "    print('')\n",
    "    plt.tight_layout()\n",
    "    if safe_fig:\n",
    "        plt.savefig('histo_grid')\n",
    "\n",
    "get_histo_grid(safe_fig=True)\n"
   ]
  },
  {
   "cell_type": "markdown",
   "metadata": {},
   "source": [
    "## Question 6\n",
    "\n",
    "Hypothesis: Explanations provide additional information about the system.(informativeness).\n",
    "This analisys just involve comparing the histograms of the four XAI methods for the survey question 'The explanation provides sufficient information to explain how the system makes decisions'.\n",
    "\n",
    "The histograms plot are for the completion of the notebook (double click on it to zoom it). In the report will be the Tableau ones."
   ]
  },
  {
   "cell_type": "code",
   "execution_count": null,
   "metadata": {
    "collapsed": false,
    "jupyter": {
     "outputs_hidden": false
    },
    "pycharm": {
     "name": "#%%\n"
    }
   },
   "outputs": [],
   "source": [
    "#Histograms for question 6:H: Explanations provide additional information about the system.(informativeness)\n",
    "\n",
    "def get_histo_grid(safe_fig=False):\n",
    "\n",
    "    fig, axs = plt.subplots(1,4)\n",
    "    fig.set_size_inches(35,5 )\n",
    "    # fig.subplots_adjust(hspace=1.0, wspace=1.0)\n",
    "    feature_list = [\"9\", \"14\", \"19\", \"24\"]\n",
    "    feature_list = list(map(int, feature_list))\n",
    "    counter=0\n",
    "    table = [] \n",
    "    mu1=[]\n",
    "    std1=[]\n",
    "    \n",
    "    for i in feature_list:\n",
    "        data = [df[f'question {i}']]\n",
    "        col = (i-6)//5\n",
    "        row = 1\n",
    "        # axs[row,col].set_size_inches(18.5, 10.5)\n",
    "        axs[col].hist(data, bins=7, histtype='bar',  label=['participants'],rwidth=0.7)\n",
    "        axs[col].set_title(original_column_names[i-1])\n",
    "        axs[col].legend()\n",
    "        \n",
    "        mu, std = norm.fit(data)\n",
    "        mu1.append(mu)\n",
    "        std1.append(std)\n",
    "        \n",
    "        methods = ['LIME','SHAP-local','SHAP-global','PDP']\n",
    "        column = methods[counter], mu1[counter], std1[counter]\n",
    "        table.append(column)\n",
    "        counter = counter+1\n",
    "    \n",
    "    print(tabulate((table), headers=['Method', 'Mean', 'Std']))\n",
    "    print('')\n",
    "    plt.tight_layout()\n",
    "    if safe_fig:\n",
    "        plt.savefig('histo_grid')\n",
    "\n",
    "get_histo_grid(safe_fig=True)\n"
   ]
  },
  {
   "cell_type": "markdown",
   "metadata": {},
   "source": [
    "## Question 7\n",
    "\n",
    "Question: Are explanations useful to AI novices and AI experts? (usefulness)\n",
    "This analisys just involve comparing the histograms of the four XAI methods for the survey question 'The explanation is useful to me, for making better decisions or to perform an action'.\n",
    "\n",
    "The histograms plot are for the completion of the notebook (double click on it to zoom it). In the report will be the Tableau ones."
   ]
  },
  {
   "cell_type": "code",
   "execution_count": null,
   "metadata": {
    "collapsed": false,
    "jupyter": {
     "outputs_hidden": false
    },
    "pycharm": {
     "name": "#%%\n"
    }
   },
   "outputs": [],
   "source": [
    "#Histograms for question 7:Q: Are explanations useful to AI novices and AI experts? (usefulness)\n",
    "\n",
    "def get_histo_grid(safe_fig=False):\n",
    "   \n",
    "    fig, axs = plt.subplots(1,4)\n",
    "    fig.set_size_inches(35,5 )\n",
    "    # fig.subplots_adjust(hspace=1.0, wspace=1.0)\n",
    "    feature_list = [\"7\", \"12\", \"17\", \"22\"]\n",
    "    feature_list = list(map(int, feature_list))\n",
    "    counter=0\n",
    "    table = [] \n",
    "    mu1=[]\n",
    "    std1=[]\n",
    "    \n",
    "    for i in feature_list:\n",
    "        data = [df[f'question {i}']]\n",
    "        col = (i-6)//5\n",
    "        row = 1\n",
    "        \n",
    "        axs[col].hist(data, bins=7, histtype='bar',  label=['participants'],rwidth=0.7)\n",
    "        axs[col].set_title(original_column_names[i-1])\n",
    "        axs[col].legend()\n",
    "        \n",
    "        mu, std = norm.fit(data)\n",
    "        mu1.append(mu)\n",
    "        std1.append(std)\n",
    "        \n",
    "        methods = ['LIME','SHAP-local','SHAP-global','PDP']\n",
    "        column = methods[counter], mu1[counter], std1[counter]\n",
    "        table.append(column)\n",
    "        counter = counter+1\n",
    "    \n",
    "    print(tabulate((table), headers=['Method', 'Mean', 'Std']))\n",
    "    print('')\n",
    "    plt.tight_layout()\n",
    "    if safe_fig:\n",
    "        plt.savefig('histo_grid')\n",
    "\n",
    "get_histo_grid(safe_fig=True)\n"
   ]
  },
  {
   "cell_type": "markdown",
   "metadata": {},
   "source": [
    "## Question 8 \n",
    "\n",
    "Question: Are users more satisfied with a system if they are given explanations of the system? (satisfaction)\n",
    "\n",
    "This analisys just involve comparing the histograms of the four XAI methods for the survey question 'I have a satisfied attitude towards the explanation of the system.'.\n",
    "\n",
    "The histograms plot are for the completion of the notebook (double click on it to zoom it). In the report will be the Tableau ones."
   ]
  },
  {
   "cell_type": "code",
   "execution_count": null,
   "metadata": {
    "collapsed": false,
    "jupyter": {
     "outputs_hidden": false
    },
    "pycharm": {
     "name": "#%%\n"
    }
   },
   "outputs": [],
   "source": [
    "#Histograms for question 8:Q: Are users more satisfied with a system if they are given explanations of the system? (satisfaction)\n",
    "\n",
    "def get_histo_grid(safe_fig=False):\n",
    "   \n",
    "    fig, axs = plt.subplots(1,4)\n",
    "    fig.set_size_inches(35,5 )\n",
    "    # fig.subplots_adjust(hspace=1.0, wspace=1.0)\n",
    "    feature_list = [\"10\", \"15\", \"20\", \"25\"]\n",
    "    feature_list = list(map(int, feature_list))\n",
    "    counter=0\n",
    "    table = [] \n",
    "    mu1=[]\n",
    "    std1=[]\n",
    "    \n",
    "    for i in feature_list:\n",
    "        data = [df[f'question {i}']]\n",
    "        col = (i-6)//5\n",
    "        row = 1\n",
    "        \n",
    "        axs[col].hist(data, bins=7, histtype='bar',  label=['participants'],rwidth=0.7)\n",
    "        axs[col].set_title(original_column_names[i-1])\n",
    "        axs[col].legend()\n",
    "        \n",
    "        mu, std = norm.fit(data)\n",
    "        mu1.append(mu)\n",
    "        std1.append(std)\n",
    "        \n",
    "        methods = ['LIME','SHAP-local','SHAP-global','PDP']\n",
    "        column = methods[counter], mu1[counter], std1[counter]\n",
    "        table.append(column)\n",
    "        counter = counter+1\n",
    "    \n",
    "    print(tabulate((table), headers=['Method', 'Mean', 'Std']))\n",
    "    print('')\n",
    "    plt.tight_layout()\n",
    "    if safe_fig:\n",
    "        plt.savefig('histo_grid')\n",
    "\n",
    "get_histo_grid(safe_fig=True)\n"
   ]
  },
  {
   "cell_type": "markdown",
   "metadata": {},
   "source": [
    "Further explanation would be given based on our decisions tomorrow\n"
   ]
  },
  {
   "cell_type": "code",
   "execution_count": null,
   "outputs": [],
   "source": [
    "\n",
    "def get_box_grid(safe_fig=False):\n",
    "    \"\"\"\n",
    "    This function creates a box-plot for each question.\n",
    "    The data is segmented based on ML-Background\n",
    "    @param safe_fig: defines if the figure is saved as .png\n",
    "    @return: None\n",
    "    \"\"\"\n",
    "    fig, axs = plt.subplots(4,5)\n",
    "    fig.set_size_inches(37, 22)\n",
    "\n",
    "    for i in range(6,26):\n",
    "\n",
    "        data = [non_ml_background[f'question {i}'].values, ml_background[f'question {i}'].values]\n",
    "        row = (i-6)//5\n",
    "        col = (i-6)%5\n",
    "        axs[row,col].boxplot(data, bootstrap=10000)\n",
    "\n",
    "\n",
    "        axs[row,col].set_title(original_column_names[i-1])\n",
    "        axs[row,col].set_xticklabels(['non_ml_background', 'ml_background'])\n",
    "    plt.tight_layout()\n",
    "    if safe_fig:\n",
    "        plt.savefig('data/images/box_grid')\n",
    "\n",
    "get_box_grid(safe_fig=True)"
   ],
   "metadata": {
    "collapsed": false,
    "pycharm": {
     "name": "#%%\n"
    }
   }
  },
  {
   "cell_type": "code",
   "execution_count": null,
   "outputs": [],
   "source": [
    "def get_violin_grid(safe_fig=False):\n",
    "    \"\"\"\n",
    "    This function creates a violinplot for each question.\n",
    "    The data is segmented based on ML-Background\n",
    "    @param safe_fig: defines if the figure is saved as .png\n",
    "    @return: None\n",
    "    \"\"\"\n",
    "    fig, axs = plt.subplots(4,5)\n",
    "    fig.set_size_inches(37, 22)\n",
    "\n",
    "    for i in range(6,26):\n",
    "\n",
    "        data = [non_ml_background[f'question {i}'].values, ml_background[f'question {i}'].values]\n",
    "        row = (i-6)//5\n",
    "        col = (i-6)%5\n",
    "        axs[row,col].violinplot(data, showmedians=True)\n",
    "\n",
    "\n",
    "        axs[row,col].set_title(original_column_names[i-1])\n",
    "        axs[row,col].set_xticklabels(['non_ml_background', 'ml_background'])\n",
    "    plt.tight_layout()\n",
    "    if safe_fig:\n",
    "        plt.savefig('data/images/violin_grid')\n",
    "\n",
    "\n",
    "get_violin_grid(safe_fig=True)"
   ],
   "metadata": {
    "collapsed": false,
    "pycharm": {
     "name": "#%%\n"
    }
   }
  },
  {
   "cell_type": "code",
   "execution_count": null,
   "outputs": [],
   "source": [],
   "metadata": {
    "collapsed": false,
    "pycharm": {
     "name": "#%%\n"
    }
   }
  }
 ],
 "metadata": {
  "kernelspec": {
   "display_name": "Python 3",
   "language": "python",
   "name": "python3"
  },
  "language_info": {
   "codemirror_mode": {
    "name": "ipython",
    "version": 3
   },
   "file_extension": ".py",
   "mimetype": "text/x-python",
   "name": "python",
   "nbconvert_exporter": "python",
   "pygments_lexer": "ipython3",
   "version": "3.6.5"
  }
 },
 "nbformat": 4,
 "nbformat_minor": 4
}