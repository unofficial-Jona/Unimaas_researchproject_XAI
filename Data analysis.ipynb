{
 "cells": [
  {
   "cell_type": "code",
   "execution_count": 84,
   "metadata": {
    "collapsed": true
   },
   "outputs": [],
   "source": [
    "import numpy as np\n",
    "import pandas as pd\n",
    "import matplotlib.pyplot as plt\n",
    "import scipy.stats as sc\n",
    "\n",
    "from sklearn.linear_model import LinearRegression\n",
    "\n",
    "np.random.seed(42)"
   ]
  },
  {
   "cell_type": "code",
   "execution_count": 85,
   "outputs": [],
   "source": [
    "df = pd.read_csv('data/Questionnaire to Benchmark Explainable AI Methods.csv')"
   ],
   "metadata": {
    "collapsed": false,
    "pycharm": {
     "name": "#%%\n"
    }
   }
  },
  {
   "cell_type": "code",
   "execution_count": 86,
   "outputs": [],
   "source": [
    "df = df.drop('Timestamp', axis=1)\n",
    "df = df.dropna()\n"
   ],
   "metadata": {
    "collapsed": false,
    "pycharm": {
     "name": "#%%\n"
    }
   }
  },
  {
   "cell_type": "code",
   "execution_count": 87,
   "outputs": [],
   "source": [
    "original_column_names = df.columns"
   ],
   "metadata": {
    "collapsed": false,
    "pycharm": {
     "name": "#%%\n"
    }
   }
  },
  {
   "cell_type": "code",
   "execution_count": 88,
   "outputs": [
    {
     "data": {
      "text/plain": "   question 1 question 2          question 3 question 4 question 5  \\\n0          No   Bachelor               Other          0         No   \n1         Yes     Master        Data Science       Many        Yes   \n2          No   Bachelor          Psychology          1         No   \n3          No   Bachelor          Psychology          0         No   \n4          No     Master  Economics/Business          0        Yes   \n8          No      Other    Natural Sciences          0         No   \n9          No     Master                 Law          0         No   \n10         No   Bachelor         Engineering          0         No   \n11         No     Master  Economics/Business          3        Yes   \n12         No     Master         Engineering          0         No   \n13         No     Master                  AI       Many        Yes   \n14         No      Other         Engineering          2         No   \n15         No   Graduate  Economics/Business          0         No   \n16         No   Graduate            Medicine          0         No   \n18         No     Master    Natural Sciences          0         No   \n\n    question 6  question 7  question 8  question 9  question 10  ...  \\\n0          2.0         5.0         2.0         4.0          1.0  ...   \n1          1.0         1.0         1.0         1.0          1.0  ...   \n2          6.0         5.0         4.0         5.0          5.0  ...   \n3          5.0         5.0         7.0         5.0          3.0  ...   \n4          2.0         3.0         3.0         3.0          3.0  ...   \n8          4.0         5.0         5.0         3.0          5.0  ...   \n9          6.0         6.0         4.0         6.0          5.0  ...   \n10         4.0         3.0         4.0         2.0          3.0  ...   \n11         5.0         4.0         6.0         5.0          3.0  ...   \n12         4.0         3.0         4.0         5.0          4.0  ...   \n13         6.0         6.0         4.0         6.0          5.0  ...   \n14         4.0         3.0         5.0         3.0          3.0  ...   \n15         5.0         6.0         5.0         6.0          5.0  ...   \n16         7.0         7.0         7.0         7.0          7.0  ...   \n18         1.0         2.0         2.0         2.0          1.0  ...   \n\n    question 16  question 17  question 18  question 19  question 20  \\\n0           2.0          3.0          1.0          1.0          1.0   \n1           1.0          1.0          1.0          1.0          1.0   \n2           5.0          5.0          4.0          5.0          4.0   \n3           2.0          1.0          1.0          4.0          1.0   \n4           4.0          5.0          4.0          6.0          4.0   \n8           6.0          5.0          6.0          5.0          6.0   \n9           1.0          1.0          3.0          1.0          1.0   \n10          7.0          6.0          7.0          6.0          7.0   \n11          5.0          4.0          5.0          5.0          5.0   \n12          4.0          4.0          6.0          4.0          4.0   \n13          3.0          3.0          3.0          3.0          3.0   \n14          4.0          3.0          3.0          4.0          4.0   \n15          5.0          5.0          6.0          5.0          5.0   \n16          7.0          7.0          7.0          7.0          7.0   \n18          1.0          2.0          2.0          2.0          1.0   \n\n    question 21  question 22  question 23  question 24  question 25  \n0           1.0          4.0          2.0          4.0          5.0  \n1           1.0          1.0          1.0          1.0          1.0  \n2           6.0          6.0          5.0          6.0          6.0  \n3           6.0          7.0          7.0          3.0          5.0  \n4           4.0          7.0          6.0          5.0          6.0  \n8           4.0          4.0          3.0          3.0          4.0  \n9           6.0          6.0          5.0          6.0          6.0  \n10          7.0          7.0          7.0          7.0          7.0  \n11          5.0          6.0          4.0          5.0          5.0  \n12          6.0          4.0          6.0          5.0          5.0  \n13          6.0          6.0          6.0          6.0          6.0  \n14          5.0          5.0          5.0          6.0          5.0  \n15          6.0          6.0          6.0          6.0          6.0  \n16          6.0          6.0          6.0          6.0          6.0  \n18          2.0          2.0          1.0          2.0          2.0  \n\n[15 rows x 25 columns]",
      "text/html": "<div>\n<style scoped>\n    .dataframe tbody tr th:only-of-type {\n        vertical-align: middle;\n    }\n\n    .dataframe tbody tr th {\n        vertical-align: top;\n    }\n\n    .dataframe thead th {\n        text-align: right;\n    }\n</style>\n<table border=\"1\" class=\"dataframe\">\n  <thead>\n    <tr style=\"text-align: right;\">\n      <th></th>\n      <th>question 1</th>\n      <th>question 2</th>\n      <th>question 3</th>\n      <th>question 4</th>\n      <th>question 5</th>\n      <th>question 6</th>\n      <th>question 7</th>\n      <th>question 8</th>\n      <th>question 9</th>\n      <th>question 10</th>\n      <th>...</th>\n      <th>question 16</th>\n      <th>question 17</th>\n      <th>question 18</th>\n      <th>question 19</th>\n      <th>question 20</th>\n      <th>question 21</th>\n      <th>question 22</th>\n      <th>question 23</th>\n      <th>question 24</th>\n      <th>question 25</th>\n    </tr>\n  </thead>\n  <tbody>\n    <tr>\n      <th>0</th>\n      <td>No</td>\n      <td>Bachelor</td>\n      <td>Other</td>\n      <td>0</td>\n      <td>No</td>\n      <td>2.0</td>\n      <td>5.0</td>\n      <td>2.0</td>\n      <td>4.0</td>\n      <td>1.0</td>\n      <td>...</td>\n      <td>2.0</td>\n      <td>3.0</td>\n      <td>1.0</td>\n      <td>1.0</td>\n      <td>1.0</td>\n      <td>1.0</td>\n      <td>4.0</td>\n      <td>2.0</td>\n      <td>4.0</td>\n      <td>5.0</td>\n    </tr>\n    <tr>\n      <th>1</th>\n      <td>Yes</td>\n      <td>Master</td>\n      <td>Data Science</td>\n      <td>Many</td>\n      <td>Yes</td>\n      <td>1.0</td>\n      <td>1.0</td>\n      <td>1.0</td>\n      <td>1.0</td>\n      <td>1.0</td>\n      <td>...</td>\n      <td>1.0</td>\n      <td>1.0</td>\n      <td>1.0</td>\n      <td>1.0</td>\n      <td>1.0</td>\n      <td>1.0</td>\n      <td>1.0</td>\n      <td>1.0</td>\n      <td>1.0</td>\n      <td>1.0</td>\n    </tr>\n    <tr>\n      <th>2</th>\n      <td>No</td>\n      <td>Bachelor</td>\n      <td>Psychology</td>\n      <td>1</td>\n      <td>No</td>\n      <td>6.0</td>\n      <td>5.0</td>\n      <td>4.0</td>\n      <td>5.0</td>\n      <td>5.0</td>\n      <td>...</td>\n      <td>5.0</td>\n      <td>5.0</td>\n      <td>4.0</td>\n      <td>5.0</td>\n      <td>4.0</td>\n      <td>6.0</td>\n      <td>6.0</td>\n      <td>5.0</td>\n      <td>6.0</td>\n      <td>6.0</td>\n    </tr>\n    <tr>\n      <th>3</th>\n      <td>No</td>\n      <td>Bachelor</td>\n      <td>Psychology</td>\n      <td>0</td>\n      <td>No</td>\n      <td>5.0</td>\n      <td>5.0</td>\n      <td>7.0</td>\n      <td>5.0</td>\n      <td>3.0</td>\n      <td>...</td>\n      <td>2.0</td>\n      <td>1.0</td>\n      <td>1.0</td>\n      <td>4.0</td>\n      <td>1.0</td>\n      <td>6.0</td>\n      <td>7.0</td>\n      <td>7.0</td>\n      <td>3.0</td>\n      <td>5.0</td>\n    </tr>\n    <tr>\n      <th>4</th>\n      <td>No</td>\n      <td>Master</td>\n      <td>Economics/Business</td>\n      <td>0</td>\n      <td>Yes</td>\n      <td>2.0</td>\n      <td>3.0</td>\n      <td>3.0</td>\n      <td>3.0</td>\n      <td>3.0</td>\n      <td>...</td>\n      <td>4.0</td>\n      <td>5.0</td>\n      <td>4.0</td>\n      <td>6.0</td>\n      <td>4.0</td>\n      <td>4.0</td>\n      <td>7.0</td>\n      <td>6.0</td>\n      <td>5.0</td>\n      <td>6.0</td>\n    </tr>\n    <tr>\n      <th>8</th>\n      <td>No</td>\n      <td>Other</td>\n      <td>Natural Sciences</td>\n      <td>0</td>\n      <td>No</td>\n      <td>4.0</td>\n      <td>5.0</td>\n      <td>5.0</td>\n      <td>3.0</td>\n      <td>5.0</td>\n      <td>...</td>\n      <td>6.0</td>\n      <td>5.0</td>\n      <td>6.0</td>\n      <td>5.0</td>\n      <td>6.0</td>\n      <td>4.0</td>\n      <td>4.0</td>\n      <td>3.0</td>\n      <td>3.0</td>\n      <td>4.0</td>\n    </tr>\n    <tr>\n      <th>9</th>\n      <td>No</td>\n      <td>Master</td>\n      <td>Law</td>\n      <td>0</td>\n      <td>No</td>\n      <td>6.0</td>\n      <td>6.0</td>\n      <td>4.0</td>\n      <td>6.0</td>\n      <td>5.0</td>\n      <td>...</td>\n      <td>1.0</td>\n      <td>1.0</td>\n      <td>3.0</td>\n      <td>1.0</td>\n      <td>1.0</td>\n      <td>6.0</td>\n      <td>6.0</td>\n      <td>5.0</td>\n      <td>6.0</td>\n      <td>6.0</td>\n    </tr>\n    <tr>\n      <th>10</th>\n      <td>No</td>\n      <td>Bachelor</td>\n      <td>Engineering</td>\n      <td>0</td>\n      <td>No</td>\n      <td>4.0</td>\n      <td>3.0</td>\n      <td>4.0</td>\n      <td>2.0</td>\n      <td>3.0</td>\n      <td>...</td>\n      <td>7.0</td>\n      <td>6.0</td>\n      <td>7.0</td>\n      <td>6.0</td>\n      <td>7.0</td>\n      <td>7.0</td>\n      <td>7.0</td>\n      <td>7.0</td>\n      <td>7.0</td>\n      <td>7.0</td>\n    </tr>\n    <tr>\n      <th>11</th>\n      <td>No</td>\n      <td>Master</td>\n      <td>Economics/Business</td>\n      <td>3</td>\n      <td>Yes</td>\n      <td>5.0</td>\n      <td>4.0</td>\n      <td>6.0</td>\n      <td>5.0</td>\n      <td>3.0</td>\n      <td>...</td>\n      <td>5.0</td>\n      <td>4.0</td>\n      <td>5.0</td>\n      <td>5.0</td>\n      <td>5.0</td>\n      <td>5.0</td>\n      <td>6.0</td>\n      <td>4.0</td>\n      <td>5.0</td>\n      <td>5.0</td>\n    </tr>\n    <tr>\n      <th>12</th>\n      <td>No</td>\n      <td>Master</td>\n      <td>Engineering</td>\n      <td>0</td>\n      <td>No</td>\n      <td>4.0</td>\n      <td>3.0</td>\n      <td>4.0</td>\n      <td>5.0</td>\n      <td>4.0</td>\n      <td>...</td>\n      <td>4.0</td>\n      <td>4.0</td>\n      <td>6.0</td>\n      <td>4.0</td>\n      <td>4.0</td>\n      <td>6.0</td>\n      <td>4.0</td>\n      <td>6.0</td>\n      <td>5.0</td>\n      <td>5.0</td>\n    </tr>\n    <tr>\n      <th>13</th>\n      <td>No</td>\n      <td>Master</td>\n      <td>AI</td>\n      <td>Many</td>\n      <td>Yes</td>\n      <td>6.0</td>\n      <td>6.0</td>\n      <td>4.0</td>\n      <td>6.0</td>\n      <td>5.0</td>\n      <td>...</td>\n      <td>3.0</td>\n      <td>3.0</td>\n      <td>3.0</td>\n      <td>3.0</td>\n      <td>3.0</td>\n      <td>6.0</td>\n      <td>6.0</td>\n      <td>6.0</td>\n      <td>6.0</td>\n      <td>6.0</td>\n    </tr>\n    <tr>\n      <th>14</th>\n      <td>No</td>\n      <td>Other</td>\n      <td>Engineering</td>\n      <td>2</td>\n      <td>No</td>\n      <td>4.0</td>\n      <td>3.0</td>\n      <td>5.0</td>\n      <td>3.0</td>\n      <td>3.0</td>\n      <td>...</td>\n      <td>4.0</td>\n      <td>3.0</td>\n      <td>3.0</td>\n      <td>4.0</td>\n      <td>4.0</td>\n      <td>5.0</td>\n      <td>5.0</td>\n      <td>5.0</td>\n      <td>6.0</td>\n      <td>5.0</td>\n    </tr>\n    <tr>\n      <th>15</th>\n      <td>No</td>\n      <td>Graduate</td>\n      <td>Economics/Business</td>\n      <td>0</td>\n      <td>No</td>\n      <td>5.0</td>\n      <td>6.0</td>\n      <td>5.0</td>\n      <td>6.0</td>\n      <td>5.0</td>\n      <td>...</td>\n      <td>5.0</td>\n      <td>5.0</td>\n      <td>6.0</td>\n      <td>5.0</td>\n      <td>5.0</td>\n      <td>6.0</td>\n      <td>6.0</td>\n      <td>6.0</td>\n      <td>6.0</td>\n      <td>6.0</td>\n    </tr>\n    <tr>\n      <th>16</th>\n      <td>No</td>\n      <td>Graduate</td>\n      <td>Medicine</td>\n      <td>0</td>\n      <td>No</td>\n      <td>7.0</td>\n      <td>7.0</td>\n      <td>7.0</td>\n      <td>7.0</td>\n      <td>7.0</td>\n      <td>...</td>\n      <td>7.0</td>\n      <td>7.0</td>\n      <td>7.0</td>\n      <td>7.0</td>\n      <td>7.0</td>\n      <td>6.0</td>\n      <td>6.0</td>\n      <td>6.0</td>\n      <td>6.0</td>\n      <td>6.0</td>\n    </tr>\n    <tr>\n      <th>18</th>\n      <td>No</td>\n      <td>Master</td>\n      <td>Natural Sciences</td>\n      <td>0</td>\n      <td>No</td>\n      <td>1.0</td>\n      <td>2.0</td>\n      <td>2.0</td>\n      <td>2.0</td>\n      <td>1.0</td>\n      <td>...</td>\n      <td>1.0</td>\n      <td>2.0</td>\n      <td>2.0</td>\n      <td>2.0</td>\n      <td>1.0</td>\n      <td>2.0</td>\n      <td>2.0</td>\n      <td>1.0</td>\n      <td>2.0</td>\n      <td>2.0</td>\n    </tr>\n  </tbody>\n</table>\n<p>15 rows × 25 columns</p>\n</div>"
     },
     "execution_count": 88,
     "metadata": {},
     "output_type": "execute_result"
    }
   ],
   "source": [
    "new_columns = [f'question {i}' for i in range(1,26)]\n",
    "df.columns = new_columns\n",
    "df.head(15)"
   ],
   "metadata": {
    "collapsed": false,
    "pycharm": {
     "name": "#%%\n"
    }
   }
  },
  {
   "cell_type": "code",
   "execution_count": 89,
   "outputs": [
    {
     "data": {
      "text/plain": "   question 1 question 2    question 3 question 4 question 5  question 6  \\\n13         No     Master            AI       Many        Yes         6.0   \n35        Yes     Master            AI       Many        Yes         6.0   \n36         No     Master            AI       Many        Yes         2.0   \n37        Yes     Master            AI       Many        Yes         6.0   \n41         No     Master            AI       Many        Yes         5.0   \n42         No     Master            AI       Many        Yes         7.0   \n1         Yes     Master  Data Science       Many        Yes         1.0   \n23         No     Master  Data Science       Many        Yes         7.0   \n26         No     Master  Data Science          4         No         2.0   \n30         No     Master  Data Science          3        Yes         5.0   \n38         No     Master  Data Science       Many        Yes         6.0   \n39        Yes     Master  Data Science          4        Yes         4.0   \n40        Yes     Master  Data Science          4        Yes         3.0   \n\n    question 7  question 8  question 9  question 10  ...  question 16  \\\n13         6.0         4.0         6.0          5.0  ...          3.0   \n35         6.0         6.0         7.0          4.0  ...          7.0   \n36         6.0         1.0         4.0          4.0  ...          5.0   \n37         4.0         1.0         7.0          4.0  ...          7.0   \n41         5.0         5.0         3.0          2.0  ...          1.0   \n42         7.0         7.0         5.0          6.0  ...          5.0   \n1          1.0         1.0         1.0          1.0  ...          1.0   \n23         5.0         6.0         4.0          5.0  ...          6.0   \n26         2.0         4.0         2.0          2.0  ...          2.0   \n30         5.0         6.0         6.0          6.0  ...          6.0   \n38         6.0         6.0         6.0          6.0  ...          5.0   \n39         5.0         3.0         1.0          2.0  ...          4.0   \n40         2.0         2.0         2.0          2.0  ...          6.0   \n\n    question 17  question 18  question 19  question 20  question 21  \\\n13          3.0          3.0          3.0          3.0          6.0   \n35          7.0          7.0          7.0          5.0          4.0   \n36          2.0          2.0          2.0          2.0          6.0   \n37          7.0          2.0          6.0          5.0          6.0   \n41          1.0          1.0          1.0          1.0          5.0   \n42          5.0          6.0          4.0          6.0          7.0   \n1           1.0          1.0          1.0          1.0          1.0   \n23          6.0          6.0          6.0          7.0          6.0   \n26          2.0          2.0          4.0          3.0          3.0   \n30          7.0          7.0          5.0          6.0          6.0   \n38          5.0          5.0          5.0          5.0          5.0   \n39          4.0          3.0          2.0          2.0          2.0   \n40          6.0          5.0          5.0          6.0          7.0   \n\n    question 22  question 23  question 24  question 25  \n13          6.0          6.0          6.0          6.0  \n35          4.0          4.0          4.0          4.0  \n36          5.0          4.0          5.0          5.0  \n37          5.0          2.0          5.0          6.0  \n41          6.0          4.0          4.0          4.0  \n42          6.0          6.0          7.0          6.0  \n1           1.0          1.0          1.0          1.0  \n23          6.0          5.0          6.0          7.0  \n26          2.0          1.0          3.0          3.0  \n30          7.0          7.0          5.0          6.0  \n38          5.0          5.0          5.0          5.0  \n39          4.0          3.0          2.0          2.0  \n40          7.0          6.0          7.0          7.0  \n\n[13 rows x 25 columns]",
      "text/html": "<div>\n<style scoped>\n    .dataframe tbody tr th:only-of-type {\n        vertical-align: middle;\n    }\n\n    .dataframe tbody tr th {\n        vertical-align: top;\n    }\n\n    .dataframe thead th {\n        text-align: right;\n    }\n</style>\n<table border=\"1\" class=\"dataframe\">\n  <thead>\n    <tr style=\"text-align: right;\">\n      <th></th>\n      <th>question 1</th>\n      <th>question 2</th>\n      <th>question 3</th>\n      <th>question 4</th>\n      <th>question 5</th>\n      <th>question 6</th>\n      <th>question 7</th>\n      <th>question 8</th>\n      <th>question 9</th>\n      <th>question 10</th>\n      <th>...</th>\n      <th>question 16</th>\n      <th>question 17</th>\n      <th>question 18</th>\n      <th>question 19</th>\n      <th>question 20</th>\n      <th>question 21</th>\n      <th>question 22</th>\n      <th>question 23</th>\n      <th>question 24</th>\n      <th>question 25</th>\n    </tr>\n  </thead>\n  <tbody>\n    <tr>\n      <th>13</th>\n      <td>No</td>\n      <td>Master</td>\n      <td>AI</td>\n      <td>Many</td>\n      <td>Yes</td>\n      <td>6.0</td>\n      <td>6.0</td>\n      <td>4.0</td>\n      <td>6.0</td>\n      <td>5.0</td>\n      <td>...</td>\n      <td>3.0</td>\n      <td>3.0</td>\n      <td>3.0</td>\n      <td>3.0</td>\n      <td>3.0</td>\n      <td>6.0</td>\n      <td>6.0</td>\n      <td>6.0</td>\n      <td>6.0</td>\n      <td>6.0</td>\n    </tr>\n    <tr>\n      <th>35</th>\n      <td>Yes</td>\n      <td>Master</td>\n      <td>AI</td>\n      <td>Many</td>\n      <td>Yes</td>\n      <td>6.0</td>\n      <td>6.0</td>\n      <td>6.0</td>\n      <td>7.0</td>\n      <td>4.0</td>\n      <td>...</td>\n      <td>7.0</td>\n      <td>7.0</td>\n      <td>7.0</td>\n      <td>7.0</td>\n      <td>5.0</td>\n      <td>4.0</td>\n      <td>4.0</td>\n      <td>4.0</td>\n      <td>4.0</td>\n      <td>4.0</td>\n    </tr>\n    <tr>\n      <th>36</th>\n      <td>No</td>\n      <td>Master</td>\n      <td>AI</td>\n      <td>Many</td>\n      <td>Yes</td>\n      <td>2.0</td>\n      <td>6.0</td>\n      <td>1.0</td>\n      <td>4.0</td>\n      <td>4.0</td>\n      <td>...</td>\n      <td>5.0</td>\n      <td>2.0</td>\n      <td>2.0</td>\n      <td>2.0</td>\n      <td>2.0</td>\n      <td>6.0</td>\n      <td>5.0</td>\n      <td>4.0</td>\n      <td>5.0</td>\n      <td>5.0</td>\n    </tr>\n    <tr>\n      <th>37</th>\n      <td>Yes</td>\n      <td>Master</td>\n      <td>AI</td>\n      <td>Many</td>\n      <td>Yes</td>\n      <td>6.0</td>\n      <td>4.0</td>\n      <td>1.0</td>\n      <td>7.0</td>\n      <td>4.0</td>\n      <td>...</td>\n      <td>7.0</td>\n      <td>7.0</td>\n      <td>2.0</td>\n      <td>6.0</td>\n      <td>5.0</td>\n      <td>6.0</td>\n      <td>5.0</td>\n      <td>2.0</td>\n      <td>5.0</td>\n      <td>6.0</td>\n    </tr>\n    <tr>\n      <th>41</th>\n      <td>No</td>\n      <td>Master</td>\n      <td>AI</td>\n      <td>Many</td>\n      <td>Yes</td>\n      <td>5.0</td>\n      <td>5.0</td>\n      <td>5.0</td>\n      <td>3.0</td>\n      <td>2.0</td>\n      <td>...</td>\n      <td>1.0</td>\n      <td>1.0</td>\n      <td>1.0</td>\n      <td>1.0</td>\n      <td>1.0</td>\n      <td>5.0</td>\n      <td>6.0</td>\n      <td>4.0</td>\n      <td>4.0</td>\n      <td>4.0</td>\n    </tr>\n    <tr>\n      <th>42</th>\n      <td>No</td>\n      <td>Master</td>\n      <td>AI</td>\n      <td>Many</td>\n      <td>Yes</td>\n      <td>7.0</td>\n      <td>7.0</td>\n      <td>7.0</td>\n      <td>5.0</td>\n      <td>6.0</td>\n      <td>...</td>\n      <td>5.0</td>\n      <td>5.0</td>\n      <td>6.0</td>\n      <td>4.0</td>\n      <td>6.0</td>\n      <td>7.0</td>\n      <td>6.0</td>\n      <td>6.0</td>\n      <td>7.0</td>\n      <td>6.0</td>\n    </tr>\n    <tr>\n      <th>1</th>\n      <td>Yes</td>\n      <td>Master</td>\n      <td>Data Science</td>\n      <td>Many</td>\n      <td>Yes</td>\n      <td>1.0</td>\n      <td>1.0</td>\n      <td>1.0</td>\n      <td>1.0</td>\n      <td>1.0</td>\n      <td>...</td>\n      <td>1.0</td>\n      <td>1.0</td>\n      <td>1.0</td>\n      <td>1.0</td>\n      <td>1.0</td>\n      <td>1.0</td>\n      <td>1.0</td>\n      <td>1.0</td>\n      <td>1.0</td>\n      <td>1.0</td>\n    </tr>\n    <tr>\n      <th>23</th>\n      <td>No</td>\n      <td>Master</td>\n      <td>Data Science</td>\n      <td>Many</td>\n      <td>Yes</td>\n      <td>7.0</td>\n      <td>5.0</td>\n      <td>6.0</td>\n      <td>4.0</td>\n      <td>5.0</td>\n      <td>...</td>\n      <td>6.0</td>\n      <td>6.0</td>\n      <td>6.0</td>\n      <td>6.0</td>\n      <td>7.0</td>\n      <td>6.0</td>\n      <td>6.0</td>\n      <td>5.0</td>\n      <td>6.0</td>\n      <td>7.0</td>\n    </tr>\n    <tr>\n      <th>26</th>\n      <td>No</td>\n      <td>Master</td>\n      <td>Data Science</td>\n      <td>4</td>\n      <td>No</td>\n      <td>2.0</td>\n      <td>2.0</td>\n      <td>4.0</td>\n      <td>2.0</td>\n      <td>2.0</td>\n      <td>...</td>\n      <td>2.0</td>\n      <td>2.0</td>\n      <td>2.0</td>\n      <td>4.0</td>\n      <td>3.0</td>\n      <td>3.0</td>\n      <td>2.0</td>\n      <td>1.0</td>\n      <td>3.0</td>\n      <td>3.0</td>\n    </tr>\n    <tr>\n      <th>30</th>\n      <td>No</td>\n      <td>Master</td>\n      <td>Data Science</td>\n      <td>3</td>\n      <td>Yes</td>\n      <td>5.0</td>\n      <td>5.0</td>\n      <td>6.0</td>\n      <td>6.0</td>\n      <td>6.0</td>\n      <td>...</td>\n      <td>6.0</td>\n      <td>7.0</td>\n      <td>7.0</td>\n      <td>5.0</td>\n      <td>6.0</td>\n      <td>6.0</td>\n      <td>7.0</td>\n      <td>7.0</td>\n      <td>5.0</td>\n      <td>6.0</td>\n    </tr>\n    <tr>\n      <th>38</th>\n      <td>No</td>\n      <td>Master</td>\n      <td>Data Science</td>\n      <td>Many</td>\n      <td>Yes</td>\n      <td>6.0</td>\n      <td>6.0</td>\n      <td>6.0</td>\n      <td>6.0</td>\n      <td>6.0</td>\n      <td>...</td>\n      <td>5.0</td>\n      <td>5.0</td>\n      <td>5.0</td>\n      <td>5.0</td>\n      <td>5.0</td>\n      <td>5.0</td>\n      <td>5.0</td>\n      <td>5.0</td>\n      <td>5.0</td>\n      <td>5.0</td>\n    </tr>\n    <tr>\n      <th>39</th>\n      <td>Yes</td>\n      <td>Master</td>\n      <td>Data Science</td>\n      <td>4</td>\n      <td>Yes</td>\n      <td>4.0</td>\n      <td>5.0</td>\n      <td>3.0</td>\n      <td>1.0</td>\n      <td>2.0</td>\n      <td>...</td>\n      <td>4.0</td>\n      <td>4.0</td>\n      <td>3.0</td>\n      <td>2.0</td>\n      <td>2.0</td>\n      <td>2.0</td>\n      <td>4.0</td>\n      <td>3.0</td>\n      <td>2.0</td>\n      <td>2.0</td>\n    </tr>\n    <tr>\n      <th>40</th>\n      <td>Yes</td>\n      <td>Master</td>\n      <td>Data Science</td>\n      <td>4</td>\n      <td>Yes</td>\n      <td>3.0</td>\n      <td>2.0</td>\n      <td>2.0</td>\n      <td>2.0</td>\n      <td>2.0</td>\n      <td>...</td>\n      <td>6.0</td>\n      <td>6.0</td>\n      <td>5.0</td>\n      <td>5.0</td>\n      <td>6.0</td>\n      <td>7.0</td>\n      <td>7.0</td>\n      <td>6.0</td>\n      <td>7.0</td>\n      <td>7.0</td>\n    </tr>\n  </tbody>\n</table>\n<p>13 rows × 25 columns</p>\n</div>"
     },
     "execution_count": 89,
     "metadata": {},
     "output_type": "execute_result"
    }
   ],
   "source": [
    "ml_background = df[df['question 3'] == 'AI']\n",
    "ml_background = ml_background.append(df[df['question 3'] == 'Data Science'])\n",
    "ml_background"
   ],
   "metadata": {
    "collapsed": false,
    "pycharm": {
     "name": "#%%\n"
    }
   }
  },
  {
   "cell_type": "code",
   "execution_count": 90,
   "outputs": [
    {
     "data": {
      "text/plain": "   question 1 question 2          question 3 question 4 question 5  \\\n0          No   Bachelor               Other          0         No   \n2          No   Bachelor          Psychology          1         No   \n3          No   Bachelor          Psychology          0         No   \n4          No     Master  Economics/Business          0        Yes   \n8          No      Other    Natural Sciences          0         No   \n9          No     Master                 Law          0         No   \n10         No   Bachelor         Engineering          0         No   \n11         No     Master  Economics/Business          3        Yes   \n12         No     Master         Engineering          0         No   \n14         No      Other         Engineering          2         No   \n15         No   Graduate  Economics/Business          0         No   \n16         No   Graduate            Medicine          0         No   \n18         No     Master    Natural Sciences          0         No   \n19         No   Bachelor  Economics/Business          0         No   \n20         No   Bachelor          Humanities          2         No   \n21         No   Bachelor               Other          0         No   \n22         No      Other         Engineering          2         No   \n24         No   Bachelor  Economics/Business          0         No   \n25        Yes   Graduate  Economics/Business          1         No   \n27         No     Master         Engineering          0         No   \n28         No     Master               Other          0         No   \n29         No     Master          Humanities          0         No   \n31         No   Bachelor          Humanities          0         No   \n32         No      Other          Psychology          0         No   \n33         No      Other            Medicine          0         No   \n34         No   Bachelor    Natural Sciences          0         No   \n\n    question 6  question 7  question 8  question 9  question 10  ...  \\\n0          2.0         5.0         2.0         4.0          1.0  ...   \n2          6.0         5.0         4.0         5.0          5.0  ...   \n3          5.0         5.0         7.0         5.0          3.0  ...   \n4          2.0         3.0         3.0         3.0          3.0  ...   \n8          4.0         5.0         5.0         3.0          5.0  ...   \n9          6.0         6.0         4.0         6.0          5.0  ...   \n10         4.0         3.0         4.0         2.0          3.0  ...   \n11         5.0         4.0         6.0         5.0          3.0  ...   \n12         4.0         3.0         4.0         5.0          4.0  ...   \n14         4.0         3.0         5.0         3.0          3.0  ...   \n15         5.0         6.0         5.0         6.0          5.0  ...   \n16         7.0         7.0         7.0         7.0          7.0  ...   \n18         1.0         2.0         2.0         2.0          1.0  ...   \n19         5.0         5.0         6.0         3.0          4.0  ...   \n20         4.0         3.0         3.0         4.0          3.0  ...   \n21         5.0         5.0         5.0         4.0          4.0  ...   \n22         4.0         3.0         5.0         3.0          3.0  ...   \n24         7.0         7.0         6.0         6.0          7.0  ...   \n25         6.0         6.0         6.0         7.0          6.0  ...   \n27         6.0         4.0         5.0         1.0          1.0  ...   \n28         5.0         5.0         5.0         6.0          6.0  ...   \n29         7.0         7.0         7.0         7.0          5.0  ...   \n31         6.0         5.0         6.0         5.0          4.0  ...   \n32         3.0         3.0         3.0         3.0          3.0  ...   \n33         1.0         1.0         1.0         4.0          1.0  ...   \n34         4.0         3.0         2.0         2.0          2.0  ...   \n\n    question 16  question 17  question 18  question 19  question 20  \\\n0           2.0          3.0          1.0          1.0          1.0   \n2           5.0          5.0          4.0          5.0          4.0   \n3           2.0          1.0          1.0          4.0          1.0   \n4           4.0          5.0          4.0          6.0          4.0   \n8           6.0          5.0          6.0          5.0          6.0   \n9           1.0          1.0          3.0          1.0          1.0   \n10          7.0          6.0          7.0          6.0          7.0   \n11          5.0          4.0          5.0          5.0          5.0   \n12          4.0          4.0          6.0          4.0          4.0   \n14          4.0          3.0          3.0          4.0          4.0   \n15          5.0          5.0          6.0          5.0          5.0   \n16          7.0          7.0          7.0          7.0          7.0   \n18          1.0          2.0          2.0          2.0          1.0   \n19          7.0          6.0          6.0          5.0          5.0   \n20          3.0          3.0          2.0          3.0          2.0   \n21          3.0          3.0          3.0          3.0          3.0   \n22          4.0          3.0          3.0          4.0          4.0   \n24          3.0          2.0          2.0          2.0          3.0   \n25          7.0          7.0          7.0          7.0          7.0   \n27          4.0          4.0          4.0          2.0          2.0   \n28          5.0          7.0          7.0          6.0          6.0   \n29          5.0          4.0          3.0          2.0          1.0   \n31          3.0          2.0          3.0          2.0          2.0   \n32          2.0          2.0          2.0          2.0          2.0   \n33          1.0          1.0          1.0          2.0          1.0   \n34          4.0          3.0          2.0          4.0          3.0   \n\n    question 21  question 22  question 23  question 24  question 25  \n0           1.0          4.0          2.0          4.0          5.0  \n2           6.0          6.0          5.0          6.0          6.0  \n3           6.0          7.0          7.0          3.0          5.0  \n4           4.0          7.0          6.0          5.0          6.0  \n8           4.0          4.0          3.0          3.0          4.0  \n9           6.0          6.0          5.0          6.0          6.0  \n10          7.0          7.0          7.0          7.0          7.0  \n11          5.0          6.0          4.0          5.0          5.0  \n12          6.0          4.0          6.0          5.0          5.0  \n14          5.0          5.0          5.0          6.0          5.0  \n15          6.0          6.0          6.0          6.0          6.0  \n16          6.0          6.0          6.0          6.0          6.0  \n18          2.0          2.0          1.0          2.0          2.0  \n19          7.0          6.0          4.0          7.0          6.0  \n20          5.0          5.0          4.0          5.0          4.0  \n21          6.0          6.0          6.0          6.0          6.0  \n22          5.0          5.0          5.0          6.0          5.0  \n24          7.0          7.0          6.0          6.0          6.0  \n25          7.0          7.0          7.0          7.0          7.0  \n27          6.0          6.0          6.0          6.0          6.0  \n28          7.0          7.0          6.0          7.0          6.0  \n29          3.0          3.0          3.0          3.0          3.0  \n31          4.0          3.0          5.0          3.0          3.0  \n32          3.0          3.0          3.0          3.0          3.0  \n33          3.0          2.0          1.0          3.0          2.0  \n34          4.0          4.0          3.0          5.0          3.0  \n\n[26 rows x 25 columns]",
      "text/html": "<div>\n<style scoped>\n    .dataframe tbody tr th:only-of-type {\n        vertical-align: middle;\n    }\n\n    .dataframe tbody tr th {\n        vertical-align: top;\n    }\n\n    .dataframe thead th {\n        text-align: right;\n    }\n</style>\n<table border=\"1\" class=\"dataframe\">\n  <thead>\n    <tr style=\"text-align: right;\">\n      <th></th>\n      <th>question 1</th>\n      <th>question 2</th>\n      <th>question 3</th>\n      <th>question 4</th>\n      <th>question 5</th>\n      <th>question 6</th>\n      <th>question 7</th>\n      <th>question 8</th>\n      <th>question 9</th>\n      <th>question 10</th>\n      <th>...</th>\n      <th>question 16</th>\n      <th>question 17</th>\n      <th>question 18</th>\n      <th>question 19</th>\n      <th>question 20</th>\n      <th>question 21</th>\n      <th>question 22</th>\n      <th>question 23</th>\n      <th>question 24</th>\n      <th>question 25</th>\n    </tr>\n  </thead>\n  <tbody>\n    <tr>\n      <th>0</th>\n      <td>No</td>\n      <td>Bachelor</td>\n      <td>Other</td>\n      <td>0</td>\n      <td>No</td>\n      <td>2.0</td>\n      <td>5.0</td>\n      <td>2.0</td>\n      <td>4.0</td>\n      <td>1.0</td>\n      <td>...</td>\n      <td>2.0</td>\n      <td>3.0</td>\n      <td>1.0</td>\n      <td>1.0</td>\n      <td>1.0</td>\n      <td>1.0</td>\n      <td>4.0</td>\n      <td>2.0</td>\n      <td>4.0</td>\n      <td>5.0</td>\n    </tr>\n    <tr>\n      <th>2</th>\n      <td>No</td>\n      <td>Bachelor</td>\n      <td>Psychology</td>\n      <td>1</td>\n      <td>No</td>\n      <td>6.0</td>\n      <td>5.0</td>\n      <td>4.0</td>\n      <td>5.0</td>\n      <td>5.0</td>\n      <td>...</td>\n      <td>5.0</td>\n      <td>5.0</td>\n      <td>4.0</td>\n      <td>5.0</td>\n      <td>4.0</td>\n      <td>6.0</td>\n      <td>6.0</td>\n      <td>5.0</td>\n      <td>6.0</td>\n      <td>6.0</td>\n    </tr>\n    <tr>\n      <th>3</th>\n      <td>No</td>\n      <td>Bachelor</td>\n      <td>Psychology</td>\n      <td>0</td>\n      <td>No</td>\n      <td>5.0</td>\n      <td>5.0</td>\n      <td>7.0</td>\n      <td>5.0</td>\n      <td>3.0</td>\n      <td>...</td>\n      <td>2.0</td>\n      <td>1.0</td>\n      <td>1.0</td>\n      <td>4.0</td>\n      <td>1.0</td>\n      <td>6.0</td>\n      <td>7.0</td>\n      <td>7.0</td>\n      <td>3.0</td>\n      <td>5.0</td>\n    </tr>\n    <tr>\n      <th>4</th>\n      <td>No</td>\n      <td>Master</td>\n      <td>Economics/Business</td>\n      <td>0</td>\n      <td>Yes</td>\n      <td>2.0</td>\n      <td>3.0</td>\n      <td>3.0</td>\n      <td>3.0</td>\n      <td>3.0</td>\n      <td>...</td>\n      <td>4.0</td>\n      <td>5.0</td>\n      <td>4.0</td>\n      <td>6.0</td>\n      <td>4.0</td>\n      <td>4.0</td>\n      <td>7.0</td>\n      <td>6.0</td>\n      <td>5.0</td>\n      <td>6.0</td>\n    </tr>\n    <tr>\n      <th>8</th>\n      <td>No</td>\n      <td>Other</td>\n      <td>Natural Sciences</td>\n      <td>0</td>\n      <td>No</td>\n      <td>4.0</td>\n      <td>5.0</td>\n      <td>5.0</td>\n      <td>3.0</td>\n      <td>5.0</td>\n      <td>...</td>\n      <td>6.0</td>\n      <td>5.0</td>\n      <td>6.0</td>\n      <td>5.0</td>\n      <td>6.0</td>\n      <td>4.0</td>\n      <td>4.0</td>\n      <td>3.0</td>\n      <td>3.0</td>\n      <td>4.0</td>\n    </tr>\n    <tr>\n      <th>9</th>\n      <td>No</td>\n      <td>Master</td>\n      <td>Law</td>\n      <td>0</td>\n      <td>No</td>\n      <td>6.0</td>\n      <td>6.0</td>\n      <td>4.0</td>\n      <td>6.0</td>\n      <td>5.0</td>\n      <td>...</td>\n      <td>1.0</td>\n      <td>1.0</td>\n      <td>3.0</td>\n      <td>1.0</td>\n      <td>1.0</td>\n      <td>6.0</td>\n      <td>6.0</td>\n      <td>5.0</td>\n      <td>6.0</td>\n      <td>6.0</td>\n    </tr>\n    <tr>\n      <th>10</th>\n      <td>No</td>\n      <td>Bachelor</td>\n      <td>Engineering</td>\n      <td>0</td>\n      <td>No</td>\n      <td>4.0</td>\n      <td>3.0</td>\n      <td>4.0</td>\n      <td>2.0</td>\n      <td>3.0</td>\n      <td>...</td>\n      <td>7.0</td>\n      <td>6.0</td>\n      <td>7.0</td>\n      <td>6.0</td>\n      <td>7.0</td>\n      <td>7.0</td>\n      <td>7.0</td>\n      <td>7.0</td>\n      <td>7.0</td>\n      <td>7.0</td>\n    </tr>\n    <tr>\n      <th>11</th>\n      <td>No</td>\n      <td>Master</td>\n      <td>Economics/Business</td>\n      <td>3</td>\n      <td>Yes</td>\n      <td>5.0</td>\n      <td>4.0</td>\n      <td>6.0</td>\n      <td>5.0</td>\n      <td>3.0</td>\n      <td>...</td>\n      <td>5.0</td>\n      <td>4.0</td>\n      <td>5.0</td>\n      <td>5.0</td>\n      <td>5.0</td>\n      <td>5.0</td>\n      <td>6.0</td>\n      <td>4.0</td>\n      <td>5.0</td>\n      <td>5.0</td>\n    </tr>\n    <tr>\n      <th>12</th>\n      <td>No</td>\n      <td>Master</td>\n      <td>Engineering</td>\n      <td>0</td>\n      <td>No</td>\n      <td>4.0</td>\n      <td>3.0</td>\n      <td>4.0</td>\n      <td>5.0</td>\n      <td>4.0</td>\n      <td>...</td>\n      <td>4.0</td>\n      <td>4.0</td>\n      <td>6.0</td>\n      <td>4.0</td>\n      <td>4.0</td>\n      <td>6.0</td>\n      <td>4.0</td>\n      <td>6.0</td>\n      <td>5.0</td>\n      <td>5.0</td>\n    </tr>\n    <tr>\n      <th>14</th>\n      <td>No</td>\n      <td>Other</td>\n      <td>Engineering</td>\n      <td>2</td>\n      <td>No</td>\n      <td>4.0</td>\n      <td>3.0</td>\n      <td>5.0</td>\n      <td>3.0</td>\n      <td>3.0</td>\n      <td>...</td>\n      <td>4.0</td>\n      <td>3.0</td>\n      <td>3.0</td>\n      <td>4.0</td>\n      <td>4.0</td>\n      <td>5.0</td>\n      <td>5.0</td>\n      <td>5.0</td>\n      <td>6.0</td>\n      <td>5.0</td>\n    </tr>\n    <tr>\n      <th>15</th>\n      <td>No</td>\n      <td>Graduate</td>\n      <td>Economics/Business</td>\n      <td>0</td>\n      <td>No</td>\n      <td>5.0</td>\n      <td>6.0</td>\n      <td>5.0</td>\n      <td>6.0</td>\n      <td>5.0</td>\n      <td>...</td>\n      <td>5.0</td>\n      <td>5.0</td>\n      <td>6.0</td>\n      <td>5.0</td>\n      <td>5.0</td>\n      <td>6.0</td>\n      <td>6.0</td>\n      <td>6.0</td>\n      <td>6.0</td>\n      <td>6.0</td>\n    </tr>\n    <tr>\n      <th>16</th>\n      <td>No</td>\n      <td>Graduate</td>\n      <td>Medicine</td>\n      <td>0</td>\n      <td>No</td>\n      <td>7.0</td>\n      <td>7.0</td>\n      <td>7.0</td>\n      <td>7.0</td>\n      <td>7.0</td>\n      <td>...</td>\n      <td>7.0</td>\n      <td>7.0</td>\n      <td>7.0</td>\n      <td>7.0</td>\n      <td>7.0</td>\n      <td>6.0</td>\n      <td>6.0</td>\n      <td>6.0</td>\n      <td>6.0</td>\n      <td>6.0</td>\n    </tr>\n    <tr>\n      <th>18</th>\n      <td>No</td>\n      <td>Master</td>\n      <td>Natural Sciences</td>\n      <td>0</td>\n      <td>No</td>\n      <td>1.0</td>\n      <td>2.0</td>\n      <td>2.0</td>\n      <td>2.0</td>\n      <td>1.0</td>\n      <td>...</td>\n      <td>1.0</td>\n      <td>2.0</td>\n      <td>2.0</td>\n      <td>2.0</td>\n      <td>1.0</td>\n      <td>2.0</td>\n      <td>2.0</td>\n      <td>1.0</td>\n      <td>2.0</td>\n      <td>2.0</td>\n    </tr>\n    <tr>\n      <th>19</th>\n      <td>No</td>\n      <td>Bachelor</td>\n      <td>Economics/Business</td>\n      <td>0</td>\n      <td>No</td>\n      <td>5.0</td>\n      <td>5.0</td>\n      <td>6.0</td>\n      <td>3.0</td>\n      <td>4.0</td>\n      <td>...</td>\n      <td>7.0</td>\n      <td>6.0</td>\n      <td>6.0</td>\n      <td>5.0</td>\n      <td>5.0</td>\n      <td>7.0</td>\n      <td>6.0</td>\n      <td>4.0</td>\n      <td>7.0</td>\n      <td>6.0</td>\n    </tr>\n    <tr>\n      <th>20</th>\n      <td>No</td>\n      <td>Bachelor</td>\n      <td>Humanities</td>\n      <td>2</td>\n      <td>No</td>\n      <td>4.0</td>\n      <td>3.0</td>\n      <td>3.0</td>\n      <td>4.0</td>\n      <td>3.0</td>\n      <td>...</td>\n      <td>3.0</td>\n      <td>3.0</td>\n      <td>2.0</td>\n      <td>3.0</td>\n      <td>2.0</td>\n      <td>5.0</td>\n      <td>5.0</td>\n      <td>4.0</td>\n      <td>5.0</td>\n      <td>4.0</td>\n    </tr>\n    <tr>\n      <th>21</th>\n      <td>No</td>\n      <td>Bachelor</td>\n      <td>Other</td>\n      <td>0</td>\n      <td>No</td>\n      <td>5.0</td>\n      <td>5.0</td>\n      <td>5.0</td>\n      <td>4.0</td>\n      <td>4.0</td>\n      <td>...</td>\n      <td>3.0</td>\n      <td>3.0</td>\n      <td>3.0</td>\n      <td>3.0</td>\n      <td>3.0</td>\n      <td>6.0</td>\n      <td>6.0</td>\n      <td>6.0</td>\n      <td>6.0</td>\n      <td>6.0</td>\n    </tr>\n    <tr>\n      <th>22</th>\n      <td>No</td>\n      <td>Other</td>\n      <td>Engineering</td>\n      <td>2</td>\n      <td>No</td>\n      <td>4.0</td>\n      <td>3.0</td>\n      <td>5.0</td>\n      <td>3.0</td>\n      <td>3.0</td>\n      <td>...</td>\n      <td>4.0</td>\n      <td>3.0</td>\n      <td>3.0</td>\n      <td>4.0</td>\n      <td>4.0</td>\n      <td>5.0</td>\n      <td>5.0</td>\n      <td>5.0</td>\n      <td>6.0</td>\n      <td>5.0</td>\n    </tr>\n    <tr>\n      <th>24</th>\n      <td>No</td>\n      <td>Bachelor</td>\n      <td>Economics/Business</td>\n      <td>0</td>\n      <td>No</td>\n      <td>7.0</td>\n      <td>7.0</td>\n      <td>6.0</td>\n      <td>6.0</td>\n      <td>7.0</td>\n      <td>...</td>\n      <td>3.0</td>\n      <td>2.0</td>\n      <td>2.0</td>\n      <td>2.0</td>\n      <td>3.0</td>\n      <td>7.0</td>\n      <td>7.0</td>\n      <td>6.0</td>\n      <td>6.0</td>\n      <td>6.0</td>\n    </tr>\n    <tr>\n      <th>25</th>\n      <td>Yes</td>\n      <td>Graduate</td>\n      <td>Economics/Business</td>\n      <td>1</td>\n      <td>No</td>\n      <td>6.0</td>\n      <td>6.0</td>\n      <td>6.0</td>\n      <td>7.0</td>\n      <td>6.0</td>\n      <td>...</td>\n      <td>7.0</td>\n      <td>7.0</td>\n      <td>7.0</td>\n      <td>7.0</td>\n      <td>7.0</td>\n      <td>7.0</td>\n      <td>7.0</td>\n      <td>7.0</td>\n      <td>7.0</td>\n      <td>7.0</td>\n    </tr>\n    <tr>\n      <th>27</th>\n      <td>No</td>\n      <td>Master</td>\n      <td>Engineering</td>\n      <td>0</td>\n      <td>No</td>\n      <td>6.0</td>\n      <td>4.0</td>\n      <td>5.0</td>\n      <td>1.0</td>\n      <td>1.0</td>\n      <td>...</td>\n      <td>4.0</td>\n      <td>4.0</td>\n      <td>4.0</td>\n      <td>2.0</td>\n      <td>2.0</td>\n      <td>6.0</td>\n      <td>6.0</td>\n      <td>6.0</td>\n      <td>6.0</td>\n      <td>6.0</td>\n    </tr>\n    <tr>\n      <th>28</th>\n      <td>No</td>\n      <td>Master</td>\n      <td>Other</td>\n      <td>0</td>\n      <td>No</td>\n      <td>5.0</td>\n      <td>5.0</td>\n      <td>5.0</td>\n      <td>6.0</td>\n      <td>6.0</td>\n      <td>...</td>\n      <td>5.0</td>\n      <td>7.0</td>\n      <td>7.0</td>\n      <td>6.0</td>\n      <td>6.0</td>\n      <td>7.0</td>\n      <td>7.0</td>\n      <td>6.0</td>\n      <td>7.0</td>\n      <td>6.0</td>\n    </tr>\n    <tr>\n      <th>29</th>\n      <td>No</td>\n      <td>Master</td>\n      <td>Humanities</td>\n      <td>0</td>\n      <td>No</td>\n      <td>7.0</td>\n      <td>7.0</td>\n      <td>7.0</td>\n      <td>7.0</td>\n      <td>5.0</td>\n      <td>...</td>\n      <td>5.0</td>\n      <td>4.0</td>\n      <td>3.0</td>\n      <td>2.0</td>\n      <td>1.0</td>\n      <td>3.0</td>\n      <td>3.0</td>\n      <td>3.0</td>\n      <td>3.0</td>\n      <td>3.0</td>\n    </tr>\n    <tr>\n      <th>31</th>\n      <td>No</td>\n      <td>Bachelor</td>\n      <td>Humanities</td>\n      <td>0</td>\n      <td>No</td>\n      <td>6.0</td>\n      <td>5.0</td>\n      <td>6.0</td>\n      <td>5.0</td>\n      <td>4.0</td>\n      <td>...</td>\n      <td>3.0</td>\n      <td>2.0</td>\n      <td>3.0</td>\n      <td>2.0</td>\n      <td>2.0</td>\n      <td>4.0</td>\n      <td>3.0</td>\n      <td>5.0</td>\n      <td>3.0</td>\n      <td>3.0</td>\n    </tr>\n    <tr>\n      <th>32</th>\n      <td>No</td>\n      <td>Other</td>\n      <td>Psychology</td>\n      <td>0</td>\n      <td>No</td>\n      <td>3.0</td>\n      <td>3.0</td>\n      <td>3.0</td>\n      <td>3.0</td>\n      <td>3.0</td>\n      <td>...</td>\n      <td>2.0</td>\n      <td>2.0</td>\n      <td>2.0</td>\n      <td>2.0</td>\n      <td>2.0</td>\n      <td>3.0</td>\n      <td>3.0</td>\n      <td>3.0</td>\n      <td>3.0</td>\n      <td>3.0</td>\n    </tr>\n    <tr>\n      <th>33</th>\n      <td>No</td>\n      <td>Other</td>\n      <td>Medicine</td>\n      <td>0</td>\n      <td>No</td>\n      <td>1.0</td>\n      <td>1.0</td>\n      <td>1.0</td>\n      <td>4.0</td>\n      <td>1.0</td>\n      <td>...</td>\n      <td>1.0</td>\n      <td>1.0</td>\n      <td>1.0</td>\n      <td>2.0</td>\n      <td>1.0</td>\n      <td>3.0</td>\n      <td>2.0</td>\n      <td>1.0</td>\n      <td>3.0</td>\n      <td>2.0</td>\n    </tr>\n    <tr>\n      <th>34</th>\n      <td>No</td>\n      <td>Bachelor</td>\n      <td>Natural Sciences</td>\n      <td>0</td>\n      <td>No</td>\n      <td>4.0</td>\n      <td>3.0</td>\n      <td>2.0</td>\n      <td>2.0</td>\n      <td>2.0</td>\n      <td>...</td>\n      <td>4.0</td>\n      <td>3.0</td>\n      <td>2.0</td>\n      <td>4.0</td>\n      <td>3.0</td>\n      <td>4.0</td>\n      <td>4.0</td>\n      <td>3.0</td>\n      <td>5.0</td>\n      <td>3.0</td>\n    </tr>\n  </tbody>\n</table>\n<p>26 rows × 25 columns</p>\n</div>"
     },
     "execution_count": 90,
     "metadata": {},
     "output_type": "execute_result"
    }
   ],
   "source": [
    "non_ml_background = df.drop(index=ml_background.index)\n",
    "non_ml_background"
   ],
   "metadata": {
    "collapsed": false,
    "pycharm": {
     "name": "#%%\n"
    }
   }
  },
  {
   "cell_type": "code",
   "execution_count": 91,
   "outputs": [],
   "source": [
    "def get_histo_grid(safe_fig=False):\n",
    "    \"\"\"\n",
    "    This function creates a histogram for each question.\n",
    "    The data is segmented based on ML-Background\n",
    "    @param safe_fig: defines if the figure is saved as .png\n",
    "    @return: None\n",
    "    \"\"\"\n",
    "    fig, axs = plt.subplots(4,5)\n",
    "    fig.set_size_inches(37, 22)\n",
    "    # fig.subplots_adjust(hspace=1.0, wspace=1.0)\n",
    "    for i in range(6,26):\n",
    "        data = [non_ml_background[f'question {i}'], ml_background[f'question {i}']]\n",
    "        row = (i-6)//5\n",
    "        col = (i-6)%5\n",
    "        # axs[row,col].set_size_inches(18.5, 10.5)\n",
    "        axs[row,col].hist(data, bins=7, histtype='bar',  label=['non_ml_background', 'ml_background'])\n",
    "        axs[row,col].set_title(original_column_names[i-1])\n",
    "        axs[row,col].legend()\n",
    "    # plt.legend()\n",
    "    plt.tight_layout()\n",
    "    if safe_fig:\n",
    "        plt.savefig('histo_grid')\n",
    "\n",
    "# get_histo_grid(safe_fig=True)\n"
   ],
   "metadata": {
    "collapsed": false,
    "pycharm": {
     "name": "#%%\n"
    }
   }
  },
  {
   "cell_type": "markdown",
   "source": [
    "# some regressions\n",
    "\n"
   ],
   "metadata": {
    "collapsed": false
   }
  },
  {
   "cell_type": "code",
   "execution_count": 92,
   "outputs": [
    {
     "data": {
      "text/plain": "array([[1.        , 0.7147016 , 0.75545852, 0.80058224, 0.27802038,\n        0.26200873, 0.41484716, 0.23871907, 0.18267831, 0.4279476 ,\n        0.3588064 , 0.43304221, 0.15866084, 0.27438137, 0.41630277,\n        0.45050946, 0.48981077, 0.3202329 , 0.40029112, 0.83114993],\n       [0.57674236, 1.        , 0.46397807, 0.58476899, 0.14565388,\n        0.10591229, 0.46906813, 0.07008614, 0.10277995, 0.36530932,\n        0.33379013, 0.58907596, 0.34475333, 0.42501958, 0.39702428,\n        0.3811668 , 0.56362569, 0.27055599, 0.3114722 , 0.7261159 ],\n       [0.60987074, 0.46415981, 1.        , 0.72032902, 0.37955347,\n        0.38836663, 0.35840188, 0.51645123, 0.36016451, 0.3560517 ,\n        0.39306698, 0.37720329, 0.35428907, 0.31316099, 0.35898942,\n        0.2773208 , 0.33901293, 0.25146886, 0.32197415, 0.61045828],\n       [0.73300755, 0.6634829 , 0.81697024, 1.        , 0.45246557,\n        0.3893825 , 0.4848956 , 0.54464682, 0.43647268, 0.57641048,\n        0.56730342, 0.69702355, 0.48911595, 0.66414927, 0.59773434,\n        0.4744558 , 0.59018214, 0.45890715, 0.49133718, 0.75055531],\n       [0.2516469 , 0.16337286, 0.42555995, 0.44729908, 1.        ,\n        0.7397892 , 0.53689065, 0.68906456, 0.71607378, 0.72332016,\n        0.63241107, 0.62121212, 0.52700922, 0.62516469, 0.53096179,\n        0.38735178, 0.35573123, 0.40843215, 0.40777339, 0.25428195],\n       [0.30646992, 0.15351873, 0.56271283, 0.49744608, 0.95601589,\n        1.        , 0.72133939, 0.91742338, 0.88876277, 0.69977299,\n        0.69267877, 0.66146425, 0.62826334, 0.62343927, 0.48694665,\n        0.40522134, 0.36634506, 0.37826334, 0.46452894, 0.19381385],\n       [0.38600451, 0.54085779, 0.41309255, 0.49277652, 0.55191874,\n        0.5738149 , 1.        , 0.61580135, 0.63521445, 0.49841986,\n        0.52641084, 0.77810384, 0.41715576, 0.551693  , 0.41376975,\n        0.451693  , 0.59029345, 0.42776524, 0.43566591, 0.34559819],\n       [0.21798848, 0.07930882, 0.58418254, 0.54319894, 0.69517058,\n        0.71621622, 0.60434205, 1.        , 0.77558706, 0.56225078,\n        0.59592379, 0.57820115, 0.52636243, 0.53854674, 0.38015064,\n        0.28112539, 0.33052725, 0.2933097 , 0.34071777, 0.14067346],\n       [0.18986384, 0.13237519, 0.46369138, 0.49546142, 0.82223903,\n        0.78971256, 0.70953101, 0.8827534 , 1.        , 0.57791225,\n        0.62027231, 0.65128593, 0.51361573, 0.62934947, 0.32450832,\n        0.26928896, 0.24810893, 0.32602118, 0.35098336, 0.09984871],\n       [0.31612903, 0.3344086 , 0.32580645, 0.46505376, 0.59032258,\n        0.44193548, 0.39569892, 0.45483871, 0.41075269, 1.        ,\n        0.93870968, 0.85215054, 0.77526882, 0.89462366, 0.46827957,\n        0.39516129, 0.38387097, 0.4516129 , 0.46666667, 0.43064516],\n       [0.24966239, 0.28781229, 0.33879136, 0.43112762, 0.486158  ,\n        0.41205267, 0.39365294, 0.45408508, 0.41525996, 0.88419986,\n        1.        , 0.88014855, 0.7813977 , 0.88436867, 0.38841999,\n        0.38943282, 0.36225523, 0.42656989, 0.45914922, 0.37609723],\n       [0.27726002, 0.46738117, 0.29916123, 0.48741845, 0.43942218,\n        0.36206897, 0.53541473, 0.40540541, 0.40121156, 0.73858341,\n        0.80987884, 1.        , 0.67893756, 0.85414725, 0.44221808,\n        0.37837838, 0.4972041 , 0.43243243, 0.43150047, 0.3779124 ],\n       [0.12991657, 0.34982122, 0.35935638, 0.43742551, 0.47675805,\n        0.4398093 , 0.36710369, 0.47199046, 0.40464839, 0.85935638,\n        0.91954708, 0.86829559, 1.        , 0.98390942, 0.45709178,\n        0.42193087, 0.41895113, 0.43682956, 0.47437426, 0.31287247],\n       [0.18277311, 0.35084034, 0.25840336, 0.48319328, 0.46008403,\n        0.35504202, 0.39495798, 0.39285714, 0.40336134, 0.80672269,\n        0.84663866, 0.88865546, 0.80042017, 1.        , 0.49789916,\n        0.42857143, 0.44537815, 0.50210084, 0.50630252, 0.34243697],\n       [0.39285714, 0.46428571, 0.41964286, 0.61607143, 0.55357143,\n        0.39285714, 0.41964286, 0.39285714, 0.29464286, 0.59821429,\n        0.52678571, 0.65178571, 0.52678571, 0.70535714, 1.        ,\n        0.80357143, 0.83928571, 0.8125    , 0.78571429, 0.61607143],\n       [0.45447871, 0.47650514, 0.34654919, 0.52276065, 0.43171806,\n        0.34948605, 0.489721  , 0.31057269, 0.26138032, 0.53964758,\n        0.56461087, 0.59618209, 0.51982379, 0.64904552, 0.85903084,\n        1.        , 0.93024963, 0.77606461, 0.85315712, 0.55653451],\n       [0.41170473, 0.58707178, 0.35297716, 0.54180261, 0.33034258,\n        0.26325449, 0.53323817, 0.30424144, 0.20065253, 0.4367863 ,\n        0.43760196, 0.65273246, 0.4300571 , 0.56199021, 0.74755302,\n        0.77508157, 1.        , 0.62867047, 0.68046493, 0.54649266],\n       [0.33985582, 0.35581874, 0.33058702, 0.53192585, 0.47888774,\n        0.34320288, 0.48789907, 0.34088568, 0.33290422, 0.64881565,\n        0.65061792, 0.71678682, 0.5661689 , 0.79994851, 0.91374871,\n        0.81642636, 0.79376931, 1.        , 0.8784758 , 0.53475798],\n       [0.43906333, 0.42336349, 0.43746674, 0.58861096, 0.49414582,\n        0.43560404, 0.51357105, 0.40926024, 0.37040979, 0.69292177,\n        0.72378925, 0.73922299, 0.63544439, 0.83368813, 0.91325173,\n        0.92762108, 0.88797233, 0.90792975, 1.        , 0.5792975 ],\n       [0.72247997, 0.78215943, 0.65731759, 0.71256854, 0.24420076,\n        0.14403205, 0.32285955, 0.13390974, 0.08350907, 0.50674821,\n        0.46984395, 0.51307465, 0.33213834, 0.44685787, 0.56748208,\n        0.4795445 , 0.56516238, 0.43800084, 0.45908899, 1.        ]])"
     },
     "execution_count": 92,
     "metadata": {},
     "output_type": "execute_result"
    }
   ],
   "source": [
    "\n",
    "def get_regression_coeff(att_1=None, att_2=None):\n",
    "    \"\"\"\n",
    "    This function returns all linear regression coefficients.\n",
    "    if att_1 and att_2 are specified 1 regression coefficient is returned\n",
    "    @param att_1: column index you want to regress from\n",
    "    @param att_2: column index you want to regress to\n",
    "    @return: one or all regression coefficients\n",
    "    \"\"\"\n",
    "    if att_1 == None and att_2 == None:\n",
    "        coeffs = np.zeros((20,20))\n",
    "        for i in range(5,25):\n",
    "            for j in range(5,25):\n",
    "                X = df.iloc[:,i].values.reshape(-1,1)\n",
    "                Y = df.iloc[:,j].values.reshape(-1,1)\n",
    "\n",
    "                lin_reg = LinearRegression()\n",
    "                lin_reg.fit(X,Y)\n",
    "                coeffs[i-6,j-6] = lin_reg.coef_\n",
    "\n",
    "        return coeffs\n",
    "    else:\n",
    "        X = df.iloc[:,att_1].values.reshape(-1,1)\n",
    "        Y = df.iloc[:,att_2].values.reshape(-1,1)\n",
    "        lin_reg = LinearRegression()\n",
    "        lin_reg.fit(X,Y)\n",
    "\n",
    "        return lin_reg.coef_\n",
    "get_regression_coeff()\n",
    "\n",
    "\n"
   ],
   "metadata": {
    "collapsed": false,
    "pycharm": {
     "name": "#%%\n"
    }
   }
  },
  {
   "cell_type": "code",
   "execution_count": 99,
   "outputs": [
    {
     "data": {
      "text/plain": "array([[[-2.77555756e-17,  1.00000000e+00,  3.83545170e-01,\n          7.05126238e-01],\n        [ 3.82905994e-01,  1.96571995e-01,  1.26168527e-01,\n          9.00738561e-01],\n        [ 3.75531629e-01,  2.06057899e-01,  5.64665765e-01,\n          5.77894306e-01],\n        ...,\n        [-3.27094668e-01,  2.75322285e-01, -7.11054989e-01,\n          4.85053834e-01],\n        [-2.87776411e-01,  3.40374352e-01, -5.22976360e-01,\n          6.06794881e-01],\n        [-1.68925306e-01,  5.81161105e-01,  1.25649560e-01,\n          9.01130967e-01]],\n\n       [[ 2.87060361e-02,  9.25832082e-01, -5.60725135e-01,\n          5.81681618e-01],\n        [-2.59851350e-01,  3.91237931e-01, -7.77042653e-01,\n          4.46586262e-01],\n        [ 6.38375682e-02,  8.35863809e-01, -3.86880099e-01,\n          7.03034120e-01],\n        ...,\n        [ 1.05233115e-01,  7.32242259e-01, -1.52697608e+00,\n          1.44096347e-01],\n        [ 2.31011199e-02,  9.40287538e-01, -1.36900933e+00,\n          1.88287787e-01],\n        [-2.00942253e-01,  5.10363127e-01, -7.74565055e-01,\n          4.47917513e-01]],\n\n       [[-4.85185425e-02,  8.74929512e-01, -3.37142502e-01,\n          7.39779438e-01],\n        [ 5.89080974e-01,  3.41397125e-02, -5.56173870e-01,\n          5.84492749e-01],\n        [ 4.01733532e-01,  1.73612879e-01, -1.66144440e-01,\n          8.69750191e-01],\n        ...,\n        [-2.69736714e-01,  3.72800778e-01, -1.30353989e+00,\n          2.08740222e-01],\n        [ 4.26719025e-01,  1.45902517e-01, -1.14332390e+00,\n          2.68256472e-01],\n        [-5.58174061e-01,  4.74292135e-02, -5.54393233e-01,\n          5.85620458e-01]],\n\n       ...,\n\n       [[ 4.15455546e-01,  1.58008977e-01,  3.90522609e-01,\n          6.99957146e-01],\n        [-5.17624630e-02,  8.66632369e-01,  1.28402259e-01,\n          8.98966352e-01],\n        [-2.88284621e-01,  3.39483990e-01,  5.74551322e-01,\n          5.71178693e-01],\n        ...,\n        [-2.79464477e-01,  3.55117358e-01, -7.24290548e-01,\n          4.76900196e-01],\n        [ 7.15409689e-02,  8.16343906e-01, -5.32938710e-01,\n          5.99893751e-01],\n        [-2.66576428e-01,  3.78644167e-01,  1.27855356e-01,\n          8.99380457e-01]],\n\n       [[ 6.11546401e-02,  8.42683102e-01,  6.32388081e-01,\n          5.33962314e-01],\n        [ 3.05029248e-01,  3.10868307e-01,  3.74551587e-01,\n          7.11606897e-01],\n        [ 2.59973473e-01,  3.91007318e-01,  8.07199140e-01,\n          4.28121020e-01],\n        ...,\n        [-1.58965274e-01,  6.03952953e-01, -4.47530328e-01,\n          6.59235661e-01],\n        [ 5.01405908e-02,  8.70779194e-01, -2.58558248e-01,\n          7.98675435e-01],\n        [ 1.82307396e-01,  5.51096357e-01,  3.73042774e-01,\n          7.12670663e-01]],\n\n       [[-1.07071928e-01,  7.27721936e-01,  3.58961947e-01,\n          7.23427482e-01],\n        [-2.99180173e-02,  9.22708914e-01,  1.18273508e-01,\n          9.07000810e-01],\n        [-6.45770413e-02,  8.33986100e-01,  5.29680644e-01,\n          6.01932125e-01],\n        ...,\n        [ 8.87043655e-02,  7.73216815e-01, -6.64550472e-01,\n          5.14260086e-01],\n        [-1.56848129e-01,  6.08841519e-01, -4.88071101e-01,\n          6.31223220e-01],\n        [ 4.07861760e-02,  8.94753082e-01,  1.17845675e-01,\n          9.07322693e-01]]])"
     },
     "execution_count": 99,
     "metadata": {},
     "output_type": "execute_result"
    }
   ],
   "source": [
    "def get_advanced_correlation_info():\n",
    "    \"\"\"\n",
    "    Calculates Perarson correlation and student-t-test for every pair of features.\n",
    "    the third dimension is used to differenciate between test, stats-value and p-value\n",
    "    @return: array with shape(20,20,4)\n",
    "        shape(:,:,0) = pearsons correlation coefficient\n",
    "        shape(:,:,1) = two sided p-value\n",
    "        shape(:,:,2) = calculated t-test statistic\n",
    "        shape(:,:,3) = two sided p-value\n",
    "    \"\"\"\n",
    "    coeffs = np.zeros((20,20,4))\n",
    "\n",
    "\n",
    "    # calc Pearson correlation coefficients\n",
    "    for i in range(5,25):\n",
    "        for j in range(5,25):\n",
    "            x = ml_background.iloc[:,i].values\n",
    "            y = non_ml_background.iloc[:,j].values\n",
    "            y = np.random.choice(y, size=len(x))\n",
    "            stats, p = sc.pearsonr(x,y)\n",
    "            coeffs[i-6,j-6, 0] = stats\n",
    "            coeffs[i-6,j-6, 1] = p\n",
    "\n",
    "\n",
    "    # calc student t test coefficients\n",
    "    for i in range(5,25):\n",
    "            for j in range(5,25):\n",
    "                x = ml_background.iloc[:,i].values\n",
    "                y = non_ml_background.iloc[:,j].values\n",
    "                stats, p = sc.ttest_ind(x,y, equal_var=False)\n",
    "                coeffs[i-6,j-6, 2] = stats\n",
    "                coeffs[i-6,j-6, 3] = p\n",
    "\n",
    "        # todo: everything!!\n",
    "\n",
    "        # store all this in dimensions of coeffs\n",
    "\n",
    "    return coeffs\n",
    "\n",
    "get_advanced_correlation_info()\n"
   ],
   "metadata": {
    "collapsed": false,
    "pycharm": {
     "name": "#%%\n"
    }
   }
  },
  {
   "cell_type": "code",
   "source": [],
   "metadata": {
    "collapsed": false,
    "pycharm": {
     "name": "#%%\n"
    }
   },
   "execution_count": 93,
   "outputs": []
  },
  {
   "cell_type": "code",
   "execution_count": 93,
   "outputs": [],
   "source": [],
   "metadata": {
    "collapsed": false,
    "pycharm": {
     "name": "#%%\n"
    }
   }
  }
 ],
 "metadata": {
  "kernelspec": {
   "display_name": "Python 3",
   "language": "python",
   "name": "python3"
  },
  "language_info": {
   "codemirror_mode": {
    "name": "ipython",
    "version": 2
   },
   "file_extension": ".py",
   "mimetype": "text/x-python",
   "name": "python",
   "nbconvert_exporter": "python",
   "pygments_lexer": "ipython2",
   "version": "2.7.6"
  }
 },
 "nbformat": 4,
 "nbformat_minor": 0
}