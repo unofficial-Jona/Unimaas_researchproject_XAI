{
  "nbformat": 4,
  "nbformat_minor": 0,
  "metadata": {
    "colab": {
      "name": "XAI-project.ipynb",
      "provenance": [],
      "authorship_tag": "ABX9TyM7BVd3buj9Szxk8Uym3VeW",
      "include_colab_link": true
    },
    "kernelspec": {
      "name": "python3",
      "display_name": "Python 3"
    },
    "language_info": {
      "name": "python"
    }
  },
  "cells": [
    {
      "cell_type": "markdown",
      "metadata": {
        "id": "view-in-github",
        "colab_type": "text"
      },
      "source": [
        "<a href=\"https://colab.research.google.com/github/unofficial-Jona/XAI-Group/blob/master/XAI_project.ipynb\" target=\"_parent\"><img src=\"https://colab.research.google.com/assets/colab-badge.svg\" alt=\"Open In Colab\"/></a>"
      ]
    },
    {
      "cell_type": "markdown",
      "metadata": {
        "id": "u6fffWX_4b--"
      },
      "source": [
        "# Load Data"
      ]
    },
    {
      "cell_type": "code",
      "metadata": {
        "id": "FANzadmm8GMR"
      },
      "source": [
        "import numpy as np\n",
        "import pandas as pd\n",
        "import matplotlib.pyplot as plt\n"
      ],
      "execution_count": 205,
      "outputs": []
    },
    {
      "cell_type": "code",
      "metadata": {
        "colab": {
          "base_uri": "https://localhost:8080/",
          "height": 507
        },
        "id": "x_rDljC27v4U",
        "outputId": "584dd77a-d803-4234-973a-ed4bbfeff12b"
      },
      "source": [
        "df = pd.read_csv('initialized_dataset')\n",
        "df"
      ],
      "execution_count": 206,
      "outputs": [
        {
          "output_type": "execute_result",
          "data": {
            "text/html": [
              "<div>\n",
              "<style scoped>\n",
              "    .dataframe tbody tr th:only-of-type {\n",
              "        vertical-align: middle;\n",
              "    }\n",
              "\n",
              "    .dataframe tbody tr th {\n",
              "        vertical-align: top;\n",
              "    }\n",
              "\n",
              "    .dataframe thead th {\n",
              "        text-align: right;\n",
              "    }\n",
              "</style>\n",
              "<table border=\"1\" class=\"dataframe\">\n",
              "  <thead>\n",
              "    <tr style=\"text-align: right;\">\n",
              "      <th></th>\n",
              "      <th>num_of_prev_attempts</th>\n",
              "      <th>final_result</th>\n",
              "      <th>weighted_grade</th>\n",
              "      <th>pass_rate</th>\n",
              "      <th>date</th>\n",
              "      <th>sum_click</th>\n",
              "    </tr>\n",
              "  </thead>\n",
              "  <tbody>\n",
              "    <tr>\n",
              "      <th>0</th>\n",
              "      <td>0</td>\n",
              "      <td>Distinction</td>\n",
              "      <td>89.65</td>\n",
              "      <td>1.000</td>\n",
              "      <td>103.457907</td>\n",
              "      <td>2.706754</td>\n",
              "    </tr>\n",
              "    <tr>\n",
              "      <th>1</th>\n",
              "      <td>0</td>\n",
              "      <td>Pass</td>\n",
              "      <td>84.58</td>\n",
              "      <td>1.000</td>\n",
              "      <td>87.617265</td>\n",
              "      <td>1.539047</td>\n",
              "    </tr>\n",
              "    <tr>\n",
              "      <th>2</th>\n",
              "      <td>0</td>\n",
              "      <td>Pass</td>\n",
              "      <td>51.44</td>\n",
              "      <td>0.625</td>\n",
              "      <td>49.181286</td>\n",
              "      <td>1.562619</td>\n",
              "    </tr>\n",
              "    <tr>\n",
              "      <th>3</th>\n",
              "      <td>0</td>\n",
              "      <td>Pass</td>\n",
              "      <td>75.13</td>\n",
              "      <td>1.000</td>\n",
              "      <td>118.698642</td>\n",
              "      <td>2.189217</td>\n",
              "    </tr>\n",
              "    <tr>\n",
              "      <th>4</th>\n",
              "      <td>0</td>\n",
              "      <td>Distinction</td>\n",
              "      <td>93.22</td>\n",
              "      <td>1.000</td>\n",
              "      <td>75.791987</td>\n",
              "      <td>2.100617</td>\n",
              "    </tr>\n",
              "    <tr>\n",
              "      <th>...</th>\n",
              "      <td>...</td>\n",
              "      <td>...</td>\n",
              "      <td>...</td>\n",
              "      <td>...</td>\n",
              "      <td>...</td>\n",
              "      <td>...</td>\n",
              "    </tr>\n",
              "    <tr>\n",
              "      <th>4945</th>\n",
              "      <td>0</td>\n",
              "      <td>Pass</td>\n",
              "      <td>87.30</td>\n",
              "      <td>1.000</td>\n",
              "      <td>122.839227</td>\n",
              "      <td>1.322085</td>\n",
              "    </tr>\n",
              "    <tr>\n",
              "      <th>4946</th>\n",
              "      <td>0</td>\n",
              "      <td>Pass</td>\n",
              "      <td>81.80</td>\n",
              "      <td>1.000</td>\n",
              "      <td>63.128534</td>\n",
              "      <td>1.564681</td>\n",
              "    </tr>\n",
              "    <tr>\n",
              "      <th>4947</th>\n",
              "      <td>0</td>\n",
              "      <td>Pass</td>\n",
              "      <td>80.05</td>\n",
              "      <td>1.000</td>\n",
              "      <td>92.756349</td>\n",
              "      <td>1.615318</td>\n",
              "    </tr>\n",
              "    <tr>\n",
              "      <th>4948</th>\n",
              "      <td>0</td>\n",
              "      <td>Pass</td>\n",
              "      <td>65.75</td>\n",
              "      <td>1.000</td>\n",
              "      <td>128.453230</td>\n",
              "      <td>1.975989</td>\n",
              "    </tr>\n",
              "    <tr>\n",
              "      <th>4949</th>\n",
              "      <td>1</td>\n",
              "      <td>Pass</td>\n",
              "      <td>71.05</td>\n",
              "      <td>1.000</td>\n",
              "      <td>77.007493</td>\n",
              "      <td>1.631076</td>\n",
              "    </tr>\n",
              "  </tbody>\n",
              "</table>\n",
              "<p>4950 rows × 6 columns</p>\n",
              "</div>"
            ],
            "text/plain": [
              "      num_of_prev_attempts final_result  ...        date  sum_click\n",
              "0                        0  Distinction  ...  103.457907   2.706754\n",
              "1                        0         Pass  ...   87.617265   1.539047\n",
              "2                        0         Pass  ...   49.181286   1.562619\n",
              "3                        0         Pass  ...  118.698642   2.189217\n",
              "4                        0  Distinction  ...   75.791987   2.100617\n",
              "...                    ...          ...  ...         ...        ...\n",
              "4945                     0         Pass  ...  122.839227   1.322085\n",
              "4946                     0         Pass  ...   63.128534   1.564681\n",
              "4947                     0         Pass  ...   92.756349   1.615318\n",
              "4948                     0         Pass  ...  128.453230   1.975989\n",
              "4949                     1         Pass  ...   77.007493   1.631076\n",
              "\n",
              "[4950 rows x 6 columns]"
            ]
          },
          "metadata": {
            "tags": []
          },
          "execution_count": 206
        }
      ]
    },
    {
      "cell_type": "markdown",
      "metadata": {
        "id": "-Zv6bj0v8elm"
      },
      "source": [
        "# data split"
      ]
    },
    {
      "cell_type": "code",
      "metadata": {
        "id": "QjmPqXz38f56"
      },
      "source": [
        "from sklearn import model_selection\n",
        "from sklearn.base import BaseEstimator, TransformerMixin\n",
        "from sklearn.preprocessing import MinMaxScaler\n",
        "train, test = model_selection.train_test_split(df, test_size=0.2)\n"
      ],
      "execution_count": 207,
      "outputs": []
    },
    {
      "cell_type": "markdown",
      "metadata": {
        "id": "2-zXPdPAj5R_"
      },
      "source": [
        "# data preprocessing\n",
        "\n"
      ]
    },
    {
      "cell_type": "code",
      "metadata": {
        "id": "ZGte383_kBW6"
      },
      "source": [
        "class PrepareDataset(BaseEstimator, TransformerMixin):\n",
        "    def __init__(self, prepare_nn=False):\n",
        "        self.prepare_nn = prepare_nn\n",
        "    def fit(self, X):\n",
        "        return self\n",
        "    def transform(self, X):\n",
        "        y = X['final_result']\n",
        "        y = np.where(y == 'Distinction', 1, y)\n",
        "        y = np.where(y == 'Pass', 1, y)\n",
        "        y = np.where(y == 'Fail', 0, y)\n",
        "        y = y.astype('bool')\n",
        "        X = X.drop('final_result', axis=1)\n",
        "        if self.prepare_nn:\n",
        "            scaler = MinMaxScaler()\n",
        "            X = scaler.fit_transform(X)\n",
        "            return X, y\n",
        "        else:\n",
        "            return X, y\n",
        "\n"
      ],
      "execution_count": 208,
      "outputs": []
    },
    {
      "cell_type": "code",
      "metadata": {
        "id": "cKsnp-cDleB8"
      },
      "source": [
        "from imblearn.over_sampling import SMOTE\n",
        "\n",
        "sm = SMOTE(random_state=42)"
      ],
      "execution_count": 209,
      "outputs": []
    },
    {
      "cell_type": "code",
      "metadata": {
        "colab": {
          "base_uri": "https://localhost:8080/"
        },
        "id": "qZKA3J50ldiT",
        "outputId": "6cc904e6-6b76-4a90-a3d5-95cfedbf3e69"
      },
      "source": [
        "data_prep = PrepareDataset(prepare_nn=True)\n",
        "X_train, y_train = data_prep.transform(train)\n",
        "X_train.shape, y_train.shape"
      ],
      "execution_count": 210,
      "outputs": [
        {
          "output_type": "execute_result",
          "data": {
            "text/plain": [
              "((3960, 5), (3960,))"
            ]
          },
          "metadata": {
            "tags": []
          },
          "execution_count": 210
        }
      ]
    },
    {
      "cell_type": "code",
      "metadata": {
        "colab": {
          "base_uri": "https://localhost:8080/"
        },
        "id": "rlpfvZqsmdbo",
        "outputId": "1149bf87-b8cd-479b-ad36-38e5d92fa54c"
      },
      "source": [
        "X_train, y_train = sm.fit_resample(X_train, y_train)\n",
        "X_train.shape, y_train.shape"
      ],
      "execution_count": 211,
      "outputs": [
        {
          "output_type": "stream",
          "text": [
            "/usr/local/lib/python3.7/dist-packages/sklearn/utils/deprecation.py:87: FutureWarning: Function safe_indexing is deprecated; safe_indexing is deprecated in version 0.22 and will be removed in version 0.24.\n",
            "  warnings.warn(msg, category=FutureWarning)\n"
          ],
          "name": "stderr"
        },
        {
          "output_type": "execute_result",
          "data": {
            "text/plain": [
              "((6860, 5), (6860,))"
            ]
          },
          "metadata": {
            "tags": []
          },
          "execution_count": 211
        }
      ]
    },
    {
      "cell_type": "code",
      "metadata": {
        "colab": {
          "base_uri": "https://localhost:8080/"
        },
        "id": "AzZUuDELvoNx",
        "outputId": "0ce4f98b-75fb-4499-dc5f-692454977124"
      },
      "source": [
        "y_train"
      ],
      "execution_count": 212,
      "outputs": [
        {
          "output_type": "execute_result",
          "data": {
            "text/plain": [
              "array([ True,  True,  True, ..., False, False, False])"
            ]
          },
          "metadata": {
            "tags": []
          },
          "execution_count": 212
        }
      ]
    },
    {
      "cell_type": "markdown",
      "metadata": {
        "id": "zcRxs_D78xF1"
      },
      "source": [
        "# model set up"
      ]
    },
    {
      "cell_type": "markdown",
      "metadata": {
        "id": "L5sA2gkY81l-"
      },
      "source": [
        "## SVC"
      ]
    },
    {
      "cell_type": "code",
      "metadata": {
        "colab": {
          "base_uri": "https://localhost:8080/"
        },
        "id": "x2Cj_bge801I",
        "outputId": "40ba697d-a5b2-4c49-885a-a5365439be7d"
      },
      "source": [
        "from sklearn.svm import SVC\n",
        "\n",
        "clf_SVC = SVC(kernel='linear', probability=True)\n",
        "clf_SVC.fit(X_train, y_train)"
      ],
      "execution_count": 213,
      "outputs": [
        {
          "output_type": "execute_result",
          "data": {
            "text/plain": [
              "SVC(C=1.0, break_ties=False, cache_size=200, class_weight=None, coef0=0.0,\n",
              "    decision_function_shape='ovr', degree=3, gamma='scale', kernel='linear',\n",
              "    max_iter=-1, probability=True, random_state=None, shrinking=True, tol=0.001,\n",
              "    verbose=False)"
            ]
          },
          "metadata": {
            "tags": []
          },
          "execution_count": 213
        }
      ]
    },
    {
      "cell_type": "markdown",
      "metadata": {
        "id": "LqHRtbNC9KjZ"
      },
      "source": [
        "## random forest"
      ]
    },
    {
      "cell_type": "code",
      "metadata": {
        "colab": {
          "base_uri": "https://localhost:8080/"
        },
        "id": "ZKhrdNCf9MFq",
        "outputId": "1a9027a0-f473-449b-87e0-5d5e53206879"
      },
      "source": [
        "from sklearn.ensemble import RandomForestClassifier\n",
        "\n",
        "\n",
        "clf_RanFor = RandomForestClassifier()\n",
        "clf_RanFor.fit(X_train,y_train)"
      ],
      "execution_count": 214,
      "outputs": [
        {
          "output_type": "execute_result",
          "data": {
            "text/plain": [
              "RandomForestClassifier(bootstrap=True, ccp_alpha=0.0, class_weight=None,\n",
              "                       criterion='gini', max_depth=None, max_features='auto',\n",
              "                       max_leaf_nodes=None, max_samples=None,\n",
              "                       min_impurity_decrease=0.0, min_impurity_split=None,\n",
              "                       min_samples_leaf=1, min_samples_split=2,\n",
              "                       min_weight_fraction_leaf=0.0, n_estimators=100,\n",
              "                       n_jobs=None, oob_score=False, random_state=None,\n",
              "                       verbose=0, warm_start=False)"
            ]
          },
          "metadata": {
            "tags": []
          },
          "execution_count": 214
        }
      ]
    },
    {
      "cell_type": "markdown",
      "metadata": {
        "id": "6QfeLBqo9QvE"
      },
      "source": [
        "## MLP"
      ]
    },
    {
      "cell_type": "code",
      "metadata": {
        "colab": {
          "base_uri": "https://localhost:8080/"
        },
        "id": "ar4gzKlH9U7s",
        "outputId": "c71d31da-70ff-4d98-f8a3-ed0ad5a10295"
      },
      "source": [
        "from sklearn.neural_network import MLPClassifier\n",
        "from sklearn.model_selection import cross_val_score\n",
        "\n",
        "\n",
        "clf_MLP = MLPClassifier(random_state=1, max_iter=300)\n",
        "clf_MLP.fit(X_train, y_train)"
      ],
      "execution_count": 215,
      "outputs": [
        {
          "output_type": "execute_result",
          "data": {
            "text/plain": [
              "MLPClassifier(activation='relu', alpha=0.0001, batch_size='auto', beta_1=0.9,\n",
              "              beta_2=0.999, early_stopping=False, epsilon=1e-08,\n",
              "              hidden_layer_sizes=(100,), learning_rate='constant',\n",
              "              learning_rate_init=0.001, max_fun=15000, max_iter=300,\n",
              "              momentum=0.9, n_iter_no_change=10, nesterovs_momentum=True,\n",
              "              power_t=0.5, random_state=1, shuffle=True, solver='adam',\n",
              "              tol=0.0001, validation_fraction=0.1, verbose=False,\n",
              "              warm_start=False)"
            ]
          },
          "metadata": {
            "tags": []
          },
          "execution_count": 215
        }
      ]
    },
    {
      "cell_type": "markdown",
      "metadata": {
        "id": "5nDvpQVIAfIu"
      },
      "source": [
        "# assess accuracy (train data)\n"
      ]
    },
    {
      "cell_type": "markdown",
      "metadata": {
        "id": "TGi23_wtBFeW"
      },
      "source": [
        "## SVC"
      ]
    },
    {
      "cell_type": "code",
      "metadata": {
        "colab": {
          "base_uri": "https://localhost:8080/",
          "height": 282
        },
        "id": "M318wfsnBE8m",
        "outputId": "cf5ecf8f-976a-4a79-af17-4742beedbc21"
      },
      "source": [
        "from sklearn.metrics import roc_curve, roc_auc_score\n",
        "from sklearn.metrics import precision_score, recall_score, confusion_matrix\n",
        "from sklearn.model_selection import cross_val_predict\n",
        "\n",
        "y_scores = cross_val_predict(clf_SVC, X_train, y_train, cv=3)\n",
        "\n",
        "fpr, tpr, threshold = roc_curve(y_train, y_scores)\n",
        "plt.plot(fpr,tpr)"
      ],
      "execution_count": 216,
      "outputs": [
        {
          "output_type": "execute_result",
          "data": {
            "text/plain": [
              "[<matplotlib.lines.Line2D at 0x7fb145dac050>]"
            ]
          },
          "metadata": {
            "tags": []
          },
          "execution_count": 216
        },
        {
          "output_type": "display_data",
          "data": {
            "image/png": "[encoded data removed]",
            "text/plain": [
              "<Figure size 432x288 with 1 Axes>"
            ]
          },
          "metadata": {
            "tags": [],
            "needs_background": "light"
          }
        }
      ]
    },
    {
      "cell_type": "code",
      "metadata": {
        "colab": {
          "base_uri": "https://localhost:8080/"
        },
        "id": "3CQ8N0adP8iR",
        "outputId": "f8dacf34-6640-4b02-c6a0-2423eca4bc61"
      },
      "source": [
        "roc_auc_score(y_train, y_scores)"
      ],
      "execution_count": 217,
      "outputs": [
        {
          "output_type": "execute_result",
          "data": {
            "text/plain": [
              "0.7559766763848396"
            ]
          },
          "metadata": {
            "tags": []
          },
          "execution_count": 217
        }
      ]
    },
    {
      "cell_type": "code",
      "metadata": {
        "colab": {
          "base_uri": "https://localhost:8080/"
        },
        "id": "YU-1TxDvTDBy",
        "outputId": "3199a61d-0560-4eaf-9ae9-50b4fe2dac92"
      },
      "source": [
        "confusion_matrix(y_train, y_scores)"
      ],
      "execution_count": 218,
      "outputs": [
        {
          "output_type": "execute_result",
          "data": {
            "text/plain": [
              "array([[2932,  498],\n",
              "       [1176, 2254]])"
            ]
          },
          "metadata": {
            "tags": []
          },
          "execution_count": 218
        }
      ]
    },
    {
      "cell_type": "markdown",
      "metadata": {
        "id": "13EV0dWQQLzG"
      },
      "source": [
        "## random forest"
      ]
    },
    {
      "cell_type": "code",
      "metadata": {
        "colab": {
          "base_uri": "https://localhost:8080/",
          "height": 282
        },
        "id": "o9vi8mxDQNwn",
        "outputId": "7529f7d0-4b48-4d3f-bbf2-5b765f5c77cc"
      },
      "source": [
        "y_scores = cross_val_predict(clf_RanFor, X_train, y_train, cv=3)\n",
        "\n",
        "fpr, tpr, threshold = roc_curve(y_train, y_scores)\n",
        "plt.plot(fpr, tpr)"
      ],
      "execution_count": 219,
      "outputs": [
        {
          "output_type": "execute_result",
          "data": {
            "text/plain": [
              "[<matplotlib.lines.Line2D at 0x7fb145d15f10>]"
            ]
          },
          "metadata": {
            "tags": []
          },
          "execution_count": 219
        },
        {
          "output_type": "display_data",
          "data": {
            "image/png": "[encoded data removed]",
            "text/plain": [
              "<Figure size 432x288 with 1 Axes>"
            ]
          },
          "metadata": {
            "tags": [],
            "needs_background": "light"
          }
        }
      ]
    },
    {
      "cell_type": "code",
      "metadata": {
        "colab": {
          "base_uri": "https://localhost:8080/"
        },
        "id": "r5jd3KybQXVk",
        "outputId": "e9e624e9-a285-414f-bfe9-4176caf949f4"
      },
      "source": [
        "roc_auc_score(y_train, y_scores)"
      ],
      "execution_count": 220,
      "outputs": [
        {
          "output_type": "execute_result",
          "data": {
            "text/plain": [
              "0.8728862973760934"
            ]
          },
          "metadata": {
            "tags": []
          },
          "execution_count": 220
        }
      ]
    },
    {
      "cell_type": "code",
      "metadata": {
        "colab": {
          "base_uri": "https://localhost:8080/"
        },
        "id": "ljdsxclLTJO3",
        "outputId": "8ef0878f-3d72-4275-c4f3-033d5eaf50cf"
      },
      "source": [
        "confusion_matrix(y_train, y_scores)"
      ],
      "execution_count": 221,
      "outputs": [
        {
          "output_type": "execute_result",
          "data": {
            "text/plain": [
              "array([[3181,  249],\n",
              "       [ 623, 2807]])"
            ]
          },
          "metadata": {
            "tags": []
          },
          "execution_count": 221
        }
      ]
    },
    {
      "cell_type": "markdown",
      "metadata": {
        "id": "RGEHLTgdQbRV"
      },
      "source": [
        "## MLP"
      ]
    },
    {
      "cell_type": "code",
      "metadata": {
        "colab": {
          "base_uri": "https://localhost:8080/",
          "height": 350
        },
        "id": "6hrfeiSJQcjk",
        "outputId": "c5abdbd7-c5ff-4889-9e54-de6040f3a204"
      },
      "source": [
        "y_scores = cross_val_predict(clf_MLP, X_train, y_train, cv=3)\n",
        "\n",
        "fpr, tpr, threshold = roc_curve(y_train, y_scores)\n",
        "plt.plot(fpr, tpr)"
      ],
      "execution_count": 222,
      "outputs": [
        {
          "output_type": "stream",
          "text": [
            "/usr/local/lib/python3.7/dist-packages/sklearn/neural_network/_multilayer_perceptron.py:571: ConvergenceWarning: Stochastic Optimizer: Maximum iterations (300) reached and the optimization hasn't converged yet.\n",
            "  % self.max_iter, ConvergenceWarning)\n",
            "/usr/local/lib/python3.7/dist-packages/sklearn/neural_network/_multilayer_perceptron.py:571: ConvergenceWarning: Stochastic Optimizer: Maximum iterations (300) reached and the optimization hasn't converged yet.\n",
            "  % self.max_iter, ConvergenceWarning)\n"
          ],
          "name": "stderr"
        },
        {
          "output_type": "execute_result",
          "data": {
            "text/plain": [
              "[<matplotlib.lines.Line2D at 0x7fb145c81110>]"
            ]
          },
          "metadata": {
            "tags": []
          },
          "execution_count": 222
        },
        {
          "output_type": "display_data",
          "data": {
            "image/png": "[encoded data removed]",
            "text/plain": [
              "<Figure size 432x288 with 1 Axes>"
            ]
          },
          "metadata": {
            "tags": [],
            "needs_background": "light"
          }
        }
      ]
    },
    {
      "cell_type": "code",
      "metadata": {
        "colab": {
          "base_uri": "https://localhost:8080/"
        },
        "id": "Exgs1FSBQrnM",
        "outputId": "422b00de-bb25-43fd-944e-47fb7aa91455"
      },
      "source": [
        "roc_auc_score(y_train, y_scores)"
      ],
      "execution_count": 223,
      "outputs": [
        {
          "output_type": "execute_result",
          "data": {
            "text/plain": [
              "0.7870262390670554"
            ]
          },
          "metadata": {
            "tags": []
          },
          "execution_count": 223
        }
      ]
    },
    {
      "cell_type": "code",
      "metadata": {
        "colab": {
          "base_uri": "https://localhost:8080/"
        },
        "id": "NIIXlY_HTKu2",
        "outputId": "cc544bcf-40fd-488d-e633-81c44da6f78a"
      },
      "source": [
        "confusion_matrix(y_train, y_scores)"
      ],
      "execution_count": 224,
      "outputs": [
        {
          "output_type": "execute_result",
          "data": {
            "text/plain": [
              "array([[2914,  516],\n",
              "       [ 945, 2485]])"
            ]
          },
          "metadata": {
            "tags": []
          },
          "execution_count": 224
        }
      ]
    },
    {
      "cell_type": "markdown",
      "metadata": {
        "id": "W4Bw8-aJo8PF"
      },
      "source": [
        "# assess accuracy (test data)"
      ]
    },
    {
      "cell_type": "code",
      "metadata": {
        "colab": {
          "base_uri": "https://localhost:8080/"
        },
        "id": "00PKuGAZtsYG",
        "outputId": "58f8bd1f-11e9-4fb9-be6e-944d4822cc66"
      },
      "source": [
        "X_test, y_test = data_prep.transform(test)\n",
        "X_test, y_test = sm.fit_resample(X_test, y_test)"
      ],
      "execution_count": 225,
      "outputs": [
        {
          "output_type": "stream",
          "text": [
            "/usr/local/lib/python3.7/dist-packages/sklearn/utils/deprecation.py:87: FutureWarning: Function safe_indexing is deprecated; safe_indexing is deprecated in version 0.22 and will be removed in version 0.24.\n",
            "  warnings.warn(msg, category=FutureWarning)\n"
          ],
          "name": "stderr"
        }
      ]
    },
    {
      "cell_type": "markdown",
      "metadata": {
        "id": "PLZOn2JFpCl6"
      },
      "source": [
        "## SVC"
      ]
    },
    {
      "cell_type": "code",
      "metadata": {
        "colab": {
          "base_uri": "https://localhost:8080/",
          "height": 282
        },
        "id": "7Yl_vY54o78g",
        "outputId": "24704de7-736e-4ba3-9058-18e30e333648"
      },
      "source": [
        "y_scores = clf_SVC.predict(X_test)\n",
        "\n",
        "fpr, tpr, threshold = roc_curve(y_test, y_scores)\n",
        "plt.plot(fpr, tpr)"
      ],
      "execution_count": 226,
      "outputs": [
        {
          "output_type": "execute_result",
          "data": {
            "text/plain": [
              "[<matplotlib.lines.Line2D at 0x7fb145c686d0>]"
            ]
          },
          "metadata": {
            "tags": []
          },
          "execution_count": 226
        },
        {
          "output_type": "display_data",
          "data": {
            "image/png": "[encoded data removed]",
            "text/plain": [
              "<Figure size 432x288 with 1 Axes>"
            ]
          },
          "metadata": {
            "tags": [],
            "needs_background": "light"
          }
        }
      ]
    },
    {
      "cell_type": "code",
      "metadata": {
        "colab": {
          "base_uri": "https://localhost:8080/"
        },
        "id": "ep1LssAzwKHQ",
        "outputId": "cb597228-46ad-499c-eb89-9876a6fc40b4"
      },
      "source": [
        "roc_auc_score(y_test, y_scores)"
      ],
      "execution_count": 227,
      "outputs": [
        {
          "output_type": "execute_result",
          "data": {
            "text/plain": [
              "0.737367802585194"
            ]
          },
          "metadata": {
            "tags": []
          },
          "execution_count": 227
        }
      ]
    },
    {
      "cell_type": "code",
      "metadata": {
        "colab": {
          "base_uri": "https://localhost:8080/"
        },
        "id": "GAIDovB-wbEW",
        "outputId": "4c1367f9-b65b-4238-b136-f40333725e27"
      },
      "source": [
        "confusion_matrix(y_test, y_scores)"
      ],
      "execution_count": 228,
      "outputs": [
        {
          "output_type": "execute_result",
          "data": {
            "text/plain": [
              "array([[710, 141],\n",
              "       [306, 545]])"
            ]
          },
          "metadata": {
            "tags": []
          },
          "execution_count": 228
        }
      ]
    },
    {
      "cell_type": "markdown",
      "metadata": {
        "id": "uZY1C1Jewm8b"
      },
      "source": [
        "## random forest\n"
      ]
    },
    {
      "cell_type": "code",
      "metadata": {
        "colab": {
          "base_uri": "https://localhost:8080/",
          "height": 282
        },
        "id": "kvztssFHwsBb",
        "outputId": "3259d641-fdce-4d4b-a0d9-d173c1ee4be1"
      },
      "source": [
        "y_scores = clf_RanFor.predict(X_test)\n",
        "\n",
        "fpr, tpr, threshold = roc_curve(y_test, y_scores)\n",
        "plt.plot(fpr, tpr)"
      ],
      "execution_count": 229,
      "outputs": [
        {
          "output_type": "execute_result",
          "data": {
            "text/plain": [
              "[<matplotlib.lines.Line2D at 0x7fb145bccb50>]"
            ]
          },
          "metadata": {
            "tags": []
          },
          "execution_count": 229
        },
        {
          "output_type": "display_data",
          "data": {
            "image/png": "[encoded data removed]",
            "text/plain": [
              "<Figure size 432x288 with 1 Axes>"
            ]
          },
          "metadata": {
            "tags": [],
            "needs_background": "light"
          }
        }
      ]
    },
    {
      "cell_type": "code",
      "metadata": {
        "colab": {
          "base_uri": "https://localhost:8080/"
        },
        "id": "b9oIXe3Gw2cP",
        "outputId": "b80c16ab-8c95-4204-d5a2-3ca49762ea6f"
      },
      "source": [
        "roc_auc_score(y_test, y_scores)"
      ],
      "execution_count": 230,
      "outputs": [
        {
          "output_type": "execute_result",
          "data": {
            "text/plain": [
              "0.7138660399529965"
            ]
          },
          "metadata": {
            "tags": []
          },
          "execution_count": 230
        }
      ]
    },
    {
      "cell_type": "code",
      "metadata": {
        "colab": {
          "base_uri": "https://localhost:8080/"
        },
        "id": "i-BqRKbYw5s8",
        "outputId": "5019073d-aac1-4ab5-e3fd-8d6848edfefc"
      },
      "source": [
        "confusion_matrix(y_test, y_scores)"
      ],
      "execution_count": 231,
      "outputs": [
        {
          "output_type": "execute_result",
          "data": {
            "text/plain": [
              "array([[536, 315],\n",
              "       [172, 679]])"
            ]
          },
          "metadata": {
            "tags": []
          },
          "execution_count": 231
        }
      ]
    },
    {
      "cell_type": "markdown",
      "metadata": {
        "id": "WDLeFi1Ww8Ky"
      },
      "source": [
        "## MLP"
      ]
    },
    {
      "cell_type": "code",
      "metadata": {
        "colab": {
          "base_uri": "https://localhost:8080/",
          "height": 282
        },
        "id": "NP7CylWhw9y5",
        "outputId": "19c4c333-5d4f-41e6-a4b6-a768b6c27aa3"
      },
      "source": [
        "y_scores = clf_MLP.predict(X_test)\n",
        "\n",
        "fpr, tpr, threshold = roc_curve(y_test, y_scores)\n",
        "plt.plot(fpr, tpr)"
      ],
      "execution_count": 232,
      "outputs": [
        {
          "output_type": "execute_result",
          "data": {
            "text/plain": [
              "[<matplotlib.lines.Line2D at 0x7fb145baef50>]"
            ]
          },
          "metadata": {
            "tags": []
          },
          "execution_count": 232
        },
        {
          "output_type": "display_data",
          "data": {
            "image/png": "[encoded data removed]",
            "text/plain": [
              "<Figure size 432x288 with 1 Axes>"
            ]
          },
          "metadata": {
            "tags": [],
            "needs_background": "light"
          }
        }
      ]
    },
    {
      "cell_type": "code",
      "metadata": {
        "colab": {
          "base_uri": "https://localhost:8080/"
        },
        "id": "RfE21EyvxJKE",
        "outputId": "8d51594a-139c-4287-f239-2c5608856ab1"
      },
      "source": [
        "roc_auc_score(y_test, y_scores)"
      ],
      "execution_count": 233,
      "outputs": [
        {
          "output_type": "execute_result",
          "data": {
            "text/plain": [
              "0.754994124559342"
            ]
          },
          "metadata": {
            "tags": []
          },
          "execution_count": 233
        }
      ]
    },
    {
      "cell_type": "code",
      "metadata": {
        "colab": {
          "base_uri": "https://localhost:8080/"
        },
        "id": "m0sbX83xxNLD",
        "outputId": "a4030fb2-5e18-49ce-9725-cc72d7b94ff7"
      },
      "source": [
        "confusion_matrix(y_test, y_scores)"
      ],
      "execution_count": 234,
      "outputs": [
        {
          "output_type": "execute_result",
          "data": {
            "text/plain": [
              "array([[738, 113],\n",
              "       [304, 547]])"
            ]
          },
          "metadata": {
            "tags": []
          },
          "execution_count": 234
        }
      ]
    },
    {
      "cell_type": "markdown",
      "metadata": {
        "id": "wZ7a8xlryMkF"
      },
      "source": [
        "# XAI methods"
      ]
    },
    {
      "cell_type": "code",
      "metadata": {
        "colab": {
          "base_uri": "https://localhost:8080/"
        },
        "id": "6rIzqPHDysTz",
        "outputId": "34274771-9751-4ce5-c0a0-61c7979edbf1"
      },
      "source": [
        "! pip install lime"
      ],
      "execution_count": 237,
      "outputs": [
        {
          "output_type": "stream",
          "text": [
            "Collecting lime\n",
            "\u001b[?25l  Downloading https://files.pythonhosted.org/packages/f5/86/91a13127d83d793ecb50eb75e716f76e6eda809b6803c5a4ff462339789e/lime-0.2.0.1.tar.gz (275kB)\n",
            "\r\u001b[K     |█▏                              | 10kB 11.2MB/s eta 0:00:01\r\u001b[K     |██▍                             | 20kB 15.1MB/s eta 0:00:01\r\u001b[K     |███▋                            | 30kB 14.3MB/s eta 0:00:01\r\u001b[K     |████▊                           | 40kB 11.3MB/s eta 0:00:01\r\u001b[K     |██████                          | 51kB 10.2MB/s eta 0:00:01\r\u001b[K     |███████▏                        | 61kB 9.6MB/s eta 0:00:01\r\u001b[K     |████████▎                       | 71kB 9.9MB/s eta 0:00:01\r\u001b[K     |█████████▌                      | 81kB 8.9MB/s eta 0:00:01\r\u001b[K     |██████████▊                     | 92kB 9.0MB/s eta 0:00:01\r\u001b[K     |███████████▉                    | 102kB 9.1MB/s eta 0:00:01\r\u001b[K     |█████████████                   | 112kB 9.1MB/s eta 0:00:01\r\u001b[K     |██████████████▎                 | 122kB 9.1MB/s eta 0:00:01\r\u001b[K     |███████████████▌                | 133kB 9.1MB/s eta 0:00:01\r\u001b[K     |████████████████▋               | 143kB 9.1MB/s eta 0:00:01\r\u001b[K     |█████████████████▉              | 153kB 9.1MB/s eta 0:00:01\r\u001b[K     |███████████████████             | 163kB 9.1MB/s eta 0:00:01\r\u001b[K     |████████████████████▏           | 174kB 9.1MB/s eta 0:00:01\r\u001b[K     |█████████████████████▍          | 184kB 9.1MB/s eta 0:00:01\r\u001b[K     |██████████████████████▋         | 194kB 9.1MB/s eta 0:00:01\r\u001b[K     |███████████████████████▊        | 204kB 9.1MB/s eta 0:00:01\r\u001b[K     |█████████████████████████       | 215kB 9.1MB/s eta 0:00:01\r\u001b[K     |██████████████████████████▏     | 225kB 9.1MB/s eta 0:00:01\r\u001b[K     |███████████████████████████▍    | 235kB 9.1MB/s eta 0:00:01\r\u001b[K     |████████████████████████████▌   | 245kB 9.1MB/s eta 0:00:01\r\u001b[K     |█████████████████████████████▊  | 256kB 9.1MB/s eta 0:00:01\r\u001b[K     |███████████████████████████████ | 266kB 9.1MB/s eta 0:00:01\r\u001b[K     |████████████████████████████████| 276kB 9.1MB/s \n",
            "\u001b[?25hRequirement already satisfied: matplotlib in /usr/local/lib/python3.7/dist-packages (from lime) (3.2.2)\n",
            "Requirement already satisfied: numpy in /usr/local/lib/python3.7/dist-packages (from lime) (1.19.5)\n",
            "Requirement already satisfied: scipy in /usr/local/lib/python3.7/dist-packages (from lime) (1.4.1)\n",
            "Requirement already satisfied: tqdm in /usr/local/lib/python3.7/dist-packages (from lime) (4.41.1)\n",
            "Requirement already satisfied: scikit-learn>=0.18 in /usr/local/lib/python3.7/dist-packages (from lime) (0.22.2.post1)\n",
            "Requirement already satisfied: scikit-image>=0.12 in /usr/local/lib/python3.7/dist-packages (from lime) (0.16.2)\n",
            "Requirement already satisfied: pyparsing!=2.0.4,!=2.1.2,!=2.1.6,>=2.0.1 in /usr/local/lib/python3.7/dist-packages (from matplotlib->lime) (2.4.7)\n",
            "Requirement already satisfied: cycler>=0.10 in /usr/local/lib/python3.7/dist-packages (from matplotlib->lime) (0.10.0)\n",
            "Requirement already satisfied: kiwisolver>=1.0.1 in /usr/local/lib/python3.7/dist-packages (from matplotlib->lime) (1.3.1)\n",
            "Requirement already satisfied: python-dateutil>=2.1 in /usr/local/lib/python3.7/dist-packages (from matplotlib->lime) (2.8.1)\n",
            "Requirement already satisfied: joblib>=0.11 in /usr/local/lib/python3.7/dist-packages (from scikit-learn>=0.18->lime) (1.0.1)\n",
            "Requirement already satisfied: imageio>=2.3.0 in /usr/local/lib/python3.7/dist-packages (from scikit-image>=0.12->lime) (2.4.1)\n",
            "Requirement already satisfied: pillow>=4.3.0 in /usr/local/lib/python3.7/dist-packages (from scikit-image>=0.12->lime) (7.1.2)\n",
            "Requirement already satisfied: PyWavelets>=0.4.0 in /usr/local/lib/python3.7/dist-packages (from scikit-image>=0.12->lime) (1.1.1)\n",
            "Requirement already satisfied: networkx>=2.0 in /usr/local/lib/python3.7/dist-packages (from scikit-image>=0.12->lime) (2.5.1)\n",
            "Requirement already satisfied: six in /usr/local/lib/python3.7/dist-packages (from cycler>=0.10->matplotlib->lime) (1.15.0)\n",
            "Requirement already satisfied: decorator<5,>=4.3 in /usr/local/lib/python3.7/dist-packages (from networkx>=2.0->scikit-image>=0.12->lime) (4.4.2)\n",
            "Building wheels for collected packages: lime\n",
            "  Building wheel for lime (setup.py) ... \u001b[?25l\u001b[?25hdone\n",
            "  Created wheel for lime: filename=lime-0.2.0.1-cp37-none-any.whl size=283846 sha256=c37ecaf53def6a6eefc262c474be1ee769bdc4fdfb1eb118f78c0fff47d8924e\n",
            "  Stored in directory: /root/.cache/pip/wheels/4c/4f/a5/0bc765457bd41378bf3ce8d17d7495369d6e7ca3b712c60c89\n",
            "Successfully built lime\n",
            "Installing collected packages: lime\n",
            "Successfully installed lime-0.2.0.1\n"
          ],
          "name": "stdout"
        }
      ]
    },
    {
      "cell_type": "markdown",
      "metadata": {
        "id": "S4LpLGgwyPPG"
      },
      "source": [
        "## LIME"
      ]
    },
    {
      "cell_type": "code",
      "metadata": {
        "id": "039ebUNAyL4V"
      },
      "source": [
        "from lime import lime_tabular\n",
        "\n",
        "def run_lime(classifier, sample):\n",
        "  explainer = lime_tabular.LimeTabularExplainer(\n",
        "        training_data=np.array(X_train),\n",
        "        feature_names=X_train.columns,\n",
        "        class_names=['Fail', 'Pass'],\n",
        "        mode='classification'\n",
        "    )\n",
        "  exp = explainer.explain_instance(\n",
        "        data_row=sample,\n",
        "        predict_fn=classifier.predict_proba\n",
        "    )\n",
        "  return exp.show_in_notebook(show_table = True)\n",
        "  "
      ],
      "execution_count": 242,
      "outputs": []
    },
    {
      "cell_type": "code",
      "metadata": {
        "colab": {
          "base_uri": "https://localhost:8080/",
          "height": 300
        },
        "id": "o5UoqKvkzccN",
        "outputId": "b6c02310-67e8-48a6-f602-d79aa55772ae"
      },
      "source": [
        "instance = X_test[1]\n",
        "run_lime(clf_SVC, instance)"
      ],
      "execution_count": 244,
      "outputs": [
        {
          "output_type": "error",
          "ename": "AttributeError",
          "evalue": "ignored",
          "traceback": [
            "\u001b[0;31m---------------------------------------------------------------------------\u001b[0m",
            "\u001b[0;31mAttributeError\u001b[0m                            Traceback (most recent call last)",
            "\u001b[0;32m<ipython-input-244-3d0b6d9261cf>\u001b[0m in \u001b[0;36m<module>\u001b[0;34m()\u001b[0m\n\u001b[1;32m      1\u001b[0m \u001b[0minstance\u001b[0m \u001b[0;34m=\u001b[0m \u001b[0mX_test\u001b[0m\u001b[0;34m[\u001b[0m\u001b[0;36m1\u001b[0m\u001b[0;34m]\u001b[0m\u001b[0;34m\u001b[0m\u001b[0;34m\u001b[0m\u001b[0m\n\u001b[0;32m----> 2\u001b[0;31m \u001b[0mrun_lime\u001b[0m\u001b[0;34m(\u001b[0m\u001b[0mclf_SVC\u001b[0m\u001b[0;34m,\u001b[0m \u001b[0minstance\u001b[0m\u001b[0;34m)\u001b[0m\u001b[0;34m\u001b[0m\u001b[0;34m\u001b[0m\u001b[0m\n\u001b[0m",
            "\u001b[0;32m<ipython-input-242-5f23758e3958>\u001b[0m in \u001b[0;36mrun_lime\u001b[0;34m(classifier, sample)\u001b[0m\n\u001b[1;32m      4\u001b[0m   explainer = lime_tabular.LimeTabularExplainer(\n\u001b[1;32m      5\u001b[0m         \u001b[0mtraining_data\u001b[0m\u001b[0;34m=\u001b[0m\u001b[0mnp\u001b[0m\u001b[0;34m.\u001b[0m\u001b[0marray\u001b[0m\u001b[0;34m(\u001b[0m\u001b[0mX_train\u001b[0m\u001b[0;34m)\u001b[0m\u001b[0;34m,\u001b[0m\u001b[0;34m\u001b[0m\u001b[0;34m\u001b[0m\u001b[0m\n\u001b[0;32m----> 6\u001b[0;31m         \u001b[0mfeature_names\u001b[0m\u001b[0;34m=\u001b[0m\u001b[0mX_train\u001b[0m\u001b[0;34m.\u001b[0m\u001b[0mcolumns\u001b[0m\u001b[0;34m,\u001b[0m\u001b[0;34m\u001b[0m\u001b[0;34m\u001b[0m\u001b[0m\n\u001b[0m\u001b[1;32m      7\u001b[0m         \u001b[0mclass_names\u001b[0m\u001b[0;34m=\u001b[0m\u001b[0;34m[\u001b[0m\u001b[0;34m'Fail'\u001b[0m\u001b[0;34m,\u001b[0m \u001b[0;34m'Pass'\u001b[0m\u001b[0;34m]\u001b[0m\u001b[0;34m,\u001b[0m\u001b[0;34m\u001b[0m\u001b[0;34m\u001b[0m\u001b[0m\n\u001b[1;32m      8\u001b[0m         \u001b[0mmode\u001b[0m\u001b[0;34m=\u001b[0m\u001b[0;34m'classification'\u001b[0m\u001b[0;34m\u001b[0m\u001b[0;34m\u001b[0m\u001b[0m\n",
            "\u001b[0;31mAttributeError\u001b[0m: 'numpy.ndarray' object has no attribute 'columns'"
          ]
        }
      ]
    }
  ]
}