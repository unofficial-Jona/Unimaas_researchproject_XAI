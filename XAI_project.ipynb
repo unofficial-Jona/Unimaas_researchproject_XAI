{
  "nbformat": 4,
  "nbformat_minor": 0,
  "metadata": {
    "colab": {
      "name": "XAI-project.ipynb",
      "provenance": [],
      "toc_visible": true,
      "authorship_tag": "ABX9TyMRKdHERxzHYHaeW7uW3IxV",
      "include_colab_link": true
    },
    "kernelspec": {
      "name": "python3",
      "display_name": "Python 3"
    },
    "language_info": {
      "name": "python"
    }
  },
  "cells": [
    {
      "cell_type": "markdown",
      "metadata": {
        "id": "view-in-github",
        "colab_type": "text"
      },
      "source": [
        "<a href=\"https://colab.research.google.com/github/unofficial-Jona/XAI-Group/blob/master/XAI_project.ipynb\" target=\"_parent\"><img src=\"https://colab.research.google.com/assets/colab-badge.svg\" alt=\"Open In Colab\"/></a>"
      ]
    },
    {
      "cell_type": "markdown",
      "metadata": {
        "id": "u6fffWX_4b--"
      },
      "source": [
        "# Load Data"
      ]
    },
    {
      "cell_type": "code",
      "metadata": {
        "id": "FANzadmm8GMR"
      },
      "source": [
        "import numpy as np\n",
        "import pandas as pd\n",
        "import matplotlib.pyplot as plt\n"
      ],
      "execution_count": 77,
      "outputs": []
    },
    {
      "cell_type": "code",
      "metadata": {
        "colab": {
          "base_uri": "https://localhost:8080/",
          "height": 419
        },
        "id": "x_rDljC27v4U",
        "outputId": "3701388f-56b9-4330-c9c1-4ad1d4f230ad"
      },
      "source": [
        "df = pd.read_csv('initialized_dataset')\n",
        "df"
      ],
      "execution_count": 78,
      "outputs": [
        {
          "output_type": "execute_result",
          "data": {
            "text/html": [
              "<div>\n",
              "<style scoped>\n",
              "    .dataframe tbody tr th:only-of-type {\n",
              "        vertical-align: middle;\n",
              "    }\n",
              "\n",
              "    .dataframe tbody tr th {\n",
              "        vertical-align: top;\n",
              "    }\n",
              "\n",
              "    .dataframe thead th {\n",
              "        text-align: right;\n",
              "    }\n",
              "</style>\n",
              "<table border=\"1\" class=\"dataframe\">\n",
              "  <thead>\n",
              "    <tr style=\"text-align: right;\">\n",
              "      <th></th>\n",
              "      <th>num_of_prev_attempts</th>\n",
              "      <th>final_result</th>\n",
              "      <th>weighted_grade</th>\n",
              "      <th>pass_rate</th>\n",
              "      <th>date</th>\n",
              "      <th>sum_click</th>\n",
              "    </tr>\n",
              "  </thead>\n",
              "  <tbody>\n",
              "    <tr>\n",
              "      <th>0</th>\n",
              "      <td>0</td>\n",
              "      <td>Distinction</td>\n",
              "      <td>89.65</td>\n",
              "      <td>1.000</td>\n",
              "      <td>103.457907</td>\n",
              "      <td>2.706754</td>\n",
              "    </tr>\n",
              "    <tr>\n",
              "      <th>1</th>\n",
              "      <td>0</td>\n",
              "      <td>Pass</td>\n",
              "      <td>84.58</td>\n",
              "      <td>1.000</td>\n",
              "      <td>87.617265</td>\n",
              "      <td>1.539047</td>\n",
              "    </tr>\n",
              "    <tr>\n",
              "      <th>2</th>\n",
              "      <td>0</td>\n",
              "      <td>Pass</td>\n",
              "      <td>51.44</td>\n",
              "      <td>0.625</td>\n",
              "      <td>49.181286</td>\n",
              "      <td>1.562619</td>\n",
              "    </tr>\n",
              "    <tr>\n",
              "      <th>3</th>\n",
              "      <td>0</td>\n",
              "      <td>Pass</td>\n",
              "      <td>75.13</td>\n",
              "      <td>1.000</td>\n",
              "      <td>118.698642</td>\n",
              "      <td>2.189217</td>\n",
              "    </tr>\n",
              "    <tr>\n",
              "      <th>4</th>\n",
              "      <td>0</td>\n",
              "      <td>Distinction</td>\n",
              "      <td>93.22</td>\n",
              "      <td>1.000</td>\n",
              "      <td>75.791987</td>\n",
              "      <td>2.100617</td>\n",
              "    </tr>\n",
              "    <tr>\n",
              "      <th>...</th>\n",
              "      <td>...</td>\n",
              "      <td>...</td>\n",
              "      <td>...</td>\n",
              "      <td>...</td>\n",
              "      <td>...</td>\n",
              "      <td>...</td>\n",
              "    </tr>\n",
              "    <tr>\n",
              "      <th>4945</th>\n",
              "      <td>0</td>\n",
              "      <td>Pass</td>\n",
              "      <td>87.30</td>\n",
              "      <td>1.000</td>\n",
              "      <td>122.839227</td>\n",
              "      <td>1.322085</td>\n",
              "    </tr>\n",
              "    <tr>\n",
              "      <th>4946</th>\n",
              "      <td>0</td>\n",
              "      <td>Pass</td>\n",
              "      <td>81.80</td>\n",
              "      <td>1.000</td>\n",
              "      <td>63.128534</td>\n",
              "      <td>1.564681</td>\n",
              "    </tr>\n",
              "    <tr>\n",
              "      <th>4947</th>\n",
              "      <td>0</td>\n",
              "      <td>Pass</td>\n",
              "      <td>80.05</td>\n",
              "      <td>1.000</td>\n",
              "      <td>92.756349</td>\n",
              "      <td>1.615318</td>\n",
              "    </tr>\n",
              "    <tr>\n",
              "      <th>4948</th>\n",
              "      <td>0</td>\n",
              "      <td>Pass</td>\n",
              "      <td>65.75</td>\n",
              "      <td>1.000</td>\n",
              "      <td>128.453230</td>\n",
              "      <td>1.975989</td>\n",
              "    </tr>\n",
              "    <tr>\n",
              "      <th>4949</th>\n",
              "      <td>1</td>\n",
              "      <td>Pass</td>\n",
              "      <td>71.05</td>\n",
              "      <td>1.000</td>\n",
              "      <td>77.007493</td>\n",
              "      <td>1.631076</td>\n",
              "    </tr>\n",
              "  </tbody>\n",
              "</table>\n",
              "<p>4950 rows × 6 columns</p>\n",
              "</div>"
            ],
            "text/plain": [
              "      num_of_prev_attempts final_result  ...        date  sum_click\n",
              "0                        0  Distinction  ...  103.457907   2.706754\n",
              "1                        0         Pass  ...   87.617265   1.539047\n",
              "2                        0         Pass  ...   49.181286   1.562619\n",
              "3                        0         Pass  ...  118.698642   2.189217\n",
              "4                        0  Distinction  ...   75.791987   2.100617\n",
              "...                    ...          ...  ...         ...        ...\n",
              "4945                     0         Pass  ...  122.839227   1.322085\n",
              "4946                     0         Pass  ...   63.128534   1.564681\n",
              "4947                     0         Pass  ...   92.756349   1.615318\n",
              "4948                     0         Pass  ...  128.453230   1.975989\n",
              "4949                     1         Pass  ...   77.007493   1.631076\n",
              "\n",
              "[4950 rows x 6 columns]"
            ]
          },
          "metadata": {
            "tags": []
          },
          "execution_count": 78
        }
      ]
    },
    {
      "cell_type": "markdown",
      "metadata": {
        "id": "-Zv6bj0v8elm"
      },
      "source": [
        "# data split"
      ]
    },
    {
      "cell_type": "code",
      "metadata": {
        "id": "QjmPqXz38f56"
      },
      "source": [
        "from sklearn import model_selection\n",
        "from sklearn.base import BaseEstimator, TransformerMixin\n",
        "from sklearn.preprocessing import MinMaxScaler\n",
        "\n",
        "class PrepareDataset(BaseEstimator, TransformerMixin):\n",
        "    def __init__(self, prepare_nn=False):\n",
        "        self.prepare_nn = prepare_nn\n",
        "    def fit(self, X):\n",
        "        return self\n",
        "    def transform(self, df):\n",
        "        train, test = model_selection.train_test_split(df, test_size=0.2)\n",
        "        y_train_orig = train[\"final_result\"].values\n",
        "        y_train = np.where(y_train_orig == 'Distinction', 'Pass', y_train_orig)\n",
        "        X_train = train.drop([\"final_result\"], axis=1)\n",
        "        y_test_orig = test[\"final_result\"].values\n",
        "        y_test = np.where(y_test_orig == 'Distinction', 'Pass', y_test_orig)\n",
        "        X_test = test.drop([\"final_result\"], axis=1)\n",
        "        if self.prepare_nn:\n",
        "            scaler = MinMaxScaler()\n",
        "            X_train = scaler.fit_transform(X_train)\n",
        "            X_test = scaler.fit_transform(X_test)\n",
        "            return X_train, X_test, y_train, y_test\n",
        "        else:\n",
        "            return X_train, X_test, y_train, y_test\n",
        "\n",
        "data_prep = PrepareDataset()\n",
        "X_train, X_test, y_train, y_test = data_prep.transform(df)"
      ],
      "execution_count": 79,
      "outputs": []
    },
    {
      "cell_type": "markdown",
      "metadata": {
        "id": "zcRxs_D78xF1"
      },
      "source": [
        "# model set up"
      ]
    },
    {
      "cell_type": "markdown",
      "metadata": {
        "id": "L5sA2gkY81l-"
      },
      "source": [
        "## SVC"
      ]
    },
    {
      "cell_type": "code",
      "metadata": {
        "colab": {
          "base_uri": "https://localhost:8080/"
        },
        "id": "x2Cj_bge801I",
        "outputId": "9c255b8a-73e7-4aa2-da76-e99467031489"
      },
      "source": [
        "from sklearn.svm import SVC\n",
        "\n",
        "clf_SVC = SVC(kernel='rbf', probability=True)\n",
        "clf_SVC.fit(X_train, y_train)"
      ],
      "execution_count": 80,
      "outputs": [
        {
          "output_type": "execute_result",
          "data": {
            "text/plain": [
              "SVC(C=1.0, break_ties=False, cache_size=200, class_weight=None, coef0=0.0,\n",
              "    decision_function_shape='ovr', degree=3, gamma='scale', kernel='rbf',\n",
              "    max_iter=-1, probability=True, random_state=None, shrinking=True, tol=0.001,\n",
              "    verbose=False)"
            ]
          },
          "metadata": {
            "tags": []
          },
          "execution_count": 80
        }
      ]
    },
    {
      "cell_type": "markdown",
      "metadata": {
        "id": "LqHRtbNC9KjZ"
      },
      "source": [
        "## random forest"
      ]
    },
    {
      "cell_type": "code",
      "metadata": {
        "colab": {
          "base_uri": "https://localhost:8080/"
        },
        "id": "ZKhrdNCf9MFq",
        "outputId": "228d7efe-4f0e-4165-eb98-aad104fbaf31"
      },
      "source": [
        "from sklearn.ensemble import RandomForestClassifier\n",
        "\n",
        "\n",
        "clf_RanFor = RandomForestClassifier()\n",
        "clf_RanFor.fit(X_train,y_train)"
      ],
      "execution_count": 81,
      "outputs": [
        {
          "output_type": "execute_result",
          "data": {
            "text/plain": [
              "RandomForestClassifier(bootstrap=True, ccp_alpha=0.0, class_weight=None,\n",
              "                       criterion='gini', max_depth=None, max_features='auto',\n",
              "                       max_leaf_nodes=None, max_samples=None,\n",
              "                       min_impurity_decrease=0.0, min_impurity_split=None,\n",
              "                       min_samples_leaf=1, min_samples_split=2,\n",
              "                       min_weight_fraction_leaf=0.0, n_estimators=100,\n",
              "                       n_jobs=None, oob_score=False, random_state=None,\n",
              "                       verbose=0, warm_start=False)"
            ]
          },
          "metadata": {
            "tags": []
          },
          "execution_count": 81
        }
      ]
    },
    {
      "cell_type": "markdown",
      "metadata": {
        "id": "6QfeLBqo9QvE"
      },
      "source": [
        "## MLP"
      ]
    },
    {
      "cell_type": "code",
      "metadata": {
        "colab": {
          "base_uri": "https://localhost:8080/"
        },
        "id": "ar4gzKlH9U7s",
        "outputId": "e68d1a4d-fbb7-41c4-c271-590e02a5f65e"
      },
      "source": [
        "from sklearn.neural_network import MLPClassifier\n",
        "from sklearn.model_selection import cross_val_score\n",
        "\n",
        "\n",
        "prep = PrepareDataset(prepare_nn=True)\n",
        "X_train_mlp, X_test_mlp, y_train_mlp, y_test_mlp = prep.transform(df)\n",
        "\n",
        "clf_MLP = MLPClassifier(random_state=1, max_iter=300)\n",
        "clf_MLP.fit(X_train_mlp, y_train_mlp)"
      ],
      "execution_count": 82,
      "outputs": [
        {
          "output_type": "execute_result",
          "data": {
            "text/plain": [
              "MLPClassifier(activation='relu', alpha=0.0001, batch_size='auto', beta_1=0.9,\n",
              "              beta_2=0.999, early_stopping=False, epsilon=1e-08,\n",
              "              hidden_layer_sizes=(100,), learning_rate='constant',\n",
              "              learning_rate_init=0.001, max_fun=15000, max_iter=300,\n",
              "              momentum=0.9, n_iter_no_change=10, nesterovs_momentum=True,\n",
              "              power_t=0.5, random_state=1, shuffle=True, solver='adam',\n",
              "              tol=0.0001, validation_fraction=0.1, verbose=False,\n",
              "              warm_start=False)"
            ]
          },
          "metadata": {
            "tags": []
          },
          "execution_count": 82
        }
      ]
    },
    {
      "cell_type": "markdown",
      "metadata": {
        "id": "5nDvpQVIAfIu"
      },
      "source": [
        "# assess accuracy"
      ]
    },
    {
      "cell_type": "code",
      "metadata": {
        "colab": {
          "base_uri": "https://localhost:8080/"
        },
        "id": "F2vYwtPzOYzf",
        "outputId": "09e5ddae-0a7c-4d65-d11c-8011ccb67d72"
      },
      "source": [
        "y_train_bool = np.where(y_train == 'Pass', 1, y_train)\n",
        "y_train_bool = np.where(y_train_bool == 'Fail', 0, y_train_bool)\n",
        "y_train_bool = y_train_bool.astype(bool)\n",
        "y_train_bool"
      ],
      "execution_count": 83,
      "outputs": [
        {
          "output_type": "execute_result",
          "data": {
            "text/plain": [
              "array([ True,  True,  True, ...,  True,  True,  True])"
            ]
          },
          "metadata": {
            "tags": []
          },
          "execution_count": 83
        }
      ]
    },
    {
      "cell_type": "markdown",
      "metadata": {
        "id": "TGi23_wtBFeW"
      },
      "source": [
        "## SVC"
      ]
    },
    {
      "cell_type": "code",
      "metadata": {
        "colab": {
          "base_uri": "https://localhost:8080/",
          "height": 282
        },
        "id": "M318wfsnBE8m",
        "outputId": "9deee419-37df-49b1-8c42-c9457c1b2aa5"
      },
      "source": [
        "from sklearn.metrics import roc_curve, roc_auc_score\n",
        "from sklearn.metrics import precision_score, recall_score, confusion_matrix\n",
        "from sklearn.model_selection import cross_val_predict\n",
        "\n",
        "y_scores = cross_val_predict(clf_SVC, X_train, y_train_bool, cv=3)\n",
        "\n",
        "fpr, tpr, threshold = roc_curve(y_train_bool, y_scores)\n",
        "plt.plot(fpr,tpr)"
      ],
      "execution_count": 96,
      "outputs": [
        {
          "output_type": "execute_result",
          "data": {
            "text/plain": [
              "[<matplotlib.lines.Line2D at 0x7ff1e342b450>]"
            ]
          },
          "metadata": {
            "tags": []
          },
          "execution_count": 96
        },
        {
          "output_type": "display_data",
          "data": {
            "image/png": "[encoded data removed]",
            "text/plain": [
              "<Figure size 432x288 with 1 Axes>"
            ]
          },
          "metadata": {
            "tags": [],
            "needs_background": "light"
          }
        }
      ]
    },
    {
      "cell_type": "code",
      "metadata": {
        "colab": {
          "base_uri": "https://localhost:8080/"
        },
        "id": "3CQ8N0adP8iR",
        "outputId": "0ccf667e-f02c-4fe3-9de8-4b7a95902b82"
      },
      "source": [
        "roc_auc_score(y_train_bool, y_scores)"
      ],
      "execution_count": 85,
      "outputs": [
        {
          "output_type": "execute_result",
          "data": {
            "text/plain": [
              "0.5"
            ]
          },
          "metadata": {
            "tags": []
          },
          "execution_count": 85
        }
      ]
    },
    {
      "cell_type": "markdown",
      "metadata": {
        "id": "13EV0dWQQLzG"
      },
      "source": [
        "## random forest"
      ]
    },
    {
      "cell_type": "code",
      "metadata": {
        "colab": {
          "base_uri": "https://localhost:8080/",
          "height": 282
        },
        "id": "o9vi8mxDQNwn",
        "outputId": "a49b4492-20a4-456d-a3bb-b690efce510e"
      },
      "source": [
        "y_scores = cross_val_predict(clf_RanFor, X_train, y_train_bool)\n",
        "\n",
        "fpr, tpr, threshold = roc_curve(y_train_bool, y_scores)\n",
        "plt.plot(fpr, tpr)"
      ],
      "execution_count": 94,
      "outputs": [
        {
          "output_type": "execute_result",
          "data": {
            "text/plain": [
              "[<matplotlib.lines.Line2D at 0x7ff1e343fc10>]"
            ]
          },
          "metadata": {
            "tags": []
          },
          "execution_count": 94
        },
        {
          "output_type": "display_data",
          "data": {
            "image/png": "[encoded data removed]",
            "text/plain": [
              "<Figure size 432x288 with 1 Axes>"
            ]
          },
          "metadata": {
            "tags": [],
            "needs_background": "light"
          }
        }
      ]
    },
    {
      "cell_type": "code",
      "metadata": {
        "colab": {
          "base_uri": "https://localhost:8080/"
        },
        "id": "r5jd3KybQXVk",
        "outputId": "8191d4d6-cf8b-4944-e6bf-18f54b09343c"
      },
      "source": [
        "roc_auc_score(y_train_bool, y_scores)"
      ],
      "execution_count": 95,
      "outputs": [
        {
          "output_type": "execute_result",
          "data": {
            "text/plain": [
              "0.5806813222546444"
            ]
          },
          "metadata": {
            "tags": []
          },
          "execution_count": 95
        }
      ]
    },
    {
      "cell_type": "markdown",
      "metadata": {
        "id": "RGEHLTgdQbRV"
      },
      "source": [
        "## MLP"
      ]
    },
    {
      "cell_type": "code",
      "metadata": {
        "colab": {
          "base_uri": "https://localhost:8080/",
          "height": 282
        },
        "id": "6hrfeiSJQcjk",
        "outputId": "cd23ba35-bd22-4ebb-c43e-8886ff5e4570"
      },
      "source": [
        "y_scores = cross_val_predict(clf_MLP, X_train, y_train_bool)\n",
        "\n",
        "fpr, tpr, threshold = roc_curve(y_train_bool, y_scores)\n",
        "plt.plot(fpr, tpr)"
      ],
      "execution_count": 97,
      "outputs": [
        {
          "output_type": "execute_result",
          "data": {
            "text/plain": [
              "[<matplotlib.lines.Line2D at 0x7ff1e3388a10>]"
            ]
          },
          "metadata": {
            "tags": []
          },
          "execution_count": 97
        },
        {
          "output_type": "display_data",
          "data": {
            "image/png": "[encoded data removed]",
            "text/plain": [
              "<Figure size 432x288 with 1 Axes>"
            ]
          },
          "metadata": {
            "tags": [],
            "needs_background": "light"
          }
        }
      ]
    },
    {
      "cell_type": "code",
      "metadata": {
        "colab": {
          "base_uri": "https://localhost:8080/"
        },
        "id": "Exgs1FSBQrnM",
        "outputId": "b5221743-2c3f-4fba-fc69-63bd0d147f48"
      },
      "source": [
        "roc_auc_score(y_train_bool, y_scores)"
      ],
      "execution_count": 98,
      "outputs": [
        {
          "output_type": "execute_result",
          "data": {
            "text/plain": [
              "0.5212645792865028"
            ]
          },
          "metadata": {
            "tags": []
          },
          "execution_count": 98
        }
      ]
    }
  ]
}