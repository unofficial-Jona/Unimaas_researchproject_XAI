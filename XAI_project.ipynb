{
  "nbformat": 4,
  "nbformat_minor": 0,
  "metadata": {
    "colab": {
      "name": "XAI-project.ipynb",
      "provenance": [],
      "toc_visible": true,
      "authorship_tag": "ABX9TyNfAER+was+fyWzPTsZQgU1",
      "include_colab_link": true
    },
    "kernelspec": {
      "name": "python3",
      "display_name": "Python 3"
    },
    "language_info": {
      "name": "python"
    }
  },
  "cells": [
    {
      "cell_type": "markdown",
      "metadata": {
        "id": "view-in-github",
        "colab_type": "text"
      },
      "source": [
        "<a href=\"https://colab.research.google.com/github/unofficial-Jona/XAI-Group/blob/master/XAI_project.ipynb\" target=\"_parent\"><img src=\"https://colab.research.google.com/assets/colab-badge.svg\" alt=\"Open In Colab\"/></a>"
      ]
    },
    {
      "cell_type": "markdown",
      "metadata": {
        "id": "u6fffWX_4b--"
      },
      "source": [
        "# Load Data"
      ]
    },
    {
      "cell_type": "code",
      "metadata": {
        "id": "FANzadmm8GMR"
      },
      "source": [
        "import numpy as np\n",
        "import pandas as pd\n",
        "import matplotlib.pyplot as plt\n"
      ],
      "execution_count": 62,
      "outputs": []
    },
    {
      "cell_type": "code",
      "metadata": {
        "colab": {
          "base_uri": "https://localhost:8080/",
          "height": 419
        },
        "id": "x_rDljC27v4U",
        "outputId": "c6cd20c4-a4a8-4e8b-c761-63a18f3a6d1f"
      },
      "source": [
        "df = pd.read_csv('initialized_dataset')\n",
        "df"
      ],
      "execution_count": 63,
      "outputs": [
        {
          "output_type": "execute_result",
          "data": {
            "text/html": [
              "<div>\n",
              "<style scoped>\n",
              "    .dataframe tbody tr th:only-of-type {\n",
              "        vertical-align: middle;\n",
              "    }\n",
              "\n",
              "    .dataframe tbody tr th {\n",
              "        vertical-align: top;\n",
              "    }\n",
              "\n",
              "    .dataframe thead th {\n",
              "        text-align: right;\n",
              "    }\n",
              "</style>\n",
              "<table border=\"1\" class=\"dataframe\">\n",
              "  <thead>\n",
              "    <tr style=\"text-align: right;\">\n",
              "      <th></th>\n",
              "      <th>num_of_prev_attempts</th>\n",
              "      <th>final_result</th>\n",
              "      <th>weighted_grade</th>\n",
              "      <th>pass_rate</th>\n",
              "      <th>date</th>\n",
              "      <th>sum_click</th>\n",
              "    </tr>\n",
              "  </thead>\n",
              "  <tbody>\n",
              "    <tr>\n",
              "      <th>0</th>\n",
              "      <td>0</td>\n",
              "      <td>Distinction</td>\n",
              "      <td>89.65</td>\n",
              "      <td>1.000</td>\n",
              "      <td>103.457907</td>\n",
              "      <td>2.706754</td>\n",
              "    </tr>\n",
              "    <tr>\n",
              "      <th>1</th>\n",
              "      <td>0</td>\n",
              "      <td>Pass</td>\n",
              "      <td>84.58</td>\n",
              "      <td>1.000</td>\n",
              "      <td>87.617265</td>\n",
              "      <td>1.539047</td>\n",
              "    </tr>\n",
              "    <tr>\n",
              "      <th>2</th>\n",
              "      <td>0</td>\n",
              "      <td>Pass</td>\n",
              "      <td>51.44</td>\n",
              "      <td>0.625</td>\n",
              "      <td>49.181286</td>\n",
              "      <td>1.562619</td>\n",
              "    </tr>\n",
              "    <tr>\n",
              "      <th>3</th>\n",
              "      <td>0</td>\n",
              "      <td>Pass</td>\n",
              "      <td>75.13</td>\n",
              "      <td>1.000</td>\n",
              "      <td>118.698642</td>\n",
              "      <td>2.189217</td>\n",
              "    </tr>\n",
              "    <tr>\n",
              "      <th>4</th>\n",
              "      <td>0</td>\n",
              "      <td>Distinction</td>\n",
              "      <td>93.22</td>\n",
              "      <td>1.000</td>\n",
              "      <td>75.791987</td>\n",
              "      <td>2.100617</td>\n",
              "    </tr>\n",
              "    <tr>\n",
              "      <th>...</th>\n",
              "      <td>...</td>\n",
              "      <td>...</td>\n",
              "      <td>...</td>\n",
              "      <td>...</td>\n",
              "      <td>...</td>\n",
              "      <td>...</td>\n",
              "    </tr>\n",
              "    <tr>\n",
              "      <th>4945</th>\n",
              "      <td>0</td>\n",
              "      <td>Pass</td>\n",
              "      <td>87.30</td>\n",
              "      <td>1.000</td>\n",
              "      <td>122.839227</td>\n",
              "      <td>1.322085</td>\n",
              "    </tr>\n",
              "    <tr>\n",
              "      <th>4946</th>\n",
              "      <td>0</td>\n",
              "      <td>Pass</td>\n",
              "      <td>81.80</td>\n",
              "      <td>1.000</td>\n",
              "      <td>63.128534</td>\n",
              "      <td>1.564681</td>\n",
              "    </tr>\n",
              "    <tr>\n",
              "      <th>4947</th>\n",
              "      <td>0</td>\n",
              "      <td>Pass</td>\n",
              "      <td>80.05</td>\n",
              "      <td>1.000</td>\n",
              "      <td>92.756349</td>\n",
              "      <td>1.615318</td>\n",
              "    </tr>\n",
              "    <tr>\n",
              "      <th>4948</th>\n",
              "      <td>0</td>\n",
              "      <td>Pass</td>\n",
              "      <td>65.75</td>\n",
              "      <td>1.000</td>\n",
              "      <td>128.453230</td>\n",
              "      <td>1.975989</td>\n",
              "    </tr>\n",
              "    <tr>\n",
              "      <th>4949</th>\n",
              "      <td>1</td>\n",
              "      <td>Pass</td>\n",
              "      <td>71.05</td>\n",
              "      <td>1.000</td>\n",
              "      <td>77.007493</td>\n",
              "      <td>1.631076</td>\n",
              "    </tr>\n",
              "  </tbody>\n",
              "</table>\n",
              "<p>4950 rows × 6 columns</p>\n",
              "</div>"
            ],
            "text/plain": [
              "      num_of_prev_attempts final_result  ...        date  sum_click\n",
              "0                        0  Distinction  ...  103.457907   2.706754\n",
              "1                        0         Pass  ...   87.617265   1.539047\n",
              "2                        0         Pass  ...   49.181286   1.562619\n",
              "3                        0         Pass  ...  118.698642   2.189217\n",
              "4                        0  Distinction  ...   75.791987   2.100617\n",
              "...                    ...          ...  ...         ...        ...\n",
              "4945                     0         Pass  ...  122.839227   1.322085\n",
              "4946                     0         Pass  ...   63.128534   1.564681\n",
              "4947                     0         Pass  ...   92.756349   1.615318\n",
              "4948                     0         Pass  ...  128.453230   1.975989\n",
              "4949                     1         Pass  ...   77.007493   1.631076\n",
              "\n",
              "[4950 rows x 6 columns]"
            ]
          },
          "metadata": {
            "tags": []
          },
          "execution_count": 63
        }
      ]
    },
    {
      "cell_type": "markdown",
      "metadata": {
        "id": "-Zv6bj0v8elm"
      },
      "source": [
        "# data split"
      ]
    },
    {
      "cell_type": "code",
      "metadata": {
        "id": "QjmPqXz38f56"
      },
      "source": [
        "from sklearn import model_selection\n",
        "from sklearn.base import BaseEstimator, TransformerMixin\n",
        "from sklearn.preprocessing import MinMaxScaler\n",
        "train, test = model_selection.train_test_split(df, test_size=0.2)\n"
      ],
      "execution_count": 64,
      "outputs": []
    },
    {
      "cell_type": "markdown",
      "metadata": {
        "id": "2-zXPdPAj5R_"
      },
      "source": [
        "# data preprocessing\n",
        "\n"
      ]
    },
    {
      "cell_type": "code",
      "metadata": {
        "id": "ZGte383_kBW6"
      },
      "source": [
        "class PrepareDataset(BaseEstimator, TransformerMixin):\n",
        "    def __init__(self, prepare_nn=False):\n",
        "        self.prepare_nn = prepare_nn\n",
        "    def fit(self, X):\n",
        "        return self\n",
        "    def transform(self, X):\n",
        "        y = X['final_result']\n",
        "        y = np.where(y == 'Distinction', 'Pass', y)\n",
        "        X = X.drop('final_result', axis=1)\n",
        "        if self.prepare_nn:\n",
        "            scaler = MinMaxScaler()\n",
        "            X = scaler.fit_transform(X)\n",
        "            return X, y\n",
        "        else:\n",
        "            return X, y\n",
        "\n"
      ],
      "execution_count": 65,
      "outputs": []
    },
    {
      "cell_type": "code",
      "metadata": {
        "id": "cKsnp-cDleB8"
      },
      "source": [
        "from imblearn.over_sampling import SMOTE\n",
        "\n",
        "sm = SMOTE(random_state=42)"
      ],
      "execution_count": 66,
      "outputs": []
    },
    {
      "cell_type": "code",
      "metadata": {
        "colab": {
          "base_uri": "https://localhost:8080/"
        },
        "id": "qZKA3J50ldiT",
        "outputId": "7761d660-7a2e-4f00-82dd-7bec8e16e543"
      },
      "source": [
        "data_prep = PrepareDataset()\n",
        "X_train, y_train = data_prep.transform(train)\n",
        "X_train.shape, y_train.shape"
      ],
      "execution_count": 67,
      "outputs": [
        {
          "output_type": "execute_result",
          "data": {
            "text/plain": [
              "((3960, 5), (3960,))"
            ]
          },
          "metadata": {
            "tags": []
          },
          "execution_count": 67
        }
      ]
    },
    {
      "cell_type": "code",
      "metadata": {
        "colab": {
          "base_uri": "https://localhost:8080/"
        },
        "id": "rlpfvZqsmdbo",
        "outputId": "6f272fa6-6236-425b-cb9b-de9b3af9445b"
      },
      "source": [
        "X_train, y_train = sm.fit_resample(X_train, y_train)\n",
        "X_train.shape, y_train.shape"
      ],
      "execution_count": 68,
      "outputs": [
        {
          "output_type": "stream",
          "text": [
            "/usr/local/lib/python3.7/dist-packages/sklearn/utils/deprecation.py:87: FutureWarning: Function safe_indexing is deprecated; safe_indexing is deprecated in version 0.22 and will be removed in version 0.24.\n",
            "  warnings.warn(msg, category=FutureWarning)\n"
          ],
          "name": "stderr"
        },
        {
          "output_type": "execute_result",
          "data": {
            "text/plain": [
              "((6860, 5), (6860,))"
            ]
          },
          "metadata": {
            "tags": []
          },
          "execution_count": 68
        }
      ]
    },
    {
      "cell_type": "markdown",
      "metadata": {
        "id": "zcRxs_D78xF1"
      },
      "source": [
        "# model set up"
      ]
    },
    {
      "cell_type": "markdown",
      "metadata": {
        "id": "L5sA2gkY81l-"
      },
      "source": [
        "## SVC"
      ]
    },
    {
      "cell_type": "code",
      "metadata": {
        "colab": {
          "base_uri": "https://localhost:8080/"
        },
        "id": "x2Cj_bge801I",
        "outputId": "263892ec-9567-4afe-ba40-3d404bcdf6f7"
      },
      "source": [
        "from sklearn.svm import SVC\n",
        "\n",
        "clf_SVC = SVC(kernel='rbf', probability=True)\n",
        "clf_SVC.fit(X_train, y_train)"
      ],
      "execution_count": 81,
      "outputs": [
        {
          "output_type": "execute_result",
          "data": {
            "text/plain": [
              "SVC(C=1.0, break_ties=False, cache_size=200, class_weight=None, coef0=0.0,\n",
              "    decision_function_shape='ovr', degree=3, gamma='scale', kernel='rbf',\n",
              "    max_iter=-1, probability=True, random_state=None, shrinking=True, tol=0.001,\n",
              "    verbose=False)"
            ]
          },
          "metadata": {
            "tags": []
          },
          "execution_count": 81
        }
      ]
    },
    {
      "cell_type": "markdown",
      "metadata": {
        "id": "LqHRtbNC9KjZ"
      },
      "source": [
        "## random forest"
      ]
    },
    {
      "cell_type": "code",
      "metadata": {
        "colab": {
          "base_uri": "https://localhost:8080/"
        },
        "id": "ZKhrdNCf9MFq",
        "outputId": "edd809d2-e894-495e-bc2a-08d0fba56c1b"
      },
      "source": [
        "from sklearn.ensemble import RandomForestClassifier\n",
        "\n",
        "\n",
        "clf_RanFor = RandomForestClassifier()\n",
        "clf_RanFor.fit(X_train,y_train)"
      ],
      "execution_count": 70,
      "outputs": [
        {
          "output_type": "execute_result",
          "data": {
            "text/plain": [
              "RandomForestClassifier(bootstrap=True, ccp_alpha=0.0, class_weight=None,\n",
              "                       criterion='gini', max_depth=None, max_features='auto',\n",
              "                       max_leaf_nodes=None, max_samples=None,\n",
              "                       min_impurity_decrease=0.0, min_impurity_split=None,\n",
              "                       min_samples_leaf=1, min_samples_split=2,\n",
              "                       min_weight_fraction_leaf=0.0, n_estimators=100,\n",
              "                       n_jobs=None, oob_score=False, random_state=None,\n",
              "                       verbose=0, warm_start=False)"
            ]
          },
          "metadata": {
            "tags": []
          },
          "execution_count": 70
        }
      ]
    },
    {
      "cell_type": "markdown",
      "metadata": {
        "id": "6QfeLBqo9QvE"
      },
      "source": [
        "## MLP"
      ]
    },
    {
      "cell_type": "code",
      "metadata": {
        "colab": {
          "base_uri": "https://localhost:8080/"
        },
        "id": "ar4gzKlH9U7s",
        "outputId": "0ab19d63-56ba-44d5-a19a-812d54e52b9f"
      },
      "source": [
        "from sklearn.neural_network import MLPClassifier\n",
        "from sklearn.model_selection import cross_val_score\n",
        "\n",
        "\n",
        "prep = PrepareDataset(prepare_nn=True)\n",
        "X_train_mlp, y_train_mlp = prep.transform(train)\n",
        "\n",
        "clf_MLP = MLPClassifier(random_state=1, max_iter=300)\n",
        "clf_MLP.fit(X_train_mlp, y_train_mlp)"
      ],
      "execution_count": 61,
      "outputs": [
        {
          "output_type": "execute_result",
          "data": {
            "text/plain": [
              "MLPClassifier(activation='relu', alpha=0.0001, batch_size='auto', beta_1=0.9,\n",
              "              beta_2=0.999, early_stopping=False, epsilon=1e-08,\n",
              "              hidden_layer_sizes=(100,), learning_rate='constant',\n",
              "              learning_rate_init=0.001, max_fun=15000, max_iter=300,\n",
              "              momentum=0.9, n_iter_no_change=10, nesterovs_momentum=True,\n",
              "              power_t=0.5, random_state=1, shuffle=True, solver='adam',\n",
              "              tol=0.0001, validation_fraction=0.1, verbose=False,\n",
              "              warm_start=False)"
            ]
          },
          "metadata": {
            "tags": []
          },
          "execution_count": 61
        }
      ]
    },
    {
      "cell_type": "markdown",
      "metadata": {
        "id": "5nDvpQVIAfIu"
      },
      "source": [
        "# assess accuracy"
      ]
    },
    {
      "cell_type": "code",
      "metadata": {
        "colab": {
          "base_uri": "https://localhost:8080/"
        },
        "id": "F2vYwtPzOYzf",
        "outputId": "e189aea4-b346-4ea3-cf6a-31d0be53a988"
      },
      "source": [
        "y_train_bool = np.where(y_train == 'Pass', 1, y_train)\n",
        "y_train_bool = np.where(y_train_bool == 'Fail', 0, y_train_bool)\n",
        "y_train_bool = y_train_bool.astype(bool)\n",
        "y_train_bool"
      ],
      "execution_count": 71,
      "outputs": [
        {
          "output_type": "execute_result",
          "data": {
            "text/plain": [
              "array([ True,  True,  True, ..., False, False, False])"
            ]
          },
          "metadata": {
            "tags": []
          },
          "execution_count": 71
        }
      ]
    },
    {
      "cell_type": "markdown",
      "metadata": {
        "id": "TGi23_wtBFeW"
      },
      "source": [
        "## SVC"
      ]
    },
    {
      "cell_type": "code",
      "metadata": {
        "colab": {
          "base_uri": "https://localhost:8080/",
          "height": 282
        },
        "id": "M318wfsnBE8m",
        "outputId": "55e6eb1d-a65c-47a7-da9d-69503b7da6f3"
      },
      "source": [
        "from sklearn.metrics import roc_curve, roc_auc_score\n",
        "from sklearn.metrics import precision_score, recall_score, confusion_matrix\n",
        "from sklearn.model_selection import cross_val_predict\n",
        "\n",
        "y_scores = cross_val_predict(clf_SVC, X_train, y_train_bool, cv=3)\n",
        "\n",
        "fpr, tpr, threshold = roc_curve(y_train_bool, y_scores)\n",
        "plt.plot(fpr,tpr)"
      ],
      "execution_count": 82,
      "outputs": [
        {
          "output_type": "execute_result",
          "data": {
            "text/plain": [
              "[<matplotlib.lines.Line2D at 0x7fb146b36990>]"
            ]
          },
          "metadata": {
            "tags": []
          },
          "execution_count": 82
        },
        {
          "output_type": "display_data",
          "data": {
            "image/png": "[encoded data removed]",
            "text/plain": [
              "<Figure size 432x288 with 1 Axes>"
            ]
          },
          "metadata": {
            "tags": [],
            "needs_background": "light"
          }
        }
      ]
    },
    {
      "cell_type": "code",
      "metadata": {
        "colab": {
          "base_uri": "https://localhost:8080/"
        },
        "id": "3CQ8N0adP8iR",
        "outputId": "27b8bea0-a1b8-4809-b54a-fb51b329eaa3"
      },
      "source": [
        "roc_auc_score(y_train_bool, y_scores)"
      ],
      "execution_count": 84,
      "outputs": [
        {
          "output_type": "execute_result",
          "data": {
            "text/plain": [
              "0.7540816326530612"
            ]
          },
          "metadata": {
            "tags": []
          },
          "execution_count": 84
        }
      ]
    },
    {
      "cell_type": "code",
      "metadata": {
        "colab": {
          "base_uri": "https://localhost:8080/"
        },
        "id": "YU-1TxDvTDBy",
        "outputId": "51c67553-1fa1-4671-8dab-3a99b75255a9"
      },
      "source": [
        "confusion_matrix(y_train_bool, y_scores)"
      ],
      "execution_count": 83,
      "outputs": [
        {
          "output_type": "execute_result",
          "data": {
            "text/plain": [
              "array([[3044,  386],\n",
              "       [1301, 2129]])"
            ]
          },
          "metadata": {
            "tags": []
          },
          "execution_count": 83
        }
      ]
    },
    {
      "cell_type": "markdown",
      "metadata": {
        "id": "13EV0dWQQLzG"
      },
      "source": [
        "## random forest"
      ]
    },
    {
      "cell_type": "code",
      "metadata": {
        "colab": {
          "base_uri": "https://localhost:8080/",
          "height": 282
        },
        "id": "o9vi8mxDQNwn",
        "outputId": "a530acb9-c5dc-4419-9149-00f18a1d0d5e"
      },
      "source": [
        "y_scores = cross_val_predict(clf_RanFor, X_train, y_train_bool)\n",
        "\n",
        "fpr, tpr, threshold = roc_curve(y_train_bool, y_scores)\n",
        "plt.plot(fpr, tpr)"
      ],
      "execution_count": 75,
      "outputs": [
        {
          "output_type": "execute_result",
          "data": {
            "text/plain": [
              "[<matplotlib.lines.Line2D at 0x7fb146bd7d90>]"
            ]
          },
          "metadata": {
            "tags": []
          },
          "execution_count": 75
        },
        {
          "output_type": "display_data",
          "data": {
            "image/png": "[encoded data removed]",
            "text/plain": [
              "<Figure size 432x288 with 1 Axes>"
            ]
          },
          "metadata": {
            "tags": [],
            "needs_background": "light"
          }
        }
      ]
    },
    {
      "cell_type": "code",
      "metadata": {
        "colab": {
          "base_uri": "https://localhost:8080/"
        },
        "id": "r5jd3KybQXVk",
        "outputId": "15186044-fcff-4604-c937-61cb0b68c097"
      },
      "source": [
        "roc_auc_score(y_train_bool, y_scores)"
      ],
      "execution_count": 76,
      "outputs": [
        {
          "output_type": "execute_result",
          "data": {
            "text/plain": [
              "0.8963556851311955"
            ]
          },
          "metadata": {
            "tags": []
          },
          "execution_count": 76
        }
      ]
    },
    {
      "cell_type": "code",
      "metadata": {
        "colab": {
          "base_uri": "https://localhost:8080/"
        },
        "id": "ljdsxclLTJO3",
        "outputId": "9ef7424e-9fd8-44cf-c6b5-855a55cee7e8"
      },
      "source": [
        "confusion_matrix(y_train_bool, y_scores)"
      ],
      "execution_count": 77,
      "outputs": [
        {
          "output_type": "execute_result",
          "data": {
            "text/plain": [
              "array([[3154,  276],\n",
              "       [ 435, 2995]])"
            ]
          },
          "metadata": {
            "tags": []
          },
          "execution_count": 77
        }
      ]
    },
    {
      "cell_type": "markdown",
      "metadata": {
        "id": "RGEHLTgdQbRV"
      },
      "source": [
        "## MLP"
      ]
    },
    {
      "cell_type": "code",
      "metadata": {
        "colab": {
          "base_uri": "https://localhost:8080/",
          "height": 282
        },
        "id": "6hrfeiSJQcjk",
        "outputId": "5f250af5-b632-4d4d-ea41-fe03c312deb4"
      },
      "source": [
        "y_scores = cross_val_predict(clf_MLP, X_train, y_train_bool)\n",
        "\n",
        "fpr, tpr, threshold = roc_curve(y_train_bool, y_scores)\n",
        "plt.plot(fpr, tpr)"
      ],
      "execution_count": 78,
      "outputs": [
        {
          "output_type": "execute_result",
          "data": {
            "text/plain": [
              "[<matplotlib.lines.Line2D at 0x7fb146b48790>]"
            ]
          },
          "metadata": {
            "tags": []
          },
          "execution_count": 78
        },
        {
          "output_type": "display_data",
          "data": {
            "image/png": "[encoded data removed]",
            "text/plain": [
              "<Figure size 432x288 with 1 Axes>"
            ]
          },
          "metadata": {
            "tags": [],
            "needs_background": "light"
          }
        }
      ]
    },
    {
      "cell_type": "code",
      "metadata": {
        "colab": {
          "base_uri": "https://localhost:8080/"
        },
        "id": "Exgs1FSBQrnM",
        "outputId": "83b03177-57a5-4f2a-f84a-6579f4c89804"
      },
      "source": [
        "roc_auc_score(y_train_bool, y_scores)"
      ],
      "execution_count": 79,
      "outputs": [
        {
          "output_type": "execute_result",
          "data": {
            "text/plain": [
              "0.7583090379008747"
            ]
          },
          "metadata": {
            "tags": []
          },
          "execution_count": 79
        }
      ]
    },
    {
      "cell_type": "code",
      "metadata": {
        "colab": {
          "base_uri": "https://localhost:8080/"
        },
        "id": "NIIXlY_HTKu2",
        "outputId": "81845add-4fe9-4b95-b95f-ae00f68051d7"
      },
      "source": [
        "confusion_matrix(y_train_bool, y_scores)"
      ],
      "execution_count": 80,
      "outputs": [
        {
          "output_type": "execute_result",
          "data": {
            "text/plain": [
              "array([[2834,  596],\n",
              "       [1062, 2368]])"
            ]
          },
          "metadata": {
            "tags": []
          },
          "execution_count": 80
        }
      ]
    }
  ]
}