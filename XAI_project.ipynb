{
  "nbformat": 4,
  "nbformat_minor": 0,
  "metadata": {
    "colab": {
      "name": "XAI-project.ipynb",
      "provenance": [],
      "authorship_tag": "ABX9TyOgtzc/rJagtZuX+LJPZuqG",
      "include_colab_link": true
    },
    "kernelspec": {
      "name": "python3",
      "display_name": "Python 3"
    },
    "language_info": {
      "name": "python"
    }
  },
  "cells": [
    {
      "cell_type": "markdown",
      "metadata": {
        "id": "view-in-github",
        "colab_type": "text"
      },
      "source": [
        "<a href=\"https://colab.research.google.com/github/unofficial-Jona/XAI-Group/blob/master/XAI_project.ipynb\" target=\"_parent\"><img src=\"https://colab.research.google.com/assets/colab-badge.svg\" alt=\"Open In Colab\"/></a>"
      ]
    },
    {
      "cell_type": "markdown",
      "metadata": {
        "id": "u6fffWX_4b--"
      },
      "source": [
        "# Load Data"
      ]
    },
    {
      "cell_type": "code",
      "metadata": {
        "id": "FANzadmm8GMR"
      },
      "source": [
        "import numpy as np\n",
        "import pandas as pd\n",
        "import matplotlib.pyplot as plt\n"
      ],
      "execution_count": 175,
      "outputs": []
    },
    {
      "cell_type": "code",
      "metadata": {
        "colab": {
          "base_uri": "https://localhost:8080/",
          "height": 419
        },
        "id": "x_rDljC27v4U",
        "outputId": "2ffd2d9c-2455-4fa9-c8fb-73f42a7b81e8"
      },
      "source": [
        "df = pd.read_csv('initialized_dataset')\n",
        "df"
      ],
      "execution_count": 176,
      "outputs": [
        {
          "output_type": "execute_result",
          "data": {
            "text/html": [
              "<div>\n",
              "<style scoped>\n",
              "    .dataframe tbody tr th:only-of-type {\n",
              "        vertical-align: middle;\n",
              "    }\n",
              "\n",
              "    .dataframe tbody tr th {\n",
              "        vertical-align: top;\n",
              "    }\n",
              "\n",
              "    .dataframe thead th {\n",
              "        text-align: right;\n",
              "    }\n",
              "</style>\n",
              "<table border=\"1\" class=\"dataframe\">\n",
              "  <thead>\n",
              "    <tr style=\"text-align: right;\">\n",
              "      <th></th>\n",
              "      <th>num_of_prev_attempts</th>\n",
              "      <th>final_result</th>\n",
              "      <th>weighted_grade</th>\n",
              "      <th>pass_rate</th>\n",
              "      <th>date</th>\n",
              "      <th>sum_click</th>\n",
              "    </tr>\n",
              "  </thead>\n",
              "  <tbody>\n",
              "    <tr>\n",
              "      <th>0</th>\n",
              "      <td>0</td>\n",
              "      <td>Distinction</td>\n",
              "      <td>89.65</td>\n",
              "      <td>1.000</td>\n",
              "      <td>103.457907</td>\n",
              "      <td>2.706754</td>\n",
              "    </tr>\n",
              "    <tr>\n",
              "      <th>1</th>\n",
              "      <td>0</td>\n",
              "      <td>Pass</td>\n",
              "      <td>84.58</td>\n",
              "      <td>1.000</td>\n",
              "      <td>87.617265</td>\n",
              "      <td>1.539047</td>\n",
              "    </tr>\n",
              "    <tr>\n",
              "      <th>2</th>\n",
              "      <td>0</td>\n",
              "      <td>Pass</td>\n",
              "      <td>51.44</td>\n",
              "      <td>0.625</td>\n",
              "      <td>49.181286</td>\n",
              "      <td>1.562619</td>\n",
              "    </tr>\n",
              "    <tr>\n",
              "      <th>3</th>\n",
              "      <td>0</td>\n",
              "      <td>Pass</td>\n",
              "      <td>75.13</td>\n",
              "      <td>1.000</td>\n",
              "      <td>118.698642</td>\n",
              "      <td>2.189217</td>\n",
              "    </tr>\n",
              "    <tr>\n",
              "      <th>4</th>\n",
              "      <td>0</td>\n",
              "      <td>Distinction</td>\n",
              "      <td>93.22</td>\n",
              "      <td>1.000</td>\n",
              "      <td>75.791987</td>\n",
              "      <td>2.100617</td>\n",
              "    </tr>\n",
              "    <tr>\n",
              "      <th>...</th>\n",
              "      <td>...</td>\n",
              "      <td>...</td>\n",
              "      <td>...</td>\n",
              "      <td>...</td>\n",
              "      <td>...</td>\n",
              "      <td>...</td>\n",
              "    </tr>\n",
              "    <tr>\n",
              "      <th>4945</th>\n",
              "      <td>0</td>\n",
              "      <td>Pass</td>\n",
              "      <td>87.30</td>\n",
              "      <td>1.000</td>\n",
              "      <td>122.839227</td>\n",
              "      <td>1.322085</td>\n",
              "    </tr>\n",
              "    <tr>\n",
              "      <th>4946</th>\n",
              "      <td>0</td>\n",
              "      <td>Pass</td>\n",
              "      <td>81.80</td>\n",
              "      <td>1.000</td>\n",
              "      <td>63.128534</td>\n",
              "      <td>1.564681</td>\n",
              "    </tr>\n",
              "    <tr>\n",
              "      <th>4947</th>\n",
              "      <td>0</td>\n",
              "      <td>Pass</td>\n",
              "      <td>80.05</td>\n",
              "      <td>1.000</td>\n",
              "      <td>92.756349</td>\n",
              "      <td>1.615318</td>\n",
              "    </tr>\n",
              "    <tr>\n",
              "      <th>4948</th>\n",
              "      <td>0</td>\n",
              "      <td>Pass</td>\n",
              "      <td>65.75</td>\n",
              "      <td>1.000</td>\n",
              "      <td>128.453230</td>\n",
              "      <td>1.975989</td>\n",
              "    </tr>\n",
              "    <tr>\n",
              "      <th>4949</th>\n",
              "      <td>1</td>\n",
              "      <td>Pass</td>\n",
              "      <td>71.05</td>\n",
              "      <td>1.000</td>\n",
              "      <td>77.007493</td>\n",
              "      <td>1.631076</td>\n",
              "    </tr>\n",
              "  </tbody>\n",
              "</table>\n",
              "<p>4950 rows × 6 columns</p>\n",
              "</div>"
            ],
            "text/plain": [
              "      num_of_prev_attempts final_result  ...        date  sum_click\n",
              "0                        0  Distinction  ...  103.457907   2.706754\n",
              "1                        0         Pass  ...   87.617265   1.539047\n",
              "2                        0         Pass  ...   49.181286   1.562619\n",
              "3                        0         Pass  ...  118.698642   2.189217\n",
              "4                        0  Distinction  ...   75.791987   2.100617\n",
              "...                    ...          ...  ...         ...        ...\n",
              "4945                     0         Pass  ...  122.839227   1.322085\n",
              "4946                     0         Pass  ...   63.128534   1.564681\n",
              "4947                     0         Pass  ...   92.756349   1.615318\n",
              "4948                     0         Pass  ...  128.453230   1.975989\n",
              "4949                     1         Pass  ...   77.007493   1.631076\n",
              "\n",
              "[4950 rows x 6 columns]"
            ]
          },
          "metadata": {
            "tags": []
          },
          "execution_count": 176
        }
      ]
    },
    {
      "cell_type": "markdown",
      "metadata": {
        "id": "-Zv6bj0v8elm"
      },
      "source": [
        "# data split"
      ]
    },
    {
      "cell_type": "code",
      "metadata": {
        "id": "QjmPqXz38f56"
      },
      "source": [
        "from sklearn import model_selection\n",
        "from sklearn.base import BaseEstimator, TransformerMixin\n",
        "from sklearn.preprocessing import MinMaxScaler\n",
        "train, test = model_selection.train_test_split(df, test_size=0.2)\n"
      ],
      "execution_count": 177,
      "outputs": []
    },
    {
      "cell_type": "markdown",
      "metadata": {
        "id": "2-zXPdPAj5R_"
      },
      "source": [
        "# data preprocessing\n",
        "\n"
      ]
    },
    {
      "cell_type": "code",
      "metadata": {
        "id": "ZGte383_kBW6"
      },
      "source": [
        "class PrepareDataset(BaseEstimator, TransformerMixin):\n",
        "    def __init__(self, prepare_nn=False):\n",
        "        self.prepare_nn = prepare_nn\n",
        "    def fit(self, X):\n",
        "        return self\n",
        "    def transform(self, X):\n",
        "        y = X['final_result']\n",
        "        y = np.where(y == 'Distinction', 1, y)\n",
        "        y = np.where(y == 'Pass', 1, y)\n",
        "        y = np.where(y == 'Fail', 0, y)\n",
        "        y = y.astype('bool')\n",
        "        X = X.drop('final_result', axis=1)\n",
        "        if self.prepare_nn:\n",
        "            scaler = MinMaxScaler()\n",
        "            X = scaler.fit_transform(X)\n",
        "            return X, y\n",
        "        else:\n",
        "            return X, y\n",
        "\n"
      ],
      "execution_count": 178,
      "outputs": []
    },
    {
      "cell_type": "code",
      "metadata": {
        "id": "cKsnp-cDleB8"
      },
      "source": [
        "from imblearn.over_sampling import SMOTE\n",
        "\n",
        "sm = SMOTE(random_state=42)"
      ],
      "execution_count": 179,
      "outputs": []
    },
    {
      "cell_type": "code",
      "metadata": {
        "colab": {
          "base_uri": "https://localhost:8080/"
        },
        "id": "qZKA3J50ldiT",
        "outputId": "47038cde-afc2-4116-9d3c-0437363e2ec8"
      },
      "source": [
        "data_prep = PrepareDataset(prepare_nn=True)\n",
        "X_train, y_train = data_prep.transform(train)\n",
        "X_train.shape, y_train.shape"
      ],
      "execution_count": 180,
      "outputs": [
        {
          "output_type": "execute_result",
          "data": {
            "text/plain": [
              "((3960, 5), (3960,))"
            ]
          },
          "metadata": {
            "tags": []
          },
          "execution_count": 180
        }
      ]
    },
    {
      "cell_type": "code",
      "metadata": {
        "colab": {
          "base_uri": "https://localhost:8080/"
        },
        "id": "rlpfvZqsmdbo",
        "outputId": "0b859b4e-e57a-48eb-8aa1-c2d7e39ced58"
      },
      "source": [
        "X_train, y_train = sm.fit_resample(X_train, y_train)\n",
        "X_train.shape, y_train.shape"
      ],
      "execution_count": 181,
      "outputs": [
        {
          "output_type": "stream",
          "text": [
            "/usr/local/lib/python3.7/dist-packages/sklearn/utils/deprecation.py:87: FutureWarning: Function safe_indexing is deprecated; safe_indexing is deprecated in version 0.22 and will be removed in version 0.24.\n",
            "  warnings.warn(msg, category=FutureWarning)\n"
          ],
          "name": "stderr"
        },
        {
          "output_type": "execute_result",
          "data": {
            "text/plain": [
              "((6858, 5), (6858,))"
            ]
          },
          "metadata": {
            "tags": []
          },
          "execution_count": 181
        }
      ]
    },
    {
      "cell_type": "code",
      "metadata": {
        "colab": {
          "base_uri": "https://localhost:8080/"
        },
        "id": "AzZUuDELvoNx",
        "outputId": "ee42cea3-e196-4a2a-e5f3-c67dae4ab4bc"
      },
      "source": [
        "y_train"
      ],
      "execution_count": 182,
      "outputs": [
        {
          "output_type": "execute_result",
          "data": {
            "text/plain": [
              "array([ True,  True,  True, ..., False, False, False])"
            ]
          },
          "metadata": {
            "tags": []
          },
          "execution_count": 182
        }
      ]
    },
    {
      "cell_type": "markdown",
      "metadata": {
        "id": "zcRxs_D78xF1"
      },
      "source": [
        "# model set up"
      ]
    },
    {
      "cell_type": "markdown",
      "metadata": {
        "id": "L5sA2gkY81l-"
      },
      "source": [
        "## SVC"
      ]
    },
    {
      "cell_type": "code",
      "metadata": {
        "colab": {
          "base_uri": "https://localhost:8080/"
        },
        "id": "x2Cj_bge801I",
        "outputId": "7d525435-7801-4307-f3aa-d490b9b8ed71"
      },
      "source": [
        "from sklearn.svm import SVC\n",
        "\n",
        "clf_SVC = SVC(kernel='linear', probability=True)\n",
        "clf_SVC.fit(X_train, y_train)"
      ],
      "execution_count": 183,
      "outputs": [
        {
          "output_type": "execute_result",
          "data": {
            "text/plain": [
              "SVC(C=1.0, break_ties=False, cache_size=200, class_weight=None, coef0=0.0,\n",
              "    decision_function_shape='ovr', degree=3, gamma='scale', kernel='linear',\n",
              "    max_iter=-1, probability=True, random_state=None, shrinking=True, tol=0.001,\n",
              "    verbose=False)"
            ]
          },
          "metadata": {
            "tags": []
          },
          "execution_count": 183
        }
      ]
    },
    {
      "cell_type": "markdown",
      "metadata": {
        "id": "LqHRtbNC9KjZ"
      },
      "source": [
        "## random forest"
      ]
    },
    {
      "cell_type": "code",
      "metadata": {
        "colab": {
          "base_uri": "https://localhost:8080/"
        },
        "id": "ZKhrdNCf9MFq",
        "outputId": "06582c6c-33cc-4300-9b44-4e7331b8cf88"
      },
      "source": [
        "from sklearn.ensemble import RandomForestClassifier\n",
        "\n",
        "\n",
        "clf_RanFor = RandomForestClassifier()\n",
        "clf_RanFor.fit(X_train,y_train)"
      ],
      "execution_count": 184,
      "outputs": [
        {
          "output_type": "execute_result",
          "data": {
            "text/plain": [
              "RandomForestClassifier(bootstrap=True, ccp_alpha=0.0, class_weight=None,\n",
              "                       criterion='gini', max_depth=None, max_features='auto',\n",
              "                       max_leaf_nodes=None, max_samples=None,\n",
              "                       min_impurity_decrease=0.0, min_impurity_split=None,\n",
              "                       min_samples_leaf=1, min_samples_split=2,\n",
              "                       min_weight_fraction_leaf=0.0, n_estimators=100,\n",
              "                       n_jobs=None, oob_score=False, random_state=None,\n",
              "                       verbose=0, warm_start=False)"
            ]
          },
          "metadata": {
            "tags": []
          },
          "execution_count": 184
        }
      ]
    },
    {
      "cell_type": "markdown",
      "metadata": {
        "id": "6QfeLBqo9QvE"
      },
      "source": [
        "## MLP"
      ]
    },
    {
      "cell_type": "code",
      "metadata": {
        "colab": {
          "base_uri": "https://localhost:8080/"
        },
        "id": "ar4gzKlH9U7s",
        "outputId": "3d26aa15-4c9d-4afa-9208-56041421ad0e"
      },
      "source": [
        "from sklearn.neural_network import MLPClassifier\n",
        "from sklearn.model_selection import cross_val_score\n",
        "\n",
        "\n",
        "clf_MLP = MLPClassifier(random_state=1, max_iter=400)\n",
        "clf_MLP.fit(X_train, y_train)"
      ],
      "execution_count": 185,
      "outputs": [
        {
          "output_type": "execute_result",
          "data": {
            "text/plain": [
              "MLPClassifier(activation='relu', alpha=0.0001, batch_size='auto', beta_1=0.9,\n",
              "              beta_2=0.999, early_stopping=False, epsilon=1e-08,\n",
              "              hidden_layer_sizes=(100,), learning_rate='constant',\n",
              "              learning_rate_init=0.001, max_fun=15000, max_iter=400,\n",
              "              momentum=0.9, n_iter_no_change=10, nesterovs_momentum=True,\n",
              "              power_t=0.5, random_state=1, shuffle=True, solver='adam',\n",
              "              tol=0.0001, validation_fraction=0.1, verbose=False,\n",
              "              warm_start=False)"
            ]
          },
          "metadata": {
            "tags": []
          },
          "execution_count": 185
        }
      ]
    },
    {
      "cell_type": "markdown",
      "metadata": {
        "id": "5nDvpQVIAfIu"
      },
      "source": [
        "# assess accuracy (train data)\n"
      ]
    },
    {
      "cell_type": "markdown",
      "metadata": {
        "id": "TGi23_wtBFeW"
      },
      "source": [
        "## SVC"
      ]
    },
    {
      "cell_type": "code",
      "metadata": {
        "colab": {
          "base_uri": "https://localhost:8080/",
          "height": 282
        },
        "id": "M318wfsnBE8m",
        "outputId": "d54f602c-3377-43e6-dd09-4b83221a3c06"
      },
      "source": [
        "from sklearn.metrics import roc_curve, roc_auc_score\n",
        "from sklearn.metrics import precision_score, recall_score, confusion_matrix\n",
        "from sklearn.model_selection import cross_val_predict\n",
        "\n",
        "y_scores = cross_val_predict(clf_SVC, X_train, y_train, cv=3)\n",
        "\n",
        "fpr, tpr, threshold = roc_curve(y_train, y_scores)\n",
        "plt.plot(fpr,tpr)"
      ],
      "execution_count": 186,
      "outputs": [
        {
          "output_type": "execute_result",
          "data": {
            "text/plain": [
              "[<matplotlib.lines.Line2D at 0x7fb1460bdf50>]"
            ]
          },
          "metadata": {
            "tags": []
          },
          "execution_count": 186
        },
        {
          "output_type": "display_data",
          "data": {
            "image/png": "[encoded data removed]",
            "text/plain": [
              "<Figure size 432x288 with 1 Axes>"
            ]
          },
          "metadata": {
            "tags": [],
            "needs_background": "light"
          }
        }
      ]
    },
    {
      "cell_type": "code",
      "metadata": {
        "colab": {
          "base_uri": "https://localhost:8080/"
        },
        "id": "3CQ8N0adP8iR",
        "outputId": "7f83d7ca-7e05-470d-ddd8-1df4c32bc434"
      },
      "source": [
        "roc_auc_score(y_train, y_scores)"
      ],
      "execution_count": 187,
      "outputs": [
        {
          "output_type": "execute_result",
          "data": {
            "text/plain": [
              "0.7570720326625838"
            ]
          },
          "metadata": {
            "tags": []
          },
          "execution_count": 187
        }
      ]
    },
    {
      "cell_type": "code",
      "metadata": {
        "colab": {
          "base_uri": "https://localhost:8080/"
        },
        "id": "YU-1TxDvTDBy",
        "outputId": "eff18801-b90e-4b92-8b7d-313657118d10"
      },
      "source": [
        "confusion_matrix(y_train, y_scores)"
      ],
      "execution_count": 188,
      "outputs": [
        {
          "output_type": "execute_result",
          "data": {
            "text/plain": [
              "array([[2972,  457],\n",
              "       [1209, 2220]])"
            ]
          },
          "metadata": {
            "tags": []
          },
          "execution_count": 188
        }
      ]
    },
    {
      "cell_type": "markdown",
      "metadata": {
        "id": "13EV0dWQQLzG"
      },
      "source": [
        "## random forest"
      ]
    },
    {
      "cell_type": "code",
      "metadata": {
        "colab": {
          "base_uri": "https://localhost:8080/",
          "height": 282
        },
        "id": "o9vi8mxDQNwn",
        "outputId": "fb9a5a95-558f-456f-9293-93a3c5e4ca8f"
      },
      "source": [
        "y_scores = cross_val_predict(clf_RanFor, X_train, y_train, cv=3)\n",
        "\n",
        "fpr, tpr, threshold = roc_curve(y_train, y_scores)\n",
        "plt.plot(fpr, tpr)"
      ],
      "execution_count": 189,
      "outputs": [
        {
          "output_type": "execute_result",
          "data": {
            "text/plain": [
              "[<matplotlib.lines.Line2D at 0x7fb146029c10>]"
            ]
          },
          "metadata": {
            "tags": []
          },
          "execution_count": 189
        },
        {
          "output_type": "display_data",
          "data": {
            "image/png": "[encoded data removed]",
            "text/plain": [
              "<Figure size 432x288 with 1 Axes>"
            ]
          },
          "metadata": {
            "tags": [],
            "needs_background": "light"
          }
        }
      ]
    },
    {
      "cell_type": "code",
      "metadata": {
        "colab": {
          "base_uri": "https://localhost:8080/"
        },
        "id": "r5jd3KybQXVk",
        "outputId": "6d34505a-7b4c-484c-ee99-d8e136b2ad12"
      },
      "source": [
        "roc_auc_score(y_train, y_scores)"
      ],
      "execution_count": 190,
      "outputs": [
        {
          "output_type": "execute_result",
          "data": {
            "text/plain": [
              "0.8687664041994752"
            ]
          },
          "metadata": {
            "tags": []
          },
          "execution_count": 190
        }
      ]
    },
    {
      "cell_type": "code",
      "metadata": {
        "colab": {
          "base_uri": "https://localhost:8080/"
        },
        "id": "ljdsxclLTJO3",
        "outputId": "f629f22c-a362-4944-cd8a-507d7f3e029f"
      },
      "source": [
        "confusion_matrix(y_train, y_scores)"
      ],
      "execution_count": 191,
      "outputs": [
        {
          "output_type": "execute_result",
          "data": {
            "text/plain": [
              "array([[3163,  266],\n",
              "       [ 634, 2795]])"
            ]
          },
          "metadata": {
            "tags": []
          },
          "execution_count": 191
        }
      ]
    },
    {
      "cell_type": "markdown",
      "metadata": {
        "id": "RGEHLTgdQbRV"
      },
      "source": [
        "## MLP"
      ]
    },
    {
      "cell_type": "code",
      "metadata": {
        "colab": {
          "base_uri": "https://localhost:8080/",
          "height": 282
        },
        "id": "6hrfeiSJQcjk",
        "outputId": "052dd48d-e16e-4c61-93cc-ba893db64a9e"
      },
      "source": [
        "y_scores = cross_val_predict(clf_MLP, X_train, y_train, cv=3)\n",
        "\n",
        "fpr, tpr, threshold = roc_curve(y_train, y_scores)\n",
        "plt.plot(fpr, tpr)"
      ],
      "execution_count": 192,
      "outputs": [
        {
          "output_type": "execute_result",
          "data": {
            "text/plain": [
              "[<matplotlib.lines.Line2D at 0x7fb145f9a3d0>]"
            ]
          },
          "metadata": {
            "tags": []
          },
          "execution_count": 192
        },
        {
          "output_type": "display_data",
          "data": {
            "image/png": "[encoded data removed]",
            "text/plain": [
              "<Figure size 432x288 with 1 Axes>"
            ]
          },
          "metadata": {
            "tags": [],
            "needs_background": "light"
          }
        }
      ]
    },
    {
      "cell_type": "code",
      "metadata": {
        "colab": {
          "base_uri": "https://localhost:8080/"
        },
        "id": "Exgs1FSBQrnM",
        "outputId": "689a842d-efd1-4926-839a-3e9a8ef84d4f"
      },
      "source": [
        "roc_auc_score(y_train, y_scores)"
      ],
      "execution_count": 193,
      "outputs": [
        {
          "output_type": "execute_result",
          "data": {
            "text/plain": [
              "0.795567220764071"
            ]
          },
          "metadata": {
            "tags": []
          },
          "execution_count": 193
        }
      ]
    },
    {
      "cell_type": "code",
      "metadata": {
        "colab": {
          "base_uri": "https://localhost:8080/"
        },
        "id": "NIIXlY_HTKu2",
        "outputId": "08568523-27ba-4807-b5d0-5cb3ae50e601"
      },
      "source": [
        "confusion_matrix(y_train, y_scores)"
      ],
      "execution_count": 194,
      "outputs": [
        {
          "output_type": "execute_result",
          "data": {
            "text/plain": [
              "array([[2985,  444],\n",
              "       [ 958, 2471]])"
            ]
          },
          "metadata": {
            "tags": []
          },
          "execution_count": 194
        }
      ]
    },
    {
      "cell_type": "markdown",
      "metadata": {
        "id": "W4Bw8-aJo8PF"
      },
      "source": [
        "# assess accuracy (test data)"
      ]
    },
    {
      "cell_type": "code",
      "metadata": {
        "colab": {
          "base_uri": "https://localhost:8080/"
        },
        "id": "00PKuGAZtsYG",
        "outputId": "aa5dff92-1d48-4327-d06f-7922c11db52b"
      },
      "source": [
        "X_test, y_test = data_prep.transform(test)\n",
        "X_test, y_test = sm.fit_resample(X_test, y_test)"
      ],
      "execution_count": 195,
      "outputs": [
        {
          "output_type": "stream",
          "text": [
            "/usr/local/lib/python3.7/dist-packages/sklearn/utils/deprecation.py:87: FutureWarning: Function safe_indexing is deprecated; safe_indexing is deprecated in version 0.22 and will be removed in version 0.24.\n",
            "  warnings.warn(msg, category=FutureWarning)\n"
          ],
          "name": "stderr"
        }
      ]
    },
    {
      "cell_type": "markdown",
      "metadata": {
        "id": "PLZOn2JFpCl6"
      },
      "source": [
        "## SVC"
      ]
    },
    {
      "cell_type": "code",
      "metadata": {
        "colab": {
          "base_uri": "https://localhost:8080/",
          "height": 282
        },
        "id": "7Yl_vY54o78g",
        "outputId": "6d58af9f-794e-4866-cf29-5e5f53a0825e"
      },
      "source": [
        "y_scores = clf_SVC.predict(X_test)\n",
        "\n",
        "fpr, tpr, threshold = roc_curve(y_test, y_scores)\n",
        "plt.plot(fpr, tpr)"
      ],
      "execution_count": 196,
      "outputs": [
        {
          "output_type": "execute_result",
          "data": {
            "text/plain": [
              "[<matplotlib.lines.Line2D at 0x7fb145f13210>]"
            ]
          },
          "metadata": {
            "tags": []
          },
          "execution_count": 196
        },
        {
          "output_type": "display_data",
          "data": {
            "image/png": "[encoded data removed]",
            "text/plain": [
              "<Figure size 432x288 with 1 Axes>"
            ]
          },
          "metadata": {
            "tags": [],
            "needs_background": "light"
          }
        }
      ]
    },
    {
      "cell_type": "code",
      "metadata": {
        "colab": {
          "base_uri": "https://localhost:8080/"
        },
        "id": "ep1LssAzwKHQ",
        "outputId": "c64981d6-0711-440c-d9c1-9a1191c9ffbf"
      },
      "source": [
        "roc_auc_score(y_test, y_scores)"
      ],
      "execution_count": 197,
      "outputs": [
        {
          "output_type": "execute_result",
          "data": {
            "text/plain": [
              "0.772887323943662"
            ]
          },
          "metadata": {
            "tags": []
          },
          "execution_count": 197
        }
      ]
    },
    {
      "cell_type": "code",
      "metadata": {
        "colab": {
          "base_uri": "https://localhost:8080/"
        },
        "id": "GAIDovB-wbEW",
        "outputId": "df3f4582-a20b-4ae8-ca5a-87449a3d66bf"
      },
      "source": [
        "confusion_matrix(y_test, y_scores)"
      ],
      "execution_count": 198,
      "outputs": [
        {
          "output_type": "execute_result",
          "data": {
            "text/plain": [
              "array([[742, 110],\n",
              "       [277, 575]])"
            ]
          },
          "metadata": {
            "tags": []
          },
          "execution_count": 198
        }
      ]
    },
    {
      "cell_type": "markdown",
      "metadata": {
        "id": "uZY1C1Jewm8b"
      },
      "source": [
        "## random forest\n"
      ]
    },
    {
      "cell_type": "code",
      "metadata": {
        "colab": {
          "base_uri": "https://localhost:8080/",
          "height": 282
        },
        "id": "kvztssFHwsBb",
        "outputId": "70dec1f8-70ef-4b3d-8493-7d8555b33e4a"
      },
      "source": [
        "y_scores = clf_RanFor.predict(X_test)\n",
        "\n",
        "fpr, tpr, threshold = roc_curve(y_test, y_scores)\n",
        "plt.plot(fpr, tpr)"
      ],
      "execution_count": 199,
      "outputs": [
        {
          "output_type": "execute_result",
          "data": {
            "text/plain": [
              "[<matplotlib.lines.Line2D at 0x7fb145ead850>]"
            ]
          },
          "metadata": {
            "tags": []
          },
          "execution_count": 199
        },
        {
          "output_type": "display_data",
          "data": {
            "image/png": "[encoded data removed]",
            "text/plain": [
              "<Figure size 432x288 with 1 Axes>"
            ]
          },
          "metadata": {
            "tags": [],
            "needs_background": "light"
          }
        }
      ]
    },
    {
      "cell_type": "code",
      "metadata": {
        "colab": {
          "base_uri": "https://localhost:8080/"
        },
        "id": "b9oIXe3Gw2cP",
        "outputId": "9585f09a-9f69-4b7c-eeff-2b235ed49e1f"
      },
      "source": [
        "roc_auc_score(y_test, y_scores)"
      ],
      "execution_count": 200,
      "outputs": [
        {
          "output_type": "execute_result",
          "data": {
            "text/plain": [
              "0.6678403755868545"
            ]
          },
          "metadata": {
            "tags": []
          },
          "execution_count": 200
        }
      ]
    },
    {
      "cell_type": "code",
      "metadata": {
        "colab": {
          "base_uri": "https://localhost:8080/"
        },
        "id": "i-BqRKbYw5s8",
        "outputId": "c36be138-4b05-47f6-c036-0bc3a34c606d"
      },
      "source": [
        "confusion_matrix(y_test, y_scores)"
      ],
      "execution_count": 201,
      "outputs": [
        {
          "output_type": "execute_result",
          "data": {
            "text/plain": [
              "array([[384, 468],\n",
              "       [ 98, 754]])"
            ]
          },
          "metadata": {
            "tags": []
          },
          "execution_count": 201
        }
      ]
    },
    {
      "cell_type": "markdown",
      "metadata": {
        "id": "WDLeFi1Ww8Ky"
      },
      "source": [
        "## MLP"
      ]
    },
    {
      "cell_type": "code",
      "metadata": {
        "colab": {
          "base_uri": "https://localhost:8080/",
          "height": 282
        },
        "id": "NP7CylWhw9y5",
        "outputId": "8d44245a-4ea9-43e5-a797-de8d0a5da96a"
      },
      "source": [
        "y_scores = clf_MLP.predict(X_test)\n",
        "\n",
        "fpr, tpr, threshold = roc_curve(y_test, y_scores)\n",
        "plt.plot(fpr, tpr)"
      ],
      "execution_count": 202,
      "outputs": [
        {
          "output_type": "execute_result",
          "data": {
            "text/plain": [
              "[<matplotlib.lines.Line2D at 0x7fb145e1d450>]"
            ]
          },
          "metadata": {
            "tags": []
          },
          "execution_count": 202
        },
        {
          "output_type": "display_data",
          "data": {
            "image/png": "[encoded data removed]",
            "text/plain": [
              "<Figure size 432x288 with 1 Axes>"
            ]
          },
          "metadata": {
            "tags": [],
            "needs_background": "light"
          }
        }
      ]
    },
    {
      "cell_type": "code",
      "metadata": {
        "colab": {
          "base_uri": "https://localhost:8080/"
        },
        "id": "RfE21EyvxJKE",
        "outputId": "87c7611b-7a23-406d-ab70-a509281956b6"
      },
      "source": [
        "roc_auc_score(y_test, y_scores)"
      ],
      "execution_count": 203,
      "outputs": [
        {
          "output_type": "execute_result",
          "data": {
            "text/plain": [
              "0.6960093896713616"
            ]
          },
          "metadata": {
            "tags": []
          },
          "execution_count": 203
        }
      ]
    },
    {
      "cell_type": "code",
      "metadata": {
        "colab": {
          "base_uri": "https://localhost:8080/"
        },
        "id": "m0sbX83xxNLD",
        "outputId": "6fb60165-7250-44c9-bd39-2f1bcbc739fd"
      },
      "source": [
        "confusion_matrix(y_test, y_scores)"
      ],
      "execution_count": 204,
      "outputs": [
        {
          "output_type": "execute_result",
          "data": {
            "text/plain": [
              "array([[459, 393],\n",
              "       [125, 727]])"
            ]
          },
          "metadata": {
            "tags": []
          },
          "execution_count": 204
        }
      ]
    }
  ]
}